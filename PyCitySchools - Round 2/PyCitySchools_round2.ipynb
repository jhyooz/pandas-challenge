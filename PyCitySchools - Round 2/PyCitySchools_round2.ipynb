{
 "cells": [
  {
   "attachments": {},
   "cell_type": "markdown",
   "metadata": {},
   "source": [
    "# PyCity Schools Analysis\n",
    "\n",
    "- Your analysis here\n",
    "  \n",
    "---"
   ]
  },
  {
   "cell_type": "code",
   "execution_count": 3,
   "metadata": {
    "ExecuteTime": {
     "end_time": "2023-11-30T00:59:05.261087Z",
     "start_time": "2023-11-30T00:59:05.137267Z"
    }
   },
   "outputs": [
    {
     "data": {
      "text/plain": "   Student ID       student_name gender grade        school_name  \\\n0           0       Paul Bradley      M   9th  Huang High School   \n1           1       Victor Smith      M  12th  Huang High School   \n2           2    Kevin Rodriguez      M  12th  Huang High School   \n3           3  Dr. Richard Scott      M  12th  Huang High School   \n4           4         Bonnie Ray      F   9th  Huang High School   \n\n   reading_score  math_score  School ID      type  size   budget  \n0             66          79          0  District  2917  1910635  \n1             94          61          0  District  2917  1910635  \n2             90          60          0  District  2917  1910635  \n3             67          58          0  District  2917  1910635  \n4             97          84          0  District  2917  1910635  ",
      "text/html": "<div>\n<style scoped>\n    .dataframe tbody tr th:only-of-type {\n        vertical-align: middle;\n    }\n\n    .dataframe tbody tr th {\n        vertical-align: top;\n    }\n\n    .dataframe thead th {\n        text-align: right;\n    }\n</style>\n<table border=\"1\" class=\"dataframe\">\n  <thead>\n    <tr style=\"text-align: right;\">\n      <th></th>\n      <th>Student ID</th>\n      <th>student_name</th>\n      <th>gender</th>\n      <th>grade</th>\n      <th>school_name</th>\n      <th>reading_score</th>\n      <th>math_score</th>\n      <th>School ID</th>\n      <th>type</th>\n      <th>size</th>\n      <th>budget</th>\n    </tr>\n  </thead>\n  <tbody>\n    <tr>\n      <th>0</th>\n      <td>0</td>\n      <td>Paul Bradley</td>\n      <td>M</td>\n      <td>9th</td>\n      <td>Huang High School</td>\n      <td>66</td>\n      <td>79</td>\n      <td>0</td>\n      <td>District</td>\n      <td>2917</td>\n      <td>1910635</td>\n    </tr>\n    <tr>\n      <th>1</th>\n      <td>1</td>\n      <td>Victor Smith</td>\n      <td>M</td>\n      <td>12th</td>\n      <td>Huang High School</td>\n      <td>94</td>\n      <td>61</td>\n      <td>0</td>\n      <td>District</td>\n      <td>2917</td>\n      <td>1910635</td>\n    </tr>\n    <tr>\n      <th>2</th>\n      <td>2</td>\n      <td>Kevin Rodriguez</td>\n      <td>M</td>\n      <td>12th</td>\n      <td>Huang High School</td>\n      <td>90</td>\n      <td>60</td>\n      <td>0</td>\n      <td>District</td>\n      <td>2917</td>\n      <td>1910635</td>\n    </tr>\n    <tr>\n      <th>3</th>\n      <td>3</td>\n      <td>Dr. Richard Scott</td>\n      <td>M</td>\n      <td>12th</td>\n      <td>Huang High School</td>\n      <td>67</td>\n      <td>58</td>\n      <td>0</td>\n      <td>District</td>\n      <td>2917</td>\n      <td>1910635</td>\n    </tr>\n    <tr>\n      <th>4</th>\n      <td>4</td>\n      <td>Bonnie Ray</td>\n      <td>F</td>\n      <td>9th</td>\n      <td>Huang High School</td>\n      <td>97</td>\n      <td>84</td>\n      <td>0</td>\n      <td>District</td>\n      <td>2917</td>\n      <td>1910635</td>\n    </tr>\n  </tbody>\n</table>\n</div>"
     },
     "execution_count": 3,
     "metadata": {},
     "output_type": "execute_result"
    }
   ],
   "source": [
    "# Dependencies and Setup\n",
    "import pandas as pd\n",
    "from pathlib import Path\n",
    "\n",
    "# File to Load (Remember to Change These)\n",
    "school_data_to_load = Path(\"../Resources/schools_complete.csv\")\n",
    "student_data_to_load = Path(\"../Resources/students_complete.csv\")\n",
    "\n",
    "# Read School and Student Data File and store into Pandas DataFrames\n",
    "school_data = pd.read_csv(school_data_to_load)\n",
    "student_data = pd.read_csv(student_data_to_load)\n",
    "\n",
    "# Combine the data into a single dataset.  \n",
    "complete_data = pd.merge(student_data, school_data, how=\"left\", on=[\"school_name\", \"school_name\"])\n",
    "complete_data.head()"
   ]
  },
  {
   "cell_type": "markdown",
   "metadata": {},
   "source": [
    "## District Summary"
   ]
  },
  {
   "cell_type": "code",
   "execution_count": 4,
   "metadata": {
    "ExecuteTime": {
     "end_time": "2023-11-30T00:59:05.262451Z",
     "start_time": "2023-11-30T00:59:05.173678Z"
    }
   },
   "outputs": [
    {
     "data": {
      "text/plain": "15"
     },
     "execution_count": 4,
     "metadata": {},
     "output_type": "execute_result"
    }
   ],
   "source": [
    "# Calculate the total number of unique schools\n",
    "school_count = len(school_data)\n",
    "school_count"
   ]
  },
  {
   "cell_type": "code",
   "execution_count": 5,
   "metadata": {
    "ExecuteTime": {
     "end_time": "2023-11-30T00:59:05.263171Z",
     "start_time": "2023-11-30T00:59:05.176466Z"
    }
   },
   "outputs": [
    {
     "data": {
      "text/plain": "39170"
     },
     "execution_count": 5,
     "metadata": {},
     "output_type": "execute_result"
    }
   ],
   "source": [
    "# Calculate the total number of students\n",
    "student_count = len(student_data)\n",
    "student_count"
   ]
  },
  {
   "cell_type": "code",
   "execution_count": 6,
   "metadata": {
    "ExecuteTime": {
     "end_time": "2023-11-30T00:59:05.263395Z",
     "start_time": "2023-11-30T00:59:05.179645Z"
    }
   },
   "outputs": [
    {
     "data": {
      "text/plain": "24649428"
     },
     "execution_count": 6,
     "metadata": {},
     "output_type": "execute_result"
    }
   ],
   "source": [
    "# Calculate the total budget\n",
    "total_budget = school_data[\"budget\"].sum() \n",
    "total_budget"
   ]
  },
  {
   "cell_type": "code",
   "execution_count": 7,
   "metadata": {
    "ExecuteTime": {
     "end_time": "2023-11-30T00:59:05.263589Z",
     "start_time": "2023-11-30T00:59:05.182296Z"
    }
   },
   "outputs": [
    {
     "data": {
      "text/plain": "78.98537145774827"
     },
     "execution_count": 7,
     "metadata": {},
     "output_type": "execute_result"
    }
   ],
   "source": [
    "# Calculate the average (mean) math score\n",
    "avg_math_score = complete_data[\"math_score\"].mean()\n",
    "avg_math_score"
   ]
  },
  {
   "cell_type": "code",
   "execution_count": 8,
   "metadata": {
    "ExecuteTime": {
     "end_time": "2023-11-30T00:59:05.263737Z",
     "start_time": "2023-11-30T00:59:05.184570Z"
    }
   },
   "outputs": [
    {
     "data": {
      "text/plain": "81.87784018381414"
     },
     "execution_count": 8,
     "metadata": {},
     "output_type": "execute_result"
    }
   ],
   "source": [
    "# Calculate the average (mean) reading score\n",
    "avg_reading_score = complete_data[\"reading_score\"].mean()\n",
    "avg_reading_score"
   ]
  },
  {
   "cell_type": "code",
   "execution_count": 9,
   "metadata": {
    "ExecuteTime": {
     "end_time": "2023-11-30T00:59:05.263915Z",
     "start_time": "2023-11-30T00:59:05.187052Z"
    }
   },
   "outputs": [
    {
     "data": {
      "text/plain": "74.9808526933878"
     },
     "execution_count": 9,
     "metadata": {},
     "output_type": "execute_result"
    }
   ],
   "source": [
    "# Use the following to calculate the percentage of students who passed math (math scores greater than or equal to 70)\n",
    "passed_math_count = complete_data[(complete_data[\"math_score\"] >= 70)].count()[\"student_name\"]\n",
    "passed_math_percent = passed_math_count / float(student_count) * 100\n",
    "passed_math_percent"
   ]
  },
  {
   "cell_type": "code",
   "execution_count": 10,
   "metadata": {
    "ExecuteTime": {
     "end_time": "2023-11-30T00:59:05.264157Z",
     "start_time": "2023-11-30T00:59:05.194282Z"
    }
   },
   "outputs": [
    {
     "data": {
      "text/plain": "85.80546336482001"
     },
     "execution_count": 10,
     "metadata": {},
     "output_type": "execute_result"
    }
   ],
   "source": [
    "# Calculate the percentage of students who passed reading (hint: look at how the math percentage was calculated)  \n",
    "passed_reading_count = complete_data[(complete_data[\"reading_score\"] >= 70)].count()[\"student_name\"]\n",
    "passed_reading_percent = passed_reading_count / float(student_count) * 100\n",
    "passed_reading_percent"
   ]
  },
  {
   "cell_type": "code",
   "execution_count": 11,
   "metadata": {
    "ExecuteTime": {
     "end_time": "2023-11-30T00:59:05.264306Z",
     "start_time": "2023-11-30T00:59:05.200984Z"
    }
   },
   "outputs": [
    {
     "data": {
      "text/plain": "65.17232575950983"
     },
     "execution_count": 11,
     "metadata": {},
     "output_type": "execute_result"
    }
   ],
   "source": [
    "# Use the following to calculate the percentage of students that passed math and reading\n",
    "passed_both_count = complete_data[\n",
    "    (complete_data[\"math_score\"] >= 70) & (complete_data[\"reading_score\"] >= 70)\n",
    "].count()[\"student_name\"]\n",
    "passed_both_percent = passed_both_count /  float(student_count) * 100\n",
    "passed_both_percent"
   ]
  },
  {
   "cell_type": "code",
   "execution_count": 12,
   "metadata": {
    "ExecuteTime": {
     "end_time": "2023-11-30T00:59:05.264605Z",
     "start_time": "2023-11-30T00:59:05.208970Z"
    }
   },
   "outputs": [
    {
     "data": {
      "text/plain": "   Total Schools Total Students    Total Budget  Average Math Score  \\\n0             15         39,170  $24,649,428.00           78.985371   \n\n   Average Reading Score  % Passing Math  % Passing Reading  \\\n0               81.87784       74.980853          85.805463   \n\n   % Overall Passing Rate  \n0               65.172326  ",
      "text/html": "<div>\n<style scoped>\n    .dataframe tbody tr th:only-of-type {\n        vertical-align: middle;\n    }\n\n    .dataframe tbody tr th {\n        vertical-align: top;\n    }\n\n    .dataframe thead th {\n        text-align: right;\n    }\n</style>\n<table border=\"1\" class=\"dataframe\">\n  <thead>\n    <tr style=\"text-align: right;\">\n      <th></th>\n      <th>Total Schools</th>\n      <th>Total Students</th>\n      <th>Total Budget</th>\n      <th>Average Math Score</th>\n      <th>Average Reading Score</th>\n      <th>% Passing Math</th>\n      <th>% Passing Reading</th>\n      <th>% Overall Passing Rate</th>\n    </tr>\n  </thead>\n  <tbody>\n    <tr>\n      <th>0</th>\n      <td>15</td>\n      <td>39,170</td>\n      <td>$24,649,428.00</td>\n      <td>78.985371</td>\n      <td>81.87784</td>\n      <td>74.980853</td>\n      <td>85.805463</td>\n      <td>65.172326</td>\n    </tr>\n  </tbody>\n</table>\n</div>"
     },
     "execution_count": 12,
     "metadata": {},
     "output_type": "execute_result"
    }
   ],
   "source": [
    "# Create a high-level snapshot of the district's key metrics in a DataFrame\n",
    "district_summary = pd.DataFrame({\n",
    "    \"Total Schools\": [school_count],\n",
    "    \"Total Students\": [student_count],\n",
    "    \"Total Budget\": [total_budget],\n",
    "    \"Average Math Score\": [avg_math_score],\n",
    "    \"Average Reading Score\": [avg_reading_score],\n",
    "    \"% Passing Math\": [passed_math_percent],\n",
    "    \"% Passing Reading\": [passed_reading_percent],\n",
    "    \"% Overall Passing Rate\": [passed_both_percent]\n",
    "})\n",
    "\n",
    "# Formatting\n",
    "district_summary[\"Total Students\"] = district_summary[\"Total Students\"].map(\"{:,}\".format)\n",
    "district_summary[\"Total Budget\"] = district_summary[\"Total Budget\"].map(\"${:,.2f}\".format)\n",
    "\n",
    "district_summary"
   ]
  },
  {
   "cell_type": "markdown",
   "metadata": {},
   "source": [
    "## School Summary"
   ]
  },
  {
   "cell_type": "code",
   "execution_count": 13,
   "metadata": {
    "ExecuteTime": {
     "end_time": "2023-11-30T00:59:05.264971Z",
     "start_time": "2023-11-30T00:59:05.213896Z"
    }
   },
   "outputs": [
    {
     "data": {
      "text/plain": "              school_name      type\n0       Huang High School  District\n1    Figueroa High School  District\n2     Shelton High School   Charter\n3   Hernandez High School  District\n4     Griffin High School   Charter\n5      Wilson High School   Charter\n6     Cabrera High School   Charter\n7      Bailey High School  District\n8      Holden High School   Charter\n9        Pena High School   Charter\n10     Wright High School   Charter\n11  Rodriguez High School  District\n12    Johnson High School  District\n13       Ford High School  District\n14     Thomas High School   Charter",
      "text/html": "<div>\n<style scoped>\n    .dataframe tbody tr th:only-of-type {\n        vertical-align: middle;\n    }\n\n    .dataframe tbody tr th {\n        vertical-align: top;\n    }\n\n    .dataframe thead th {\n        text-align: right;\n    }\n</style>\n<table border=\"1\" class=\"dataframe\">\n  <thead>\n    <tr style=\"text-align: right;\">\n      <th></th>\n      <th>school_name</th>\n      <th>type</th>\n    </tr>\n  </thead>\n  <tbody>\n    <tr>\n      <th>0</th>\n      <td>Huang High School</td>\n      <td>District</td>\n    </tr>\n    <tr>\n      <th>1</th>\n      <td>Figueroa High School</td>\n      <td>District</td>\n    </tr>\n    <tr>\n      <th>2</th>\n      <td>Shelton High School</td>\n      <td>Charter</td>\n    </tr>\n    <tr>\n      <th>3</th>\n      <td>Hernandez High School</td>\n      <td>District</td>\n    </tr>\n    <tr>\n      <th>4</th>\n      <td>Griffin High School</td>\n      <td>Charter</td>\n    </tr>\n    <tr>\n      <th>5</th>\n      <td>Wilson High School</td>\n      <td>Charter</td>\n    </tr>\n    <tr>\n      <th>6</th>\n      <td>Cabrera High School</td>\n      <td>Charter</td>\n    </tr>\n    <tr>\n      <th>7</th>\n      <td>Bailey High School</td>\n      <td>District</td>\n    </tr>\n    <tr>\n      <th>8</th>\n      <td>Holden High School</td>\n      <td>Charter</td>\n    </tr>\n    <tr>\n      <th>9</th>\n      <td>Pena High School</td>\n      <td>Charter</td>\n    </tr>\n    <tr>\n      <th>10</th>\n      <td>Wright High School</td>\n      <td>Charter</td>\n    </tr>\n    <tr>\n      <th>11</th>\n      <td>Rodriguez High School</td>\n      <td>District</td>\n    </tr>\n    <tr>\n      <th>12</th>\n      <td>Johnson High School</td>\n      <td>District</td>\n    </tr>\n    <tr>\n      <th>13</th>\n      <td>Ford High School</td>\n      <td>District</td>\n    </tr>\n    <tr>\n      <th>14</th>\n      <td>Thomas High School</td>\n      <td>Charter</td>\n    </tr>\n  </tbody>\n</table>\n</div>"
     },
     "execution_count": 13,
     "metadata": {},
     "output_type": "execute_result"
    }
   ],
   "source": [
    "# Use the code provided to select all the school types\n",
    "school_types = school_data[[\"school_name\",\"type\"]]\n",
    "school_types"
   ]
  },
  {
   "cell_type": "code",
   "execution_count": 14,
   "metadata": {
    "ExecuteTime": {
     "end_time": "2023-11-30T00:59:05.265312Z",
     "start_time": "2023-11-30T00:59:05.217324Z"
    }
   },
   "outputs": [
    {
     "data": {
      "text/plain": "              school_name      type  size\n0       Huang High School  District  2917\n1    Figueroa High School  District  2949\n2     Shelton High School   Charter  1761\n3   Hernandez High School  District  4635\n4     Griffin High School   Charter  1468\n5      Wilson High School   Charter  2283\n6     Cabrera High School   Charter  1858\n7      Bailey High School  District  4976\n8      Holden High School   Charter   427\n9        Pena High School   Charter   962\n10     Wright High School   Charter  1800\n11  Rodriguez High School  District  3999\n12    Johnson High School  District  4761\n13       Ford High School  District  2739\n14     Thomas High School   Charter  1635",
      "text/html": "<div>\n<style scoped>\n    .dataframe tbody tr th:only-of-type {\n        vertical-align: middle;\n    }\n\n    .dataframe tbody tr th {\n        vertical-align: top;\n    }\n\n    .dataframe thead th {\n        text-align: right;\n    }\n</style>\n<table border=\"1\" class=\"dataframe\">\n  <thead>\n    <tr style=\"text-align: right;\">\n      <th></th>\n      <th>school_name</th>\n      <th>type</th>\n      <th>size</th>\n    </tr>\n  </thead>\n  <tbody>\n    <tr>\n      <th>0</th>\n      <td>Huang High School</td>\n      <td>District</td>\n      <td>2917</td>\n    </tr>\n    <tr>\n      <th>1</th>\n      <td>Figueroa High School</td>\n      <td>District</td>\n      <td>2949</td>\n    </tr>\n    <tr>\n      <th>2</th>\n      <td>Shelton High School</td>\n      <td>Charter</td>\n      <td>1761</td>\n    </tr>\n    <tr>\n      <th>3</th>\n      <td>Hernandez High School</td>\n      <td>District</td>\n      <td>4635</td>\n    </tr>\n    <tr>\n      <th>4</th>\n      <td>Griffin High School</td>\n      <td>Charter</td>\n      <td>1468</td>\n    </tr>\n    <tr>\n      <th>5</th>\n      <td>Wilson High School</td>\n      <td>Charter</td>\n      <td>2283</td>\n    </tr>\n    <tr>\n      <th>6</th>\n      <td>Cabrera High School</td>\n      <td>Charter</td>\n      <td>1858</td>\n    </tr>\n    <tr>\n      <th>7</th>\n      <td>Bailey High School</td>\n      <td>District</td>\n      <td>4976</td>\n    </tr>\n    <tr>\n      <th>8</th>\n      <td>Holden High School</td>\n      <td>Charter</td>\n      <td>427</td>\n    </tr>\n    <tr>\n      <th>9</th>\n      <td>Pena High School</td>\n      <td>Charter</td>\n      <td>962</td>\n    </tr>\n    <tr>\n      <th>10</th>\n      <td>Wright High School</td>\n      <td>Charter</td>\n      <td>1800</td>\n    </tr>\n    <tr>\n      <th>11</th>\n      <td>Rodriguez High School</td>\n      <td>District</td>\n      <td>3999</td>\n    </tr>\n    <tr>\n      <th>12</th>\n      <td>Johnson High School</td>\n      <td>District</td>\n      <td>4761</td>\n    </tr>\n    <tr>\n      <th>13</th>\n      <td>Ford High School</td>\n      <td>District</td>\n      <td>2739</td>\n    </tr>\n    <tr>\n      <th>14</th>\n      <td>Thomas High School</td>\n      <td>Charter</td>\n      <td>1635</td>\n    </tr>\n  </tbody>\n</table>\n</div>"
     },
     "execution_count": 14,
     "metadata": {},
     "output_type": "execute_result"
    }
   ],
   "source": [
    "# ADD size to above df\n",
    "school_student_count = school_types.assign(size=school_data[[\"size\"]])\n",
    "school_student_count"
   ]
  },
  {
   "cell_type": "code",
   "execution_count": 15,
   "metadata": {
    "ExecuteTime": {
     "end_time": "2023-11-30T00:59:05.265891Z",
     "start_time": "2023-11-30T00:59:05.221295Z"
    }
   },
   "outputs": [
    {
     "data": {
      "text/plain": "              school_name      type  size   budget  per_capita\n0       Huang High School  District  2917  1910635       655.0\n1    Figueroa High School  District  2949  1884411       639.0\n2     Shelton High School   Charter  1761  1056600       600.0\n3   Hernandez High School  District  4635  3022020       652.0\n4     Griffin High School   Charter  1468   917500       625.0\n5      Wilson High School   Charter  2283  1319574       578.0\n6     Cabrera High School   Charter  1858  1081356       582.0\n7      Bailey High School  District  4976  3124928       628.0\n8      Holden High School   Charter   427   248087       581.0\n9        Pena High School   Charter   962   585858       609.0\n10     Wright High School   Charter  1800  1049400       583.0\n11  Rodriguez High School  District  3999  2547363       637.0\n12    Johnson High School  District  4761  3094650       650.0\n13       Ford High School  District  2739  1763916       644.0\n14     Thomas High School   Charter  1635  1043130       638.0",
      "text/html": "<div>\n<style scoped>\n    .dataframe tbody tr th:only-of-type {\n        vertical-align: middle;\n    }\n\n    .dataframe tbody tr th {\n        vertical-align: top;\n    }\n\n    .dataframe thead th {\n        text-align: right;\n    }\n</style>\n<table border=\"1\" class=\"dataframe\">\n  <thead>\n    <tr style=\"text-align: right;\">\n      <th></th>\n      <th>school_name</th>\n      <th>type</th>\n      <th>size</th>\n      <th>budget</th>\n      <th>per_capita</th>\n    </tr>\n  </thead>\n  <tbody>\n    <tr>\n      <th>0</th>\n      <td>Huang High School</td>\n      <td>District</td>\n      <td>2917</td>\n      <td>1910635</td>\n      <td>655.0</td>\n    </tr>\n    <tr>\n      <th>1</th>\n      <td>Figueroa High School</td>\n      <td>District</td>\n      <td>2949</td>\n      <td>1884411</td>\n      <td>639.0</td>\n    </tr>\n    <tr>\n      <th>2</th>\n      <td>Shelton High School</td>\n      <td>Charter</td>\n      <td>1761</td>\n      <td>1056600</td>\n      <td>600.0</td>\n    </tr>\n    <tr>\n      <th>3</th>\n      <td>Hernandez High School</td>\n      <td>District</td>\n      <td>4635</td>\n      <td>3022020</td>\n      <td>652.0</td>\n    </tr>\n    <tr>\n      <th>4</th>\n      <td>Griffin High School</td>\n      <td>Charter</td>\n      <td>1468</td>\n      <td>917500</td>\n      <td>625.0</td>\n    </tr>\n    <tr>\n      <th>5</th>\n      <td>Wilson High School</td>\n      <td>Charter</td>\n      <td>2283</td>\n      <td>1319574</td>\n      <td>578.0</td>\n    </tr>\n    <tr>\n      <th>6</th>\n      <td>Cabrera High School</td>\n      <td>Charter</td>\n      <td>1858</td>\n      <td>1081356</td>\n      <td>582.0</td>\n    </tr>\n    <tr>\n      <th>7</th>\n      <td>Bailey High School</td>\n      <td>District</td>\n      <td>4976</td>\n      <td>3124928</td>\n      <td>628.0</td>\n    </tr>\n    <tr>\n      <th>8</th>\n      <td>Holden High School</td>\n      <td>Charter</td>\n      <td>427</td>\n      <td>248087</td>\n      <td>581.0</td>\n    </tr>\n    <tr>\n      <th>9</th>\n      <td>Pena High School</td>\n      <td>Charter</td>\n      <td>962</td>\n      <td>585858</td>\n      <td>609.0</td>\n    </tr>\n    <tr>\n      <th>10</th>\n      <td>Wright High School</td>\n      <td>Charter</td>\n      <td>1800</td>\n      <td>1049400</td>\n      <td>583.0</td>\n    </tr>\n    <tr>\n      <th>11</th>\n      <td>Rodriguez High School</td>\n      <td>District</td>\n      <td>3999</td>\n      <td>2547363</td>\n      <td>637.0</td>\n    </tr>\n    <tr>\n      <th>12</th>\n      <td>Johnson High School</td>\n      <td>District</td>\n      <td>4761</td>\n      <td>3094650</td>\n      <td>650.0</td>\n    </tr>\n    <tr>\n      <th>13</th>\n      <td>Ford High School</td>\n      <td>District</td>\n      <td>2739</td>\n      <td>1763916</td>\n      <td>644.0</td>\n    </tr>\n    <tr>\n      <th>14</th>\n      <td>Thomas High School</td>\n      <td>Charter</td>\n      <td>1635</td>\n      <td>1043130</td>\n      <td>638.0</td>\n    </tr>\n  </tbody>\n</table>\n</div>"
     },
     "execution_count": 15,
     "metadata": {},
     "output_type": "execute_result"
    }
   ],
   "source": [
    "# ADD the school budget and per capita spending per school to above df\n",
    "school_capital_budget =school_student_count.assign(budget = school_data[[\"budget\"]],\n",
    "                                               per_capita = school_data[\"budget\"] / school_data[\"size\"])\n",
    "school_capital_budget"
   ]
  },
  {
   "cell_type": "code",
   "execution_count": 16,
   "outputs": [],
   "source": [
    "#DEBUGGING\n",
    "# @TODO https://www.statology.org/pandas-groupby-as_index/\n",
    "# print(complete_data.groupby(\"school_name\")[\"math_score\"].mean()[\"math_score\"]) - RTN: key error 'math_score'\n",
    "# print(complete_data.groupby(\"school_name\", sort=False)[\"math_score\"].mean()[\"math_score\"]) - RTN: key error 'math_score'\n",
    "# print(complete_data.groupby(\"school_name\", as_index=False)[\"math_score\"].mean()[\"math_score\"]) - RTN: 0: 77.048432; 1: 83.061895; 2: 76.711767\n",
    "# print(complete_data.groupby(\"school_name\", sort=False, as_index=False)[\"math_score\"].mean()[\"math_score\"]) - RTN: 0: 77.048432; 1: 83.061895; 2: 76.711767\n"
   ],
   "metadata": {
    "collapsed": false,
    "ExecuteTime": {
     "end_time": "2023-11-30T00:59:05.265979Z",
     "start_time": "2023-11-30T00:59:05.223320Z"
    }
   }
  },
  {
   "cell_type": "code",
   "execution_count": 17,
   "outputs": [
    {
     "data": {
      "text/plain": "              school_name      type  size   budget  per_capita   math_avg  \\\n0       Huang High School  District  2917  1910635       655.0  76.629414   \n1    Figueroa High School  District  2949  1884411       639.0  76.711767   \n2     Shelton High School   Charter  1761  1056600       600.0  83.359455   \n3   Hernandez High School  District  4635  3022020       652.0  77.289752   \n4     Griffin High School   Charter  1468   917500       625.0  83.351499   \n5      Wilson High School   Charter  2283  1319574       578.0  83.274201   \n6     Cabrera High School   Charter  1858  1081356       582.0  83.061895   \n7      Bailey High School  District  4976  3124928       628.0  77.048432   \n8      Holden High School   Charter   427   248087       581.0  83.803279   \n9        Pena High School   Charter   962   585858       609.0  83.839917   \n10     Wright High School   Charter  1800  1049400       583.0  83.682222   \n11  Rodriguez High School  District  3999  2547363       637.0  76.842711   \n12    Johnson High School  District  4761  3094650       650.0  77.072464   \n13       Ford High School  District  2739  1763916       644.0  77.102592   \n14     Thomas High School   Charter  1635  1043130       638.0  83.418349   \n\n    reading_avg  \n0     81.182722  \n1     81.158020  \n2     83.725724  \n3     80.934412  \n4     83.816757  \n5     83.989488  \n6     83.975780  \n7     81.033963  \n8     83.814988  \n9     84.044699  \n10    83.955000  \n11    80.744686  \n12    80.966394  \n13    80.746258  \n14    83.848930  ",
      "text/html": "<div>\n<style scoped>\n    .dataframe tbody tr th:only-of-type {\n        vertical-align: middle;\n    }\n\n    .dataframe tbody tr th {\n        vertical-align: top;\n    }\n\n    .dataframe thead th {\n        text-align: right;\n    }\n</style>\n<table border=\"1\" class=\"dataframe\">\n  <thead>\n    <tr style=\"text-align: right;\">\n      <th></th>\n      <th>school_name</th>\n      <th>type</th>\n      <th>size</th>\n      <th>budget</th>\n      <th>per_capita</th>\n      <th>math_avg</th>\n      <th>reading_avg</th>\n    </tr>\n  </thead>\n  <tbody>\n    <tr>\n      <th>0</th>\n      <td>Huang High School</td>\n      <td>District</td>\n      <td>2917</td>\n      <td>1910635</td>\n      <td>655.0</td>\n      <td>76.629414</td>\n      <td>81.182722</td>\n    </tr>\n    <tr>\n      <th>1</th>\n      <td>Figueroa High School</td>\n      <td>District</td>\n      <td>2949</td>\n      <td>1884411</td>\n      <td>639.0</td>\n      <td>76.711767</td>\n      <td>81.158020</td>\n    </tr>\n    <tr>\n      <th>2</th>\n      <td>Shelton High School</td>\n      <td>Charter</td>\n      <td>1761</td>\n      <td>1056600</td>\n      <td>600.0</td>\n      <td>83.359455</td>\n      <td>83.725724</td>\n    </tr>\n    <tr>\n      <th>3</th>\n      <td>Hernandez High School</td>\n      <td>District</td>\n      <td>4635</td>\n      <td>3022020</td>\n      <td>652.0</td>\n      <td>77.289752</td>\n      <td>80.934412</td>\n    </tr>\n    <tr>\n      <th>4</th>\n      <td>Griffin High School</td>\n      <td>Charter</td>\n      <td>1468</td>\n      <td>917500</td>\n      <td>625.0</td>\n      <td>83.351499</td>\n      <td>83.816757</td>\n    </tr>\n    <tr>\n      <th>5</th>\n      <td>Wilson High School</td>\n      <td>Charter</td>\n      <td>2283</td>\n      <td>1319574</td>\n      <td>578.0</td>\n      <td>83.274201</td>\n      <td>83.989488</td>\n    </tr>\n    <tr>\n      <th>6</th>\n      <td>Cabrera High School</td>\n      <td>Charter</td>\n      <td>1858</td>\n      <td>1081356</td>\n      <td>582.0</td>\n      <td>83.061895</td>\n      <td>83.975780</td>\n    </tr>\n    <tr>\n      <th>7</th>\n      <td>Bailey High School</td>\n      <td>District</td>\n      <td>4976</td>\n      <td>3124928</td>\n      <td>628.0</td>\n      <td>77.048432</td>\n      <td>81.033963</td>\n    </tr>\n    <tr>\n      <th>8</th>\n      <td>Holden High School</td>\n      <td>Charter</td>\n      <td>427</td>\n      <td>248087</td>\n      <td>581.0</td>\n      <td>83.803279</td>\n      <td>83.814988</td>\n    </tr>\n    <tr>\n      <th>9</th>\n      <td>Pena High School</td>\n      <td>Charter</td>\n      <td>962</td>\n      <td>585858</td>\n      <td>609.0</td>\n      <td>83.839917</td>\n      <td>84.044699</td>\n    </tr>\n    <tr>\n      <th>10</th>\n      <td>Wright High School</td>\n      <td>Charter</td>\n      <td>1800</td>\n      <td>1049400</td>\n      <td>583.0</td>\n      <td>83.682222</td>\n      <td>83.955000</td>\n    </tr>\n    <tr>\n      <th>11</th>\n      <td>Rodriguez High School</td>\n      <td>District</td>\n      <td>3999</td>\n      <td>2547363</td>\n      <td>637.0</td>\n      <td>76.842711</td>\n      <td>80.744686</td>\n    </tr>\n    <tr>\n      <th>12</th>\n      <td>Johnson High School</td>\n      <td>District</td>\n      <td>4761</td>\n      <td>3094650</td>\n      <td>650.0</td>\n      <td>77.072464</td>\n      <td>80.966394</td>\n    </tr>\n    <tr>\n      <th>13</th>\n      <td>Ford High School</td>\n      <td>District</td>\n      <td>2739</td>\n      <td>1763916</td>\n      <td>644.0</td>\n      <td>77.102592</td>\n      <td>80.746258</td>\n    </tr>\n    <tr>\n      <th>14</th>\n      <td>Thomas High School</td>\n      <td>Charter</td>\n      <td>1635</td>\n      <td>1043130</td>\n      <td>638.0</td>\n      <td>83.418349</td>\n      <td>83.848930</td>\n    </tr>\n  </tbody>\n</table>\n</div>"
     },
     "execution_count": 17,
     "metadata": {},
     "output_type": "execute_result"
    }
   ],
   "source": [
    "# ADD averages for math and reading to above df in new column and save with new name\n",
    "school_score_avg = school_capital_budget.assign(math_avg =\n",
    "                                                 complete_data.groupby(\"school_name\", sort=False, as_index=False)[\"math_score\"].mean()[\"math_score\"],\n",
    "                                                 reading_avg =\n",
    "                                                 complete_data.groupby(\"school_name\", sort=False, as_index=False)[\"reading_score\"].mean()[\"reading_score\"])\n",
    "school_score_avg"
   ],
   "metadata": {
    "collapsed": false,
    "ExecuteTime": {
     "end_time": "2023-11-30T00:59:05.266387Z",
     "start_time": "2023-11-30T00:59:05.226472Z"
    }
   }
  },
  {
   "cell_type": "code",
   "execution_count": 18,
   "outputs": [
    {
     "data": {
      "text/plain": "       Student ID     student_name gender grade         school_name  \\\n0               4       Bonnie Ray      F   9th   Huang High School   \n1               5    Bryan Miranda      M   9th   Huang High School   \n2               6    Sheena Carter      F  11th   Huang High School   \n3               8     Michael Roth      M  10th   Huang High School   \n4               9   Matthew Greene      M  10th   Huang High School   \n...           ...              ...    ...   ...                 ...   \n25523       39165     Donna Howard      F  12th  Thomas High School   \n25524       39166        Dawn Bell      F  10th  Thomas High School   \n25525       39167   Rebecca Tanner      F   9th  Thomas High School   \n25526       39168     Desiree Kidd      F  10th  Thomas High School   \n25527       39169  Carolyn Jackson      F  11th  Thomas High School   \n\n       reading_score  math_score  School ID      type  size   budget  \n0                 97          84          0  District  2917  1910635  \n1                 94          94          0  District  2917  1910635  \n2                 82          80          0  District  2917  1910635  \n3                 95          87          0  District  2917  1910635  \n4                 96          84          0  District  2917  1910635  \n...              ...         ...        ...       ...   ...      ...  \n25523             99          90         14   Charter  1635  1043130  \n25524             95          70         14   Charter  1635  1043130  \n25525             73          84         14   Charter  1635  1043130  \n25526             99          90         14   Charter  1635  1043130  \n25527             95          75         14   Charter  1635  1043130  \n\n[25528 rows x 11 columns]",
      "text/html": "<div>\n<style scoped>\n    .dataframe tbody tr th:only-of-type {\n        vertical-align: middle;\n    }\n\n    .dataframe tbody tr th {\n        vertical-align: top;\n    }\n\n    .dataframe thead th {\n        text-align: right;\n    }\n</style>\n<table border=\"1\" class=\"dataframe\">\n  <thead>\n    <tr style=\"text-align: right;\">\n      <th></th>\n      <th>Student ID</th>\n      <th>student_name</th>\n      <th>gender</th>\n      <th>grade</th>\n      <th>school_name</th>\n      <th>reading_score</th>\n      <th>math_score</th>\n      <th>School ID</th>\n      <th>type</th>\n      <th>size</th>\n      <th>budget</th>\n    </tr>\n  </thead>\n  <tbody>\n    <tr>\n      <th>0</th>\n      <td>4</td>\n      <td>Bonnie Ray</td>\n      <td>F</td>\n      <td>9th</td>\n      <td>Huang High School</td>\n      <td>97</td>\n      <td>84</td>\n      <td>0</td>\n      <td>District</td>\n      <td>2917</td>\n      <td>1910635</td>\n    </tr>\n    <tr>\n      <th>1</th>\n      <td>5</td>\n      <td>Bryan Miranda</td>\n      <td>M</td>\n      <td>9th</td>\n      <td>Huang High School</td>\n      <td>94</td>\n      <td>94</td>\n      <td>0</td>\n      <td>District</td>\n      <td>2917</td>\n      <td>1910635</td>\n    </tr>\n    <tr>\n      <th>2</th>\n      <td>6</td>\n      <td>Sheena Carter</td>\n      <td>F</td>\n      <td>11th</td>\n      <td>Huang High School</td>\n      <td>82</td>\n      <td>80</td>\n      <td>0</td>\n      <td>District</td>\n      <td>2917</td>\n      <td>1910635</td>\n    </tr>\n    <tr>\n      <th>3</th>\n      <td>8</td>\n      <td>Michael Roth</td>\n      <td>M</td>\n      <td>10th</td>\n      <td>Huang High School</td>\n      <td>95</td>\n      <td>87</td>\n      <td>0</td>\n      <td>District</td>\n      <td>2917</td>\n      <td>1910635</td>\n    </tr>\n    <tr>\n      <th>4</th>\n      <td>9</td>\n      <td>Matthew Greene</td>\n      <td>M</td>\n      <td>10th</td>\n      <td>Huang High School</td>\n      <td>96</td>\n      <td>84</td>\n      <td>0</td>\n      <td>District</td>\n      <td>2917</td>\n      <td>1910635</td>\n    </tr>\n    <tr>\n      <th>...</th>\n      <td>...</td>\n      <td>...</td>\n      <td>...</td>\n      <td>...</td>\n      <td>...</td>\n      <td>...</td>\n      <td>...</td>\n      <td>...</td>\n      <td>...</td>\n      <td>...</td>\n      <td>...</td>\n    </tr>\n    <tr>\n      <th>25523</th>\n      <td>39165</td>\n      <td>Donna Howard</td>\n      <td>F</td>\n      <td>12th</td>\n      <td>Thomas High School</td>\n      <td>99</td>\n      <td>90</td>\n      <td>14</td>\n      <td>Charter</td>\n      <td>1635</td>\n      <td>1043130</td>\n    </tr>\n    <tr>\n      <th>25524</th>\n      <td>39166</td>\n      <td>Dawn Bell</td>\n      <td>F</td>\n      <td>10th</td>\n      <td>Thomas High School</td>\n      <td>95</td>\n      <td>70</td>\n      <td>14</td>\n      <td>Charter</td>\n      <td>1635</td>\n      <td>1043130</td>\n    </tr>\n    <tr>\n      <th>25525</th>\n      <td>39167</td>\n      <td>Rebecca Tanner</td>\n      <td>F</td>\n      <td>9th</td>\n      <td>Thomas High School</td>\n      <td>73</td>\n      <td>84</td>\n      <td>14</td>\n      <td>Charter</td>\n      <td>1635</td>\n      <td>1043130</td>\n    </tr>\n    <tr>\n      <th>25526</th>\n      <td>39168</td>\n      <td>Desiree Kidd</td>\n      <td>F</td>\n      <td>10th</td>\n      <td>Thomas High School</td>\n      <td>99</td>\n      <td>90</td>\n      <td>14</td>\n      <td>Charter</td>\n      <td>1635</td>\n      <td>1043130</td>\n    </tr>\n    <tr>\n      <th>25527</th>\n      <td>39169</td>\n      <td>Carolyn Jackson</td>\n      <td>F</td>\n      <td>11th</td>\n      <td>Thomas High School</td>\n      <td>95</td>\n      <td>75</td>\n      <td>14</td>\n      <td>Charter</td>\n      <td>1635</td>\n      <td>1043130</td>\n    </tr>\n  </tbody>\n</table>\n<p>25528 rows × 11 columns</p>\n</div>"
     },
     "execution_count": 18,
     "metadata": {},
     "output_type": "execute_result"
    }
   ],
   "source": [
    "# create new df WITH ONLY PASSING students\n",
    "school_math_count = complete_data[complete_data[\"math_score\"] >= 70]\n",
    "school_reading_count = complete_data[complete_data[\"reading_score\"] >= 70]\n",
    "school_both_count = pd.merge(school_math_count, school_reading_count)\n",
    "school_both_count"
   ],
   "metadata": {
    "collapsed": false,
    "ExecuteTime": {
     "end_time": "2023-11-30T00:59:05.267150Z",
     "start_time": "2023-11-30T00:59:05.233552Z"
    }
   }
  },
  {
   "cell_type": "code",
   "execution_count": 19,
   "outputs": [
    {
     "data": {
      "text/plain": "                       students_passed_math  students_passed_reading  \\\nschool_name                                                            \nBailey High School                     3318                     4077   \nCabrera High School                    1749                     1803   \nFigueroa High School                   1946                     2381   \nFord High School                       1871                     2172   \nGriffin High School                    1371                     1426   \nHernandez High School                  3094                     3748   \nHolden High School                      395                      411   \nHuang High School                      1916                     2372   \nJohnson High School                    3145                     3867   \nPena High School                        910                      923   \nRodriguez High School                  2654                     3208   \nShelton High School                    1653                     1688   \nThomas High School                     1525                     1591   \nWilson High School                     2143                     2204   \nWright High School                     1680                     1739   \n\n                       students_passed_both  \nschool_name                                  \nBailey High School                     2719  \nCabrera High School                    1697  \nFigueroa High School                   1569  \nFord High School                       1487  \nGriffin High School                    1330  \nHernandez High School                  2481  \nHolden High School                      381  \nHuang High School                      1561  \nJohnson High School                    2549  \nPena High School                        871  \nRodriguez High School                  2119  \nShelton High School                    1583  \nThomas High School                     1487  \nWilson High School                     2068  \nWright High School                     1626  ",
      "text/html": "<div>\n<style scoped>\n    .dataframe tbody tr th:only-of-type {\n        vertical-align: middle;\n    }\n\n    .dataframe tbody tr th {\n        vertical-align: top;\n    }\n\n    .dataframe thead th {\n        text-align: right;\n    }\n</style>\n<table border=\"1\" class=\"dataframe\">\n  <thead>\n    <tr style=\"text-align: right;\">\n      <th></th>\n      <th>students_passed_math</th>\n      <th>students_passed_reading</th>\n      <th>students_passed_both</th>\n    </tr>\n    <tr>\n      <th>school_name</th>\n      <th></th>\n      <th></th>\n      <th></th>\n    </tr>\n  </thead>\n  <tbody>\n    <tr>\n      <th>Bailey High School</th>\n      <td>3318</td>\n      <td>4077</td>\n      <td>2719</td>\n    </tr>\n    <tr>\n      <th>Cabrera High School</th>\n      <td>1749</td>\n      <td>1803</td>\n      <td>1697</td>\n    </tr>\n    <tr>\n      <th>Figueroa High School</th>\n      <td>1946</td>\n      <td>2381</td>\n      <td>1569</td>\n    </tr>\n    <tr>\n      <th>Ford High School</th>\n      <td>1871</td>\n      <td>2172</td>\n      <td>1487</td>\n    </tr>\n    <tr>\n      <th>Griffin High School</th>\n      <td>1371</td>\n      <td>1426</td>\n      <td>1330</td>\n    </tr>\n    <tr>\n      <th>Hernandez High School</th>\n      <td>3094</td>\n      <td>3748</td>\n      <td>2481</td>\n    </tr>\n    <tr>\n      <th>Holden High School</th>\n      <td>395</td>\n      <td>411</td>\n      <td>381</td>\n    </tr>\n    <tr>\n      <th>Huang High School</th>\n      <td>1916</td>\n      <td>2372</td>\n      <td>1561</td>\n    </tr>\n    <tr>\n      <th>Johnson High School</th>\n      <td>3145</td>\n      <td>3867</td>\n      <td>2549</td>\n    </tr>\n    <tr>\n      <th>Pena High School</th>\n      <td>910</td>\n      <td>923</td>\n      <td>871</td>\n    </tr>\n    <tr>\n      <th>Rodriguez High School</th>\n      <td>2654</td>\n      <td>3208</td>\n      <td>2119</td>\n    </tr>\n    <tr>\n      <th>Shelton High School</th>\n      <td>1653</td>\n      <td>1688</td>\n      <td>1583</td>\n    </tr>\n    <tr>\n      <th>Thomas High School</th>\n      <td>1525</td>\n      <td>1591</td>\n      <td>1487</td>\n    </tr>\n    <tr>\n      <th>Wilson High School</th>\n      <td>2143</td>\n      <td>2204</td>\n      <td>2068</td>\n    </tr>\n    <tr>\n      <th>Wright High School</th>\n      <td>1680</td>\n      <td>1739</td>\n      <td>1626</td>\n    </tr>\n  </tbody>\n</table>\n</div>"
     },
     "execution_count": 19,
     "metadata": {},
     "output_type": "execute_result"
    }
   ],
   "source": [
    "# NEW df from size of each group for each school\n",
    "school_passing_totals = pd.DataFrame({\n",
    "    \"students_passed_math\": school_math_count.groupby(\"school_name\").size(),\n",
    "    \"students_passed_reading\": school_reading_count.groupby(\"school_name\").size(),\n",
    "    \"students_passed_both\": school_both_count.groupby(\"school_name\").size()})\n",
    "school_passing_totals"
   ],
   "metadata": {
    "collapsed": false,
    "ExecuteTime": {
     "end_time": "2023-11-30T00:59:05.270950Z",
     "start_time": "2023-11-30T00:59:05.256771Z"
    }
   }
  },
  {
   "cell_type": "code",
   "execution_count": 20,
   "outputs": [
    {
     "data": {
      "text/plain": "              school_name      type  size   budget  per_capita   math_avg  \\\n0       Huang High School  District  2917  1910635       655.0  76.629414   \n1    Figueroa High School  District  2949  1884411       639.0  76.711767   \n2     Shelton High School   Charter  1761  1056600       600.0  83.359455   \n3   Hernandez High School  District  4635  3022020       652.0  77.289752   \n4     Griffin High School   Charter  1468   917500       625.0  83.351499   \n5      Wilson High School   Charter  2283  1319574       578.0  83.274201   \n6     Cabrera High School   Charter  1858  1081356       582.0  83.061895   \n7      Bailey High School  District  4976  3124928       628.0  77.048432   \n8      Holden High School   Charter   427   248087       581.0  83.803279   \n9        Pena High School   Charter   962   585858       609.0  83.839917   \n10     Wright High School   Charter  1800  1049400       583.0  83.682222   \n11  Rodriguez High School  District  3999  2547363       637.0  76.842711   \n12    Johnson High School  District  4761  3094650       650.0  77.072464   \n13       Ford High School  District  2739  1763916       644.0  77.102592   \n14     Thomas High School   Charter  1635  1043130       638.0  83.418349   \n\n    reading_avg  passed_math_percent  passed_reading_percent  \\\n0     81.182722           113.747000              139.766884   \n1     81.158020            59.308240               61.139369   \n2     83.725724           110.505395              135.207269   \n3     80.934412            40.366775               46.860841   \n4     83.816757            93.392371               97.138965   \n5     83.989488           135.523434              164.169952   \n6     83.975780            21.259419               22.120560   \n7     81.033963            38.504823               47.668810   \n8     83.814988           736.533958              905.620609   \n9     84.044699            94.594595               95.945946   \n10    83.955000           147.444444              178.222222   \n11    80.744686            41.335334               42.210553   \n12    80.966394            32.031086               33.417349   \n13    80.746258            78.240234               80.467324   \n14    83.848930           102.752294              106.360856   \n\n    passed_both_percent  \n0             93.212204  \n1             57.544930  \n2             89.097104  \n3             32.081985  \n4             90.599455  \n5            108.672799  \n6             20.505920  \n7             31.370579  \n8            596.955504  \n9             90.540541  \n10           117.722222  \n11            39.584896  \n12            31.232934  \n13            75.502008  \n14            99.449541  ",
      "text/html": "<div>\n<style scoped>\n    .dataframe tbody tr th:only-of-type {\n        vertical-align: middle;\n    }\n\n    .dataframe tbody tr th {\n        vertical-align: top;\n    }\n\n    .dataframe thead th {\n        text-align: right;\n    }\n</style>\n<table border=\"1\" class=\"dataframe\">\n  <thead>\n    <tr style=\"text-align: right;\">\n      <th></th>\n      <th>school_name</th>\n      <th>type</th>\n      <th>size</th>\n      <th>budget</th>\n      <th>per_capita</th>\n      <th>math_avg</th>\n      <th>reading_avg</th>\n      <th>passed_math_percent</th>\n      <th>passed_reading_percent</th>\n      <th>passed_both_percent</th>\n    </tr>\n  </thead>\n  <tbody>\n    <tr>\n      <th>0</th>\n      <td>Huang High School</td>\n      <td>District</td>\n      <td>2917</td>\n      <td>1910635</td>\n      <td>655.0</td>\n      <td>76.629414</td>\n      <td>81.182722</td>\n      <td>113.747000</td>\n      <td>139.766884</td>\n      <td>93.212204</td>\n    </tr>\n    <tr>\n      <th>1</th>\n      <td>Figueroa High School</td>\n      <td>District</td>\n      <td>2949</td>\n      <td>1884411</td>\n      <td>639.0</td>\n      <td>76.711767</td>\n      <td>81.158020</td>\n      <td>59.308240</td>\n      <td>61.139369</td>\n      <td>57.544930</td>\n    </tr>\n    <tr>\n      <th>2</th>\n      <td>Shelton High School</td>\n      <td>Charter</td>\n      <td>1761</td>\n      <td>1056600</td>\n      <td>600.0</td>\n      <td>83.359455</td>\n      <td>83.725724</td>\n      <td>110.505395</td>\n      <td>135.207269</td>\n      <td>89.097104</td>\n    </tr>\n    <tr>\n      <th>3</th>\n      <td>Hernandez High School</td>\n      <td>District</td>\n      <td>4635</td>\n      <td>3022020</td>\n      <td>652.0</td>\n      <td>77.289752</td>\n      <td>80.934412</td>\n      <td>40.366775</td>\n      <td>46.860841</td>\n      <td>32.081985</td>\n    </tr>\n    <tr>\n      <th>4</th>\n      <td>Griffin High School</td>\n      <td>Charter</td>\n      <td>1468</td>\n      <td>917500</td>\n      <td>625.0</td>\n      <td>83.351499</td>\n      <td>83.816757</td>\n      <td>93.392371</td>\n      <td>97.138965</td>\n      <td>90.599455</td>\n    </tr>\n    <tr>\n      <th>5</th>\n      <td>Wilson High School</td>\n      <td>Charter</td>\n      <td>2283</td>\n      <td>1319574</td>\n      <td>578.0</td>\n      <td>83.274201</td>\n      <td>83.989488</td>\n      <td>135.523434</td>\n      <td>164.169952</td>\n      <td>108.672799</td>\n    </tr>\n    <tr>\n      <th>6</th>\n      <td>Cabrera High School</td>\n      <td>Charter</td>\n      <td>1858</td>\n      <td>1081356</td>\n      <td>582.0</td>\n      <td>83.061895</td>\n      <td>83.975780</td>\n      <td>21.259419</td>\n      <td>22.120560</td>\n      <td>20.505920</td>\n    </tr>\n    <tr>\n      <th>7</th>\n      <td>Bailey High School</td>\n      <td>District</td>\n      <td>4976</td>\n      <td>3124928</td>\n      <td>628.0</td>\n      <td>77.048432</td>\n      <td>81.033963</td>\n      <td>38.504823</td>\n      <td>47.668810</td>\n      <td>31.370579</td>\n    </tr>\n    <tr>\n      <th>8</th>\n      <td>Holden High School</td>\n      <td>Charter</td>\n      <td>427</td>\n      <td>248087</td>\n      <td>581.0</td>\n      <td>83.803279</td>\n      <td>83.814988</td>\n      <td>736.533958</td>\n      <td>905.620609</td>\n      <td>596.955504</td>\n    </tr>\n    <tr>\n      <th>9</th>\n      <td>Pena High School</td>\n      <td>Charter</td>\n      <td>962</td>\n      <td>585858</td>\n      <td>609.0</td>\n      <td>83.839917</td>\n      <td>84.044699</td>\n      <td>94.594595</td>\n      <td>95.945946</td>\n      <td>90.540541</td>\n    </tr>\n    <tr>\n      <th>10</th>\n      <td>Wright High School</td>\n      <td>Charter</td>\n      <td>1800</td>\n      <td>1049400</td>\n      <td>583.0</td>\n      <td>83.682222</td>\n      <td>83.955000</td>\n      <td>147.444444</td>\n      <td>178.222222</td>\n      <td>117.722222</td>\n    </tr>\n    <tr>\n      <th>11</th>\n      <td>Rodriguez High School</td>\n      <td>District</td>\n      <td>3999</td>\n      <td>2547363</td>\n      <td>637.0</td>\n      <td>76.842711</td>\n      <td>80.744686</td>\n      <td>41.335334</td>\n      <td>42.210553</td>\n      <td>39.584896</td>\n    </tr>\n    <tr>\n      <th>12</th>\n      <td>Johnson High School</td>\n      <td>District</td>\n      <td>4761</td>\n      <td>3094650</td>\n      <td>650.0</td>\n      <td>77.072464</td>\n      <td>80.966394</td>\n      <td>32.031086</td>\n      <td>33.417349</td>\n      <td>31.232934</td>\n    </tr>\n    <tr>\n      <th>13</th>\n      <td>Ford High School</td>\n      <td>District</td>\n      <td>2739</td>\n      <td>1763916</td>\n      <td>644.0</td>\n      <td>77.102592</td>\n      <td>80.746258</td>\n      <td>78.240234</td>\n      <td>80.467324</td>\n      <td>75.502008</td>\n    </tr>\n    <tr>\n      <th>14</th>\n      <td>Thomas High School</td>\n      <td>Charter</td>\n      <td>1635</td>\n      <td>1043130</td>\n      <td>638.0</td>\n      <td>83.418349</td>\n      <td>83.848930</td>\n      <td>102.752294</td>\n      <td>106.360856</td>\n      <td>99.449541</td>\n    </tr>\n  </tbody>\n</table>\n</div>"
     },
     "execution_count": 20,
     "metadata": {},
     "output_type": "execute_result"
    }
   ],
   "source": [
    "# Calculate percentages and ADD to new columns\n",
    "school_passing_percent = school_score_avg.assign(passed_math_percent=\n",
    "                                                   school_passing_totals[\"students_passed_math\"].values / school_score_avg[\"size\"] * 100,\n",
    "                                                   passed_reading_percent=\n",
    "                                                   school_passing_totals[\"students_passed_reading\"].values / school_score_avg[\"size\"] * 100,\n",
    "                                                   passed_both_percent=\n",
    "                                                   school_passing_totals[\"students_passed_both\"].values / school_score_avg[\"size\"] * 100)\n",
    "\n",
    "school_passing_percent"
   ],
   "metadata": {
    "collapsed": false,
    "ExecuteTime": {
     "end_time": "2023-11-30T00:59:05.295243Z",
     "start_time": "2023-11-30T00:59:05.264711Z"
    }
   }
  },
  {
   "cell_type": "code",
   "execution_count": 21,
   "metadata": {
    "ExecuteTime": {
     "end_time": "2023-11-30T00:59:05.296376Z",
     "start_time": "2023-11-30T00:59:05.270463Z"
    }
   },
   "outputs": [
    {
     "data": {
      "text/plain": "              School Name School Type  Total Students Total School Budget  \\\n0       Huang High School    District            2917       $1,910,635.00   \n1    Figueroa High School    District            2949       $1,884,411.00   \n2     Shelton High School     Charter            1761       $1,056,600.00   \n3   Hernandez High School    District            4635       $3,022,020.00   \n4     Griffin High School     Charter            1468         $917,500.00   \n5      Wilson High School     Charter            2283       $1,319,574.00   \n6     Cabrera High School     Charter            1858       $1,081,356.00   \n7      Bailey High School    District            4976       $3,124,928.00   \n8      Holden High School     Charter             427         $248,087.00   \n9        Pena High School     Charter             962         $585,858.00   \n10     Wright High School     Charter            1800       $1,049,400.00   \n11  Rodriguez High School    District            3999       $2,547,363.00   \n12    Johnson High School    District            4761       $3,094,650.00   \n13       Ford High School    District            2739       $1,763,916.00   \n14     Thomas High School     Charter            1635       $1,043,130.00   \n\n   Per Student Budget   math_avg  reading_avg  % Passing Math  \\\n0             $655.00  76.629414    81.182722      113.747000   \n1             $639.00  76.711767    81.158020       59.308240   \n2             $600.00  83.359455    83.725724      110.505395   \n3             $652.00  77.289752    80.934412       40.366775   \n4             $625.00  83.351499    83.816757       93.392371   \n5             $578.00  83.274201    83.989488      135.523434   \n6             $582.00  83.061895    83.975780       21.259419   \n7             $628.00  77.048432    81.033963       38.504823   \n8             $581.00  83.803279    83.814988      736.533958   \n9             $609.00  83.839917    84.044699       94.594595   \n10            $583.00  83.682222    83.955000      147.444444   \n11            $637.00  76.842711    80.744686       41.335334   \n12            $650.00  77.072464    80.966394       32.031086   \n13            $644.00  77.102592    80.746258       78.240234   \n14            $638.00  83.418349    83.848930      102.752294   \n\n    % Passing Reading  % Overall Passing  \n0          139.766884          93.212204  \n1           61.139369          57.544930  \n2          135.207269          89.097104  \n3           46.860841          32.081985  \n4           97.138965          90.599455  \n5          164.169952         108.672799  \n6           22.120560          20.505920  \n7           47.668810          31.370579  \n8          905.620609         596.955504  \n9           95.945946          90.540541  \n10         178.222222         117.722222  \n11          42.210553          39.584896  \n12          33.417349          31.232934  \n13          80.467324          75.502008  \n14         106.360856          99.449541  ",
      "text/html": "<div>\n<style scoped>\n    .dataframe tbody tr th:only-of-type {\n        vertical-align: middle;\n    }\n\n    .dataframe tbody tr th {\n        vertical-align: top;\n    }\n\n    .dataframe thead th {\n        text-align: right;\n    }\n</style>\n<table border=\"1\" class=\"dataframe\">\n  <thead>\n    <tr style=\"text-align: right;\">\n      <th></th>\n      <th>School Name</th>\n      <th>School Type</th>\n      <th>Total Students</th>\n      <th>Total School Budget</th>\n      <th>Per Student Budget</th>\n      <th>math_avg</th>\n      <th>reading_avg</th>\n      <th>% Passing Math</th>\n      <th>% Passing Reading</th>\n      <th>% Overall Passing</th>\n    </tr>\n  </thead>\n  <tbody>\n    <tr>\n      <th>0</th>\n      <td>Huang High School</td>\n      <td>District</td>\n      <td>2917</td>\n      <td>$1,910,635.00</td>\n      <td>$655.00</td>\n      <td>76.629414</td>\n      <td>81.182722</td>\n      <td>113.747000</td>\n      <td>139.766884</td>\n      <td>93.212204</td>\n    </tr>\n    <tr>\n      <th>1</th>\n      <td>Figueroa High School</td>\n      <td>District</td>\n      <td>2949</td>\n      <td>$1,884,411.00</td>\n      <td>$639.00</td>\n      <td>76.711767</td>\n      <td>81.158020</td>\n      <td>59.308240</td>\n      <td>61.139369</td>\n      <td>57.544930</td>\n    </tr>\n    <tr>\n      <th>2</th>\n      <td>Shelton High School</td>\n      <td>Charter</td>\n      <td>1761</td>\n      <td>$1,056,600.00</td>\n      <td>$600.00</td>\n      <td>83.359455</td>\n      <td>83.725724</td>\n      <td>110.505395</td>\n      <td>135.207269</td>\n      <td>89.097104</td>\n    </tr>\n    <tr>\n      <th>3</th>\n      <td>Hernandez High School</td>\n      <td>District</td>\n      <td>4635</td>\n      <td>$3,022,020.00</td>\n      <td>$652.00</td>\n      <td>77.289752</td>\n      <td>80.934412</td>\n      <td>40.366775</td>\n      <td>46.860841</td>\n      <td>32.081985</td>\n    </tr>\n    <tr>\n      <th>4</th>\n      <td>Griffin High School</td>\n      <td>Charter</td>\n      <td>1468</td>\n      <td>$917,500.00</td>\n      <td>$625.00</td>\n      <td>83.351499</td>\n      <td>83.816757</td>\n      <td>93.392371</td>\n      <td>97.138965</td>\n      <td>90.599455</td>\n    </tr>\n    <tr>\n      <th>5</th>\n      <td>Wilson High School</td>\n      <td>Charter</td>\n      <td>2283</td>\n      <td>$1,319,574.00</td>\n      <td>$578.00</td>\n      <td>83.274201</td>\n      <td>83.989488</td>\n      <td>135.523434</td>\n      <td>164.169952</td>\n      <td>108.672799</td>\n    </tr>\n    <tr>\n      <th>6</th>\n      <td>Cabrera High School</td>\n      <td>Charter</td>\n      <td>1858</td>\n      <td>$1,081,356.00</td>\n      <td>$582.00</td>\n      <td>83.061895</td>\n      <td>83.975780</td>\n      <td>21.259419</td>\n      <td>22.120560</td>\n      <td>20.505920</td>\n    </tr>\n    <tr>\n      <th>7</th>\n      <td>Bailey High School</td>\n      <td>District</td>\n      <td>4976</td>\n      <td>$3,124,928.00</td>\n      <td>$628.00</td>\n      <td>77.048432</td>\n      <td>81.033963</td>\n      <td>38.504823</td>\n      <td>47.668810</td>\n      <td>31.370579</td>\n    </tr>\n    <tr>\n      <th>8</th>\n      <td>Holden High School</td>\n      <td>Charter</td>\n      <td>427</td>\n      <td>$248,087.00</td>\n      <td>$581.00</td>\n      <td>83.803279</td>\n      <td>83.814988</td>\n      <td>736.533958</td>\n      <td>905.620609</td>\n      <td>596.955504</td>\n    </tr>\n    <tr>\n      <th>9</th>\n      <td>Pena High School</td>\n      <td>Charter</td>\n      <td>962</td>\n      <td>$585,858.00</td>\n      <td>$609.00</td>\n      <td>83.839917</td>\n      <td>84.044699</td>\n      <td>94.594595</td>\n      <td>95.945946</td>\n      <td>90.540541</td>\n    </tr>\n    <tr>\n      <th>10</th>\n      <td>Wright High School</td>\n      <td>Charter</td>\n      <td>1800</td>\n      <td>$1,049,400.00</td>\n      <td>$583.00</td>\n      <td>83.682222</td>\n      <td>83.955000</td>\n      <td>147.444444</td>\n      <td>178.222222</td>\n      <td>117.722222</td>\n    </tr>\n    <tr>\n      <th>11</th>\n      <td>Rodriguez High School</td>\n      <td>District</td>\n      <td>3999</td>\n      <td>$2,547,363.00</td>\n      <td>$637.00</td>\n      <td>76.842711</td>\n      <td>80.744686</td>\n      <td>41.335334</td>\n      <td>42.210553</td>\n      <td>39.584896</td>\n    </tr>\n    <tr>\n      <th>12</th>\n      <td>Johnson High School</td>\n      <td>District</td>\n      <td>4761</td>\n      <td>$3,094,650.00</td>\n      <td>$650.00</td>\n      <td>77.072464</td>\n      <td>80.966394</td>\n      <td>32.031086</td>\n      <td>33.417349</td>\n      <td>31.232934</td>\n    </tr>\n    <tr>\n      <th>13</th>\n      <td>Ford High School</td>\n      <td>District</td>\n      <td>2739</td>\n      <td>$1,763,916.00</td>\n      <td>$644.00</td>\n      <td>77.102592</td>\n      <td>80.746258</td>\n      <td>78.240234</td>\n      <td>80.467324</td>\n      <td>75.502008</td>\n    </tr>\n    <tr>\n      <th>14</th>\n      <td>Thomas High School</td>\n      <td>Charter</td>\n      <td>1635</td>\n      <td>$1,043,130.00</td>\n      <td>$638.00</td>\n      <td>83.418349</td>\n      <td>83.848930</td>\n      <td>102.752294</td>\n      <td>106.360856</td>\n      <td>99.449541</td>\n    </tr>\n  </tbody>\n</table>\n</div>"
     },
     "execution_count": 21,
     "metadata": {},
     "output_type": "execute_result"
    }
   ],
   "source": [
    "# RENAME columns of above df since it has all needed info\n",
    "school_summary = school_passing_percent.rename(columns={\"school_name\": \"School Name\",\n",
    "                                                        \"type\": \"School Type\", \n",
    "                                                        \"size\": \"Total Students\", \n",
    "                                                        \"budget\": \"Total School Budget\",\n",
    "                                                        \"per_capita\": \"Per Student Budget\", \n",
    "                                                        \"math_average\": \"Average Math Score\",\n",
    "                                                        \"reading_average\": \"Average Reading Score\",\n",
    "                                                        \"passed_math_percent\": \"% Passing Math\",\n",
    "                                                        \"passed_reading_percent\": \"% Passing Reading\",\n",
    "                                                        \"passed_both_percent\": \"% Overall Passing\"})\n",
    "\n",
    "# Format\n",
    "school_summary[\"Total School Budget\"] = school_summary[\"Total School Budget\"].map(\"${:,.2f}\".format)\n",
    "school_summary[\"Per Student Budget\"] = school_summary[\"Per Student Budget\"].map(\"${:,.2f}\".format)\n",
    "\n",
    "# Display the DataFrame\n",
    "school_summary"
   ]
  },
  {
   "cell_type": "markdown",
   "metadata": {},
   "source": [
    "## Highest-Performing Schools (by % Overall Passing)"
   ]
  },
  {
   "cell_type": "code",
   "execution_count": 22,
   "metadata": {
    "scrolled": true,
    "ExecuteTime": {
     "end_time": "2023-11-30T00:59:05.296711Z",
     "start_time": "2023-11-30T00:59:05.275858Z"
    }
   },
   "outputs": [
    {
     "data": {
      "text/plain": "           School Name School Type  Total Students Total School Budget  \\\n8   Holden High School     Charter             427         $248,087.00   \n10  Wright High School     Charter            1800       $1,049,400.00   \n5   Wilson High School     Charter            2283       $1,319,574.00   \n14  Thomas High School     Charter            1635       $1,043,130.00   \n0    Huang High School    District            2917       $1,910,635.00   \n\n   Per Student Budget   math_avg  reading_avg  % Passing Math  \\\n8             $581.00  83.803279    83.814988      736.533958   \n10            $583.00  83.682222    83.955000      147.444444   \n5             $578.00  83.274201    83.989488      135.523434   \n14            $638.00  83.418349    83.848930      102.752294   \n0             $655.00  76.629414    81.182722      113.747000   \n\n    % Passing Reading  % Overall Passing  \n8          905.620609         596.955504  \n10         178.222222         117.722222  \n5          164.169952         108.672799  \n14         106.360856          99.449541  \n0          139.766884          93.212204  ",
      "text/html": "<div>\n<style scoped>\n    .dataframe tbody tr th:only-of-type {\n        vertical-align: middle;\n    }\n\n    .dataframe tbody tr th {\n        vertical-align: top;\n    }\n\n    .dataframe thead th {\n        text-align: right;\n    }\n</style>\n<table border=\"1\" class=\"dataframe\">\n  <thead>\n    <tr style=\"text-align: right;\">\n      <th></th>\n      <th>School Name</th>\n      <th>School Type</th>\n      <th>Total Students</th>\n      <th>Total School Budget</th>\n      <th>Per Student Budget</th>\n      <th>math_avg</th>\n      <th>reading_avg</th>\n      <th>% Passing Math</th>\n      <th>% Passing Reading</th>\n      <th>% Overall Passing</th>\n    </tr>\n  </thead>\n  <tbody>\n    <tr>\n      <th>8</th>\n      <td>Holden High School</td>\n      <td>Charter</td>\n      <td>427</td>\n      <td>$248,087.00</td>\n      <td>$581.00</td>\n      <td>83.803279</td>\n      <td>83.814988</td>\n      <td>736.533958</td>\n      <td>905.620609</td>\n      <td>596.955504</td>\n    </tr>\n    <tr>\n      <th>10</th>\n      <td>Wright High School</td>\n      <td>Charter</td>\n      <td>1800</td>\n      <td>$1,049,400.00</td>\n      <td>$583.00</td>\n      <td>83.682222</td>\n      <td>83.955000</td>\n      <td>147.444444</td>\n      <td>178.222222</td>\n      <td>117.722222</td>\n    </tr>\n    <tr>\n      <th>5</th>\n      <td>Wilson High School</td>\n      <td>Charter</td>\n      <td>2283</td>\n      <td>$1,319,574.00</td>\n      <td>$578.00</td>\n      <td>83.274201</td>\n      <td>83.989488</td>\n      <td>135.523434</td>\n      <td>164.169952</td>\n      <td>108.672799</td>\n    </tr>\n    <tr>\n      <th>14</th>\n      <td>Thomas High School</td>\n      <td>Charter</td>\n      <td>1635</td>\n      <td>$1,043,130.00</td>\n      <td>$638.00</td>\n      <td>83.418349</td>\n      <td>83.848930</td>\n      <td>102.752294</td>\n      <td>106.360856</td>\n      <td>99.449541</td>\n    </tr>\n    <tr>\n      <th>0</th>\n      <td>Huang High School</td>\n      <td>District</td>\n      <td>2917</td>\n      <td>$1,910,635.00</td>\n      <td>$655.00</td>\n      <td>76.629414</td>\n      <td>81.182722</td>\n      <td>113.747000</td>\n      <td>139.766884</td>\n      <td>93.212204</td>\n    </tr>\n  </tbody>\n</table>\n</div>"
     },
     "execution_count": 22,
     "metadata": {},
     "output_type": "execute_result"
    }
   ],
   "source": [
    "# Sort the schools by `% Overall Passing` in descending order and display the top 5 rows.\n",
    "top_schools = school_summary.sort_values(\"% Overall Passing\", ascending=False)\n",
    "top_schools.head(5)"
   ]
  },
  {
   "cell_type": "markdown",
   "metadata": {},
   "source": [
    "## Bottom Performing Schools (By % Overall Passing)"
   ]
  },
  {
   "cell_type": "code",
   "execution_count": 23,
   "metadata": {
    "ExecuteTime": {
     "end_time": "2023-11-30T00:59:05.353405Z",
     "start_time": "2023-11-30T00:59:05.282218Z"
    }
   },
   "outputs": [
    {
     "data": {
      "text/plain": "              School Name School Type  Total Students Total School Budget  \\\n6     Cabrera High School     Charter            1858       $1,081,356.00   \n12    Johnson High School    District            4761       $3,094,650.00   \n7      Bailey High School    District            4976       $3,124,928.00   \n3   Hernandez High School    District            4635       $3,022,020.00   \n11  Rodriguez High School    District            3999       $2,547,363.00   \n\n   Per Student Budget   math_avg  reading_avg  % Passing Math  \\\n6             $582.00  83.061895    83.975780       21.259419   \n12            $650.00  77.072464    80.966394       32.031086   \n7             $628.00  77.048432    81.033963       38.504823   \n3             $652.00  77.289752    80.934412       40.366775   \n11            $637.00  76.842711    80.744686       41.335334   \n\n    % Passing Reading  % Overall Passing  \n6           22.120560          20.505920  \n12          33.417349          31.232934  \n7           47.668810          31.370579  \n3           46.860841          32.081985  \n11          42.210553          39.584896  ",
      "text/html": "<div>\n<style scoped>\n    .dataframe tbody tr th:only-of-type {\n        vertical-align: middle;\n    }\n\n    .dataframe tbody tr th {\n        vertical-align: top;\n    }\n\n    .dataframe thead th {\n        text-align: right;\n    }\n</style>\n<table border=\"1\" class=\"dataframe\">\n  <thead>\n    <tr style=\"text-align: right;\">\n      <th></th>\n      <th>School Name</th>\n      <th>School Type</th>\n      <th>Total Students</th>\n      <th>Total School Budget</th>\n      <th>Per Student Budget</th>\n      <th>math_avg</th>\n      <th>reading_avg</th>\n      <th>% Passing Math</th>\n      <th>% Passing Reading</th>\n      <th>% Overall Passing</th>\n    </tr>\n  </thead>\n  <tbody>\n    <tr>\n      <th>6</th>\n      <td>Cabrera High School</td>\n      <td>Charter</td>\n      <td>1858</td>\n      <td>$1,081,356.00</td>\n      <td>$582.00</td>\n      <td>83.061895</td>\n      <td>83.975780</td>\n      <td>21.259419</td>\n      <td>22.120560</td>\n      <td>20.505920</td>\n    </tr>\n    <tr>\n      <th>12</th>\n      <td>Johnson High School</td>\n      <td>District</td>\n      <td>4761</td>\n      <td>$3,094,650.00</td>\n      <td>$650.00</td>\n      <td>77.072464</td>\n      <td>80.966394</td>\n      <td>32.031086</td>\n      <td>33.417349</td>\n      <td>31.232934</td>\n    </tr>\n    <tr>\n      <th>7</th>\n      <td>Bailey High School</td>\n      <td>District</td>\n      <td>4976</td>\n      <td>$3,124,928.00</td>\n      <td>$628.00</td>\n      <td>77.048432</td>\n      <td>81.033963</td>\n      <td>38.504823</td>\n      <td>47.668810</td>\n      <td>31.370579</td>\n    </tr>\n    <tr>\n      <th>3</th>\n      <td>Hernandez High School</td>\n      <td>District</td>\n      <td>4635</td>\n      <td>$3,022,020.00</td>\n      <td>$652.00</td>\n      <td>77.289752</td>\n      <td>80.934412</td>\n      <td>40.366775</td>\n      <td>46.860841</td>\n      <td>32.081985</td>\n    </tr>\n    <tr>\n      <th>11</th>\n      <td>Rodriguez High School</td>\n      <td>District</td>\n      <td>3999</td>\n      <td>$2,547,363.00</td>\n      <td>$637.00</td>\n      <td>76.842711</td>\n      <td>80.744686</td>\n      <td>41.335334</td>\n      <td>42.210553</td>\n      <td>39.584896</td>\n    </tr>\n  </tbody>\n</table>\n</div>"
     },
     "execution_count": 23,
     "metadata": {},
     "output_type": "execute_result"
    }
   ],
   "source": [
    "# Sort the schools by `% Overall Passing` in ascending order and display the top 5 rows.\n",
    "bottom_schools = school_summary.sort_values(\"% Overall Passing\", ascending=True)\n",
    "\n",
    "bottom_schools.head(5)"
   ]
  },
  {
   "cell_type": "markdown",
   "metadata": {},
   "source": [
    "## Math Scores by Grade"
   ]
  },
  {
   "cell_type": "code",
   "execution_count": 24,
   "metadata": {
    "ExecuteTime": {
     "end_time": "2023-11-30T00:59:05.356769Z",
     "start_time": "2023-11-30T00:59:05.286468Z"
    }
   },
   "outputs": [
    {
     "data": {
      "text/plain": "                             9th       10th       11th       12th\nBailey High School     77.083676  76.996772  77.515588  76.492218\nCabrera High School    83.094697  83.154506  82.765560  83.277487\nFigueroa High School   76.403037  76.539974  76.884344  77.151369\nFord High School       77.361345  77.672316  76.918058  76.179963\nGriffin High School    82.044010  84.229064  83.842105  83.356164\nHernandez High School  77.438495  77.337408  77.136029  77.186567\nHolden High School     83.787402  83.429825  85.000000  82.855422\nHuang High School      77.027251  75.908735  76.446602  77.225641\nJohnson High School    77.187857  76.691117  77.491653  76.863248\nPena High School       83.625455  83.372000  84.328125  84.121547\nRodriguez High School  76.859966  76.612500  76.395626  77.690748\nShelton High School    83.420755  82.917411  83.383495  83.778976\nThomas High School     83.590022  83.087886  83.498795  83.497041\nWilson High School     83.085578  83.724422  83.195326  83.035794\nWright High School     83.264706  84.010288  83.836782  83.644986",
      "text/html": "<div>\n<style scoped>\n    .dataframe tbody tr th:only-of-type {\n        vertical-align: middle;\n    }\n\n    .dataframe tbody tr th {\n        vertical-align: top;\n    }\n\n    .dataframe thead th {\n        text-align: right;\n    }\n</style>\n<table border=\"1\" class=\"dataframe\">\n  <thead>\n    <tr style=\"text-align: right;\">\n      <th></th>\n      <th>9th</th>\n      <th>10th</th>\n      <th>11th</th>\n      <th>12th</th>\n    </tr>\n  </thead>\n  <tbody>\n    <tr>\n      <th>Bailey High School</th>\n      <td>77.083676</td>\n      <td>76.996772</td>\n      <td>77.515588</td>\n      <td>76.492218</td>\n    </tr>\n    <tr>\n      <th>Cabrera High School</th>\n      <td>83.094697</td>\n      <td>83.154506</td>\n      <td>82.765560</td>\n      <td>83.277487</td>\n    </tr>\n    <tr>\n      <th>Figueroa High School</th>\n      <td>76.403037</td>\n      <td>76.539974</td>\n      <td>76.884344</td>\n      <td>77.151369</td>\n    </tr>\n    <tr>\n      <th>Ford High School</th>\n      <td>77.361345</td>\n      <td>77.672316</td>\n      <td>76.918058</td>\n      <td>76.179963</td>\n    </tr>\n    <tr>\n      <th>Griffin High School</th>\n      <td>82.044010</td>\n      <td>84.229064</td>\n      <td>83.842105</td>\n      <td>83.356164</td>\n    </tr>\n    <tr>\n      <th>Hernandez High School</th>\n      <td>77.438495</td>\n      <td>77.337408</td>\n      <td>77.136029</td>\n      <td>77.186567</td>\n    </tr>\n    <tr>\n      <th>Holden High School</th>\n      <td>83.787402</td>\n      <td>83.429825</td>\n      <td>85.000000</td>\n      <td>82.855422</td>\n    </tr>\n    <tr>\n      <th>Huang High School</th>\n      <td>77.027251</td>\n      <td>75.908735</td>\n      <td>76.446602</td>\n      <td>77.225641</td>\n    </tr>\n    <tr>\n      <th>Johnson High School</th>\n      <td>77.187857</td>\n      <td>76.691117</td>\n      <td>77.491653</td>\n      <td>76.863248</td>\n    </tr>\n    <tr>\n      <th>Pena High School</th>\n      <td>83.625455</td>\n      <td>83.372000</td>\n      <td>84.328125</td>\n      <td>84.121547</td>\n    </tr>\n    <tr>\n      <th>Rodriguez High School</th>\n      <td>76.859966</td>\n      <td>76.612500</td>\n      <td>76.395626</td>\n      <td>77.690748</td>\n    </tr>\n    <tr>\n      <th>Shelton High School</th>\n      <td>83.420755</td>\n      <td>82.917411</td>\n      <td>83.383495</td>\n      <td>83.778976</td>\n    </tr>\n    <tr>\n      <th>Thomas High School</th>\n      <td>83.590022</td>\n      <td>83.087886</td>\n      <td>83.498795</td>\n      <td>83.497041</td>\n    </tr>\n    <tr>\n      <th>Wilson High School</th>\n      <td>83.085578</td>\n      <td>83.724422</td>\n      <td>83.195326</td>\n      <td>83.035794</td>\n    </tr>\n    <tr>\n      <th>Wright High School</th>\n      <td>83.264706</td>\n      <td>84.010288</td>\n      <td>83.836782</td>\n      <td>83.644986</td>\n    </tr>\n  </tbody>\n</table>\n</div>"
     },
     "execution_count": 24,
     "metadata": {},
     "output_type": "execute_result"
    }
   ],
   "source": [
    "# Use the code provided to separate the data by grade\n",
    "ninth_graders = complete_data[(complete_data[\"grade\"] == \"9th\")]\n",
    "tenth_graders = complete_data[(complete_data[\"grade\"] == \"10th\")]\n",
    "eleventh_graders = complete_data[(complete_data[\"grade\"] == \"11th\")]\n",
    "twelfth_graders = complete_data[(complete_data[\"grade\"] == \"12th\")]\n",
    "\n",
    "# Combine each of the scores above into single DataFrame called `math_scores_by_grade`\n",
    "math_scores_by_grade = pd.DataFrame({\"9th\":ninth_graders.groupby(\"school_name\")[\"math_score\"].mean(),\n",
    "                                     \"10th\":tenth_graders.groupby(\"school_name\")[\"math_score\"].mean(),\n",
    "                                     \"11th\":eleventh_graders.groupby(\"school_name\")[\"math_score\"].mean(),\n",
    "                                     \"12th\":twelfth_graders.groupby(\"school_name\")[\"math_score\"].mean()})\n",
    "# Minor data wrangling\n",
    "math_scores_by_grade.index.name = None\n",
    "\n",
    "# Display the DataFrame\n",
    "math_scores_by_grade"
   ]
  },
  {
   "cell_type": "markdown",
   "metadata": {},
   "source": [
    "## Reading Score by Grade "
   ]
  },
  {
   "cell_type": "code",
   "execution_count": 25,
   "metadata": {
    "ExecuteTime": {
     "end_time": "2023-11-30T00:59:05.396247Z",
     "start_time": "2023-11-30T00:59:05.299508Z"
    }
   },
   "outputs": [
    {
     "data": {
      "text/plain": "                             9th       10th       11th       12th\nBailey High School     81.303155  80.907183  80.945643  80.912451\nCabrera High School    83.676136  84.253219  83.788382  84.287958\nFigueroa High School   81.198598  81.408912  80.640339  81.384863\nFord High School       80.632653  81.262712  80.403642  80.662338\nGriffin High School    83.369193  83.706897  84.288089  84.013699\nHernandez High School  80.866860  80.660147  81.396140  80.857143\nHolden High School     83.677165  83.324561  83.815534  84.698795\nHuang High School      81.290284  81.512386  81.417476  80.305983\nJohnson High School    81.260714  80.773431  80.616027  81.227564\nPena High School       83.807273  83.612000  84.335938  84.591160\nRodriguez High School  80.993127  80.629808  80.864811  80.376426\nShelton High School    84.122642  83.441964  84.373786  82.781671\nThomas High School     83.728850  84.254157  83.585542  83.831361\nWilson High School     83.939778  84.021452  83.764608  84.317673\nWright High School     83.833333  83.812757  84.156322  84.073171",
      "text/html": "<div>\n<style scoped>\n    .dataframe tbody tr th:only-of-type {\n        vertical-align: middle;\n    }\n\n    .dataframe tbody tr th {\n        vertical-align: top;\n    }\n\n    .dataframe thead th {\n        text-align: right;\n    }\n</style>\n<table border=\"1\" class=\"dataframe\">\n  <thead>\n    <tr style=\"text-align: right;\">\n      <th></th>\n      <th>9th</th>\n      <th>10th</th>\n      <th>11th</th>\n      <th>12th</th>\n    </tr>\n  </thead>\n  <tbody>\n    <tr>\n      <th>Bailey High School</th>\n      <td>81.303155</td>\n      <td>80.907183</td>\n      <td>80.945643</td>\n      <td>80.912451</td>\n    </tr>\n    <tr>\n      <th>Cabrera High School</th>\n      <td>83.676136</td>\n      <td>84.253219</td>\n      <td>83.788382</td>\n      <td>84.287958</td>\n    </tr>\n    <tr>\n      <th>Figueroa High School</th>\n      <td>81.198598</td>\n      <td>81.408912</td>\n      <td>80.640339</td>\n      <td>81.384863</td>\n    </tr>\n    <tr>\n      <th>Ford High School</th>\n      <td>80.632653</td>\n      <td>81.262712</td>\n      <td>80.403642</td>\n      <td>80.662338</td>\n    </tr>\n    <tr>\n      <th>Griffin High School</th>\n      <td>83.369193</td>\n      <td>83.706897</td>\n      <td>84.288089</td>\n      <td>84.013699</td>\n    </tr>\n    <tr>\n      <th>Hernandez High School</th>\n      <td>80.866860</td>\n      <td>80.660147</td>\n      <td>81.396140</td>\n      <td>80.857143</td>\n    </tr>\n    <tr>\n      <th>Holden High School</th>\n      <td>83.677165</td>\n      <td>83.324561</td>\n      <td>83.815534</td>\n      <td>84.698795</td>\n    </tr>\n    <tr>\n      <th>Huang High School</th>\n      <td>81.290284</td>\n      <td>81.512386</td>\n      <td>81.417476</td>\n      <td>80.305983</td>\n    </tr>\n    <tr>\n      <th>Johnson High School</th>\n      <td>81.260714</td>\n      <td>80.773431</td>\n      <td>80.616027</td>\n      <td>81.227564</td>\n    </tr>\n    <tr>\n      <th>Pena High School</th>\n      <td>83.807273</td>\n      <td>83.612000</td>\n      <td>84.335938</td>\n      <td>84.591160</td>\n    </tr>\n    <tr>\n      <th>Rodriguez High School</th>\n      <td>80.993127</td>\n      <td>80.629808</td>\n      <td>80.864811</td>\n      <td>80.376426</td>\n    </tr>\n    <tr>\n      <th>Shelton High School</th>\n      <td>84.122642</td>\n      <td>83.441964</td>\n      <td>84.373786</td>\n      <td>82.781671</td>\n    </tr>\n    <tr>\n      <th>Thomas High School</th>\n      <td>83.728850</td>\n      <td>84.254157</td>\n      <td>83.585542</td>\n      <td>83.831361</td>\n    </tr>\n    <tr>\n      <th>Wilson High School</th>\n      <td>83.939778</td>\n      <td>84.021452</td>\n      <td>83.764608</td>\n      <td>84.317673</td>\n    </tr>\n    <tr>\n      <th>Wright High School</th>\n      <td>83.833333</td>\n      <td>83.812757</td>\n      <td>84.156322</td>\n      <td>84.073171</td>\n    </tr>\n  </tbody>\n</table>\n</div>"
     },
     "execution_count": 25,
     "metadata": {},
     "output_type": "execute_result"
    }
   ],
   "source": [
    "# Combine each of the scores above into single DataFrame called `math_scores_by_grade`\n",
    "reading_scores_by_grade = pd.DataFrame({\"9th\":ninth_graders.groupby(\"school_name\")[\"reading_score\"].mean(),\n",
    "                                     \"10th\":tenth_graders.groupby(\"school_name\")[\"reading_score\"].mean(),\n",
    "                                     \"11th\":eleventh_graders.groupby(\"school_name\")[\"reading_score\"].mean(),\n",
    "                                     \"12th\":twelfth_graders.groupby(\"school_name\")[\"reading_score\"].mean()})\n",
    "# Minor data wrangling\n",
    "reading_scores_by_grade.index.name = None\n",
    "\n",
    "# Display the DataFrame\n",
    "reading_scores_by_grade"
   ]
  },
  {
   "cell_type": "markdown",
   "metadata": {},
   "source": [
    "## Scores by School Spending"
   ]
  },
  {
   "cell_type": "code",
   "execution_count": 26,
   "outputs": [],
   "source": [
    "# Establish the bins \n",
    "spending_bins = [0, 585, 630, 645, 680]\n",
    "spending_labels = [\"<$585\", \"$585-630\", \"$630-645\", \"$645-680\"]"
   ],
   "metadata": {
    "collapsed": false,
    "ExecuteTime": {
     "end_time": "2023-11-30T00:59:05.396514Z",
     "start_time": "2023-11-30T00:59:05.305254Z"
    }
   }
  },
  {
   "cell_type": "code",
   "execution_count": 27,
   "metadata": {
    "ExecuteTime": {
     "end_time": "2023-11-30T00:59:05.398880Z",
     "start_time": "2023-11-30T00:59:05.311029Z"
    }
   },
   "outputs": [
    {
     "data": {
      "text/plain": "              School Name School Type  Total Students Total School Budget  \\\n0       Huang High School    District            2917       $1,910,635.00   \n1    Figueroa High School    District            2949       $1,884,411.00   \n2     Shelton High School     Charter            1761       $1,056,600.00   \n3   Hernandez High School    District            4635       $3,022,020.00   \n4     Griffin High School     Charter            1468         $917,500.00   \n5      Wilson High School     Charter            2283       $1,319,574.00   \n6     Cabrera High School     Charter            1858       $1,081,356.00   \n7      Bailey High School    District            4976       $3,124,928.00   \n8      Holden High School     Charter             427         $248,087.00   \n9        Pena High School     Charter             962         $585,858.00   \n10     Wright High School     Charter            1800       $1,049,400.00   \n11  Rodriguez High School    District            3999       $2,547,363.00   \n12    Johnson High School    District            4761       $3,094,650.00   \n13       Ford High School    District            2739       $1,763,916.00   \n14     Thomas High School     Charter            1635       $1,043,130.00   \n\n   Per Student Budget  Average Math Score  Average Reading Score  \\\n0             $655.00           76.629414              81.182722   \n1             $639.00           76.711767              81.158020   \n2             $600.00           83.359455              83.725724   \n3             $652.00           77.289752              80.934412   \n4             $625.00           83.351499              83.816757   \n5             $578.00           83.274201              83.989488   \n6             $582.00           83.061895              83.975780   \n7             $628.00           77.048432              81.033963   \n8             $581.00           83.803279              83.814988   \n9             $609.00           83.839917              84.044699   \n10            $583.00           83.682222              83.955000   \n11            $637.00           76.842711              80.744686   \n12            $650.00           77.072464              80.966394   \n13            $644.00           77.102592              80.746258   \n14            $638.00           83.418349              83.848930   \n\n    % Passing Math  % Passing Reading  % Overall Passing  \\\n0       113.747000         139.766884          93.212204   \n1        59.308240          61.139369          57.544930   \n2       110.505395         135.207269          89.097104   \n3        40.366775          46.860841          32.081985   \n4        93.392371          97.138965          90.599455   \n5       135.523434         164.169952         108.672799   \n6        21.259419          22.120560          20.505920   \n7        38.504823          47.668810          31.370579   \n8       736.533958         905.620609         596.955504   \n9        94.594595          95.945946          90.540541   \n10      147.444444         178.222222         117.722222   \n11       41.335334          42.210553          39.584896   \n12       32.031086          33.417349          31.232934   \n13       78.240234          80.467324          75.502008   \n14      102.752294         106.360856          99.449541   \n\n   Spending Ranges (Per Student)  \n0                       $585-630  \n1                          <$585  \n2                       $630-645  \n3                       $630-645  \n4                       $585-630  \n5                       $645-680  \n6                          <$585  \n7                       $645-680  \n8                       $645-680  \n9                       $585-630  \n10                      $630-645  \n11                      $585-630  \n12                      $630-645  \n13                         <$585  \n14                         <$585  ",
      "text/html": "<div>\n<style scoped>\n    .dataframe tbody tr th:only-of-type {\n        vertical-align: middle;\n    }\n\n    .dataframe tbody tr th {\n        vertical-align: top;\n    }\n\n    .dataframe thead th {\n        text-align: right;\n    }\n</style>\n<table border=\"1\" class=\"dataframe\">\n  <thead>\n    <tr style=\"text-align: right;\">\n      <th></th>\n      <th>School Name</th>\n      <th>School Type</th>\n      <th>Total Students</th>\n      <th>Total School Budget</th>\n      <th>Per Student Budget</th>\n      <th>Average Math Score</th>\n      <th>Average Reading Score</th>\n      <th>% Passing Math</th>\n      <th>% Passing Reading</th>\n      <th>% Overall Passing</th>\n      <th>Spending Ranges (Per Student)</th>\n    </tr>\n  </thead>\n  <tbody>\n    <tr>\n      <th>0</th>\n      <td>Huang High School</td>\n      <td>District</td>\n      <td>2917</td>\n      <td>$1,910,635.00</td>\n      <td>$655.00</td>\n      <td>76.629414</td>\n      <td>81.182722</td>\n      <td>113.747000</td>\n      <td>139.766884</td>\n      <td>93.212204</td>\n      <td>$585-630</td>\n    </tr>\n    <tr>\n      <th>1</th>\n      <td>Figueroa High School</td>\n      <td>District</td>\n      <td>2949</td>\n      <td>$1,884,411.00</td>\n      <td>$639.00</td>\n      <td>76.711767</td>\n      <td>81.158020</td>\n      <td>59.308240</td>\n      <td>61.139369</td>\n      <td>57.544930</td>\n      <td>&lt;$585</td>\n    </tr>\n    <tr>\n      <th>2</th>\n      <td>Shelton High School</td>\n      <td>Charter</td>\n      <td>1761</td>\n      <td>$1,056,600.00</td>\n      <td>$600.00</td>\n      <td>83.359455</td>\n      <td>83.725724</td>\n      <td>110.505395</td>\n      <td>135.207269</td>\n      <td>89.097104</td>\n      <td>$630-645</td>\n    </tr>\n    <tr>\n      <th>3</th>\n      <td>Hernandez High School</td>\n      <td>District</td>\n      <td>4635</td>\n      <td>$3,022,020.00</td>\n      <td>$652.00</td>\n      <td>77.289752</td>\n      <td>80.934412</td>\n      <td>40.366775</td>\n      <td>46.860841</td>\n      <td>32.081985</td>\n      <td>$630-645</td>\n    </tr>\n    <tr>\n      <th>4</th>\n      <td>Griffin High School</td>\n      <td>Charter</td>\n      <td>1468</td>\n      <td>$917,500.00</td>\n      <td>$625.00</td>\n      <td>83.351499</td>\n      <td>83.816757</td>\n      <td>93.392371</td>\n      <td>97.138965</td>\n      <td>90.599455</td>\n      <td>$585-630</td>\n    </tr>\n    <tr>\n      <th>5</th>\n      <td>Wilson High School</td>\n      <td>Charter</td>\n      <td>2283</td>\n      <td>$1,319,574.00</td>\n      <td>$578.00</td>\n      <td>83.274201</td>\n      <td>83.989488</td>\n      <td>135.523434</td>\n      <td>164.169952</td>\n      <td>108.672799</td>\n      <td>$645-680</td>\n    </tr>\n    <tr>\n      <th>6</th>\n      <td>Cabrera High School</td>\n      <td>Charter</td>\n      <td>1858</td>\n      <td>$1,081,356.00</td>\n      <td>$582.00</td>\n      <td>83.061895</td>\n      <td>83.975780</td>\n      <td>21.259419</td>\n      <td>22.120560</td>\n      <td>20.505920</td>\n      <td>&lt;$585</td>\n    </tr>\n    <tr>\n      <th>7</th>\n      <td>Bailey High School</td>\n      <td>District</td>\n      <td>4976</td>\n      <td>$3,124,928.00</td>\n      <td>$628.00</td>\n      <td>77.048432</td>\n      <td>81.033963</td>\n      <td>38.504823</td>\n      <td>47.668810</td>\n      <td>31.370579</td>\n      <td>$645-680</td>\n    </tr>\n    <tr>\n      <th>8</th>\n      <td>Holden High School</td>\n      <td>Charter</td>\n      <td>427</td>\n      <td>$248,087.00</td>\n      <td>$581.00</td>\n      <td>83.803279</td>\n      <td>83.814988</td>\n      <td>736.533958</td>\n      <td>905.620609</td>\n      <td>596.955504</td>\n      <td>$645-680</td>\n    </tr>\n    <tr>\n      <th>9</th>\n      <td>Pena High School</td>\n      <td>Charter</td>\n      <td>962</td>\n      <td>$585,858.00</td>\n      <td>$609.00</td>\n      <td>83.839917</td>\n      <td>84.044699</td>\n      <td>94.594595</td>\n      <td>95.945946</td>\n      <td>90.540541</td>\n      <td>$585-630</td>\n    </tr>\n    <tr>\n      <th>10</th>\n      <td>Wright High School</td>\n      <td>Charter</td>\n      <td>1800</td>\n      <td>$1,049,400.00</td>\n      <td>$583.00</td>\n      <td>83.682222</td>\n      <td>83.955000</td>\n      <td>147.444444</td>\n      <td>178.222222</td>\n      <td>117.722222</td>\n      <td>$630-645</td>\n    </tr>\n    <tr>\n      <th>11</th>\n      <td>Rodriguez High School</td>\n      <td>District</td>\n      <td>3999</td>\n      <td>$2,547,363.00</td>\n      <td>$637.00</td>\n      <td>76.842711</td>\n      <td>80.744686</td>\n      <td>41.335334</td>\n      <td>42.210553</td>\n      <td>39.584896</td>\n      <td>$585-630</td>\n    </tr>\n    <tr>\n      <th>12</th>\n      <td>Johnson High School</td>\n      <td>District</td>\n      <td>4761</td>\n      <td>$3,094,650.00</td>\n      <td>$650.00</td>\n      <td>77.072464</td>\n      <td>80.966394</td>\n      <td>32.031086</td>\n      <td>33.417349</td>\n      <td>31.232934</td>\n      <td>$630-645</td>\n    </tr>\n    <tr>\n      <th>13</th>\n      <td>Ford High School</td>\n      <td>District</td>\n      <td>2739</td>\n      <td>$1,763,916.00</td>\n      <td>$644.00</td>\n      <td>77.102592</td>\n      <td>80.746258</td>\n      <td>78.240234</td>\n      <td>80.467324</td>\n      <td>75.502008</td>\n      <td>&lt;$585</td>\n    </tr>\n    <tr>\n      <th>14</th>\n      <td>Thomas High School</td>\n      <td>Charter</td>\n      <td>1635</td>\n      <td>$1,043,130.00</td>\n      <td>$638.00</td>\n      <td>83.418349</td>\n      <td>83.848930</td>\n      <td>102.752294</td>\n      <td>106.360856</td>\n      <td>99.449541</td>\n      <td>&lt;$585</td>\n    </tr>\n  </tbody>\n</table>\n</div>"
     },
     "execution_count": 27,
     "metadata": {},
     "output_type": "execute_result"
    }
   ],
   "source": [
    "# using \"school_capital_budget\" since all values are numbers already\n",
    "school_spending = school_summary.assign(spending_ranges=pd.cut(\n",
    "    school_capital_budget.sort_values(\"school_name\")[\"per_capita\"].values, spending_bins, labels=spending_labels))\n",
    "school_spending = school_spending.rename(columns={\"spending_ranges\": \"Spending Ranges (Per Student)\", \"math_avg\": \"Average Math Score\", \"reading_avg\": \"Average Reading Score\"})\n",
    "school_spending"
   ]
  },
  {
   "cell_type": "code",
   "execution_count": 28,
   "metadata": {
    "ExecuteTime": {
     "end_time": "2023-11-30T00:59:05.399979Z",
     "start_time": "2023-11-30T00:59:05.314890Z"
    }
   },
   "outputs": [
    {
     "data": {
      "text/plain": "                               Average Math Score  Average Reading Score  \\\nSpending Ranges (Per Student)                                              \n<$585                                   80.073651              82.432247   \n$585-630                                80.165885              82.447216   \n$630-645                                80.350973              82.395382   \n$645-680                                81.375304              82.946146   \n\n                               % Passing Math  % Passing Reading  \\\nSpending Ranges (Per Student)                                      \n<$585                               65.390047          67.522027   \n$585-630                            85.767325          93.765587   \n$630-645                            82.586925          98.426920   \n$645-680                           303.520738         372.486457   \n\n                               % Overall Passing  \nSpending Ranges (Per Student)                     \n<$585                                  63.250600  \n$585-630                               78.484274  \n$630-645                               67.533561  \n$645-680                              245.666294  ",
      "text/html": "<div>\n<style scoped>\n    .dataframe tbody tr th:only-of-type {\n        vertical-align: middle;\n    }\n\n    .dataframe tbody tr th {\n        vertical-align: top;\n    }\n\n    .dataframe thead th {\n        text-align: right;\n    }\n</style>\n<table border=\"1\" class=\"dataframe\">\n  <thead>\n    <tr style=\"text-align: right;\">\n      <th></th>\n      <th>Average Math Score</th>\n      <th>Average Reading Score</th>\n      <th>% Passing Math</th>\n      <th>% Passing Reading</th>\n      <th>% Overall Passing</th>\n    </tr>\n    <tr>\n      <th>Spending Ranges (Per Student)</th>\n      <th></th>\n      <th></th>\n      <th></th>\n      <th></th>\n      <th></th>\n    </tr>\n  </thead>\n  <tbody>\n    <tr>\n      <th>&lt;$585</th>\n      <td>80.073651</td>\n      <td>82.432247</td>\n      <td>65.390047</td>\n      <td>67.522027</td>\n      <td>63.250600</td>\n    </tr>\n    <tr>\n      <th>$585-630</th>\n      <td>80.165885</td>\n      <td>82.447216</td>\n      <td>85.767325</td>\n      <td>93.765587</td>\n      <td>78.484274</td>\n    </tr>\n    <tr>\n      <th>$630-645</th>\n      <td>80.350973</td>\n      <td>82.395382</td>\n      <td>82.586925</td>\n      <td>98.426920</td>\n      <td>67.533561</td>\n    </tr>\n    <tr>\n      <th>$645-680</th>\n      <td>81.375304</td>\n      <td>82.946146</td>\n      <td>303.520738</td>\n      <td>372.486457</td>\n      <td>245.666294</td>\n    </tr>\n  </tbody>\n</table>\n</div>"
     },
     "execution_count": 28,
     "metadata": {},
     "output_type": "execute_result"
    }
   ],
   "source": [
    "#  Calculate averages for the desired columns and put into dataframe\n",
    "\n",
    "spending_summary = pd.DataFrame({\n",
    "    \"Average Math Score\": school_spending.groupby(\"Spending Ranges (Per Student)\", observed=False)[\"Average Math Score\"].mean(),\n",
    "    \"Average Reading Score\": school_spending.groupby(\"Spending Ranges (Per Student)\", observed=False)[\"Average Reading Score\"].mean(),\n",
    "    \"% Passing Math\": school_spending.groupby(\"Spending Ranges (Per Student)\", observed=False)[\"% Passing Math\"].mean(),\n",
    "    \"% Passing Reading\": school_spending.groupby(\"Spending Ranges (Per Student)\", observed=False)[\"% Passing Reading\"].mean(),\n",
    "    \"% Overall Passing\": school_spending.groupby(\"Spending Ranges (Per Student)\", observed=False)[\"% Overall Passing\"].mean()})\n",
    "\n",
    "spending_summary"
   ]
  },
  {
   "cell_type": "markdown",
   "metadata": {},
   "source": [
    "## Scores by School Size"
   ]
  },
  {
   "cell_type": "code",
   "execution_count": 29,
   "metadata": {
    "ExecuteTime": {
     "end_time": "2023-11-30T00:59:05.413692Z",
     "start_time": "2023-11-30T00:59:05.320643Z"
    }
   },
   "outputs": [],
   "source": [
    "# Establish the bins.\n",
    "size_bins = [0, 1000, 2000, 5000]\n",
    "size_labels = [\"Small (<1000)\", \"Medium (1000-2000)\", \"Large (2000-5000)\"]"
   ]
  },
  {
   "cell_type": "code",
   "execution_count": 30,
   "metadata": {
    "ExecuteTime": {
     "end_time": "2023-11-30T00:59:05.415945Z",
     "start_time": "2023-11-30T00:59:05.328857Z"
    }
   },
   "outputs": [
    {
     "data": {
      "text/plain": "              School Name School Type  Total Students Total School Budget  \\\n0       Huang High School    District            2917       $1,910,635.00   \n1    Figueroa High School    District            2949       $1,884,411.00   \n2     Shelton High School     Charter            1761       $1,056,600.00   \n3   Hernandez High School    District            4635       $3,022,020.00   \n4     Griffin High School     Charter            1468         $917,500.00   \n5      Wilson High School     Charter            2283       $1,319,574.00   \n6     Cabrera High School     Charter            1858       $1,081,356.00   \n7      Bailey High School    District            4976       $3,124,928.00   \n8      Holden High School     Charter             427         $248,087.00   \n9        Pena High School     Charter             962         $585,858.00   \n10     Wright High School     Charter            1800       $1,049,400.00   \n11  Rodriguez High School    District            3999       $2,547,363.00   \n12    Johnson High School    District            4761       $3,094,650.00   \n13       Ford High School    District            2739       $1,763,916.00   \n14     Thomas High School     Charter            1635       $1,043,130.00   \n\n   Per Student Budget  Average Math Score  Average Reading Score  \\\n0             $655.00           76.629414              81.182722   \n1             $639.00           76.711767              81.158020   \n2             $600.00           83.359455              83.725724   \n3             $652.00           77.289752              80.934412   \n4             $625.00           83.351499              83.816757   \n5             $578.00           83.274201              83.989488   \n6             $582.00           83.061895              83.975780   \n7             $628.00           77.048432              81.033963   \n8             $581.00           83.803279              83.814988   \n9             $609.00           83.839917              84.044699   \n10            $583.00           83.682222              83.955000   \n11            $637.00           76.842711              80.744686   \n12            $650.00           77.072464              80.966394   \n13            $644.00           77.102592              80.746258   \n14            $638.00           83.418349              83.848930   \n\n    % Passing Math  % Passing Reading  % Overall Passing         School Size  \n0       113.747000         139.766884          93.212204   Large (2000-5000)  \n1        59.308240          61.139369          57.544930   Large (2000-5000)  \n2       110.505395         135.207269          89.097104  Medium (1000-2000)  \n3        40.366775          46.860841          32.081985   Large (2000-5000)  \n4        93.392371          97.138965          90.599455  Medium (1000-2000)  \n5       135.523434         164.169952         108.672799   Large (2000-5000)  \n6        21.259419          22.120560          20.505920  Medium (1000-2000)  \n7        38.504823          47.668810          31.370579   Large (2000-5000)  \n8       736.533958         905.620609         596.955504       Small (<1000)  \n9        94.594595          95.945946          90.540541       Small (<1000)  \n10      147.444444         178.222222         117.722222  Medium (1000-2000)  \n11       41.335334          42.210553          39.584896   Large (2000-5000)  \n12       32.031086          33.417349          31.232934   Large (2000-5000)  \n13       78.240234          80.467324          75.502008   Large (2000-5000)  \n14      102.752294         106.360856          99.449541  Medium (1000-2000)  ",
      "text/html": "<div>\n<style scoped>\n    .dataframe tbody tr th:only-of-type {\n        vertical-align: middle;\n    }\n\n    .dataframe tbody tr th {\n        vertical-align: top;\n    }\n\n    .dataframe thead th {\n        text-align: right;\n    }\n</style>\n<table border=\"1\" class=\"dataframe\">\n  <thead>\n    <tr style=\"text-align: right;\">\n      <th></th>\n      <th>School Name</th>\n      <th>School Type</th>\n      <th>Total Students</th>\n      <th>Total School Budget</th>\n      <th>Per Student Budget</th>\n      <th>Average Math Score</th>\n      <th>Average Reading Score</th>\n      <th>% Passing Math</th>\n      <th>% Passing Reading</th>\n      <th>% Overall Passing</th>\n      <th>School Size</th>\n    </tr>\n  </thead>\n  <tbody>\n    <tr>\n      <th>0</th>\n      <td>Huang High School</td>\n      <td>District</td>\n      <td>2917</td>\n      <td>$1,910,635.00</td>\n      <td>$655.00</td>\n      <td>76.629414</td>\n      <td>81.182722</td>\n      <td>113.747000</td>\n      <td>139.766884</td>\n      <td>93.212204</td>\n      <td>Large (2000-5000)</td>\n    </tr>\n    <tr>\n      <th>1</th>\n      <td>Figueroa High School</td>\n      <td>District</td>\n      <td>2949</td>\n      <td>$1,884,411.00</td>\n      <td>$639.00</td>\n      <td>76.711767</td>\n      <td>81.158020</td>\n      <td>59.308240</td>\n      <td>61.139369</td>\n      <td>57.544930</td>\n      <td>Large (2000-5000)</td>\n    </tr>\n    <tr>\n      <th>2</th>\n      <td>Shelton High School</td>\n      <td>Charter</td>\n      <td>1761</td>\n      <td>$1,056,600.00</td>\n      <td>$600.00</td>\n      <td>83.359455</td>\n      <td>83.725724</td>\n      <td>110.505395</td>\n      <td>135.207269</td>\n      <td>89.097104</td>\n      <td>Medium (1000-2000)</td>\n    </tr>\n    <tr>\n      <th>3</th>\n      <td>Hernandez High School</td>\n      <td>District</td>\n      <td>4635</td>\n      <td>$3,022,020.00</td>\n      <td>$652.00</td>\n      <td>77.289752</td>\n      <td>80.934412</td>\n      <td>40.366775</td>\n      <td>46.860841</td>\n      <td>32.081985</td>\n      <td>Large (2000-5000)</td>\n    </tr>\n    <tr>\n      <th>4</th>\n      <td>Griffin High School</td>\n      <td>Charter</td>\n      <td>1468</td>\n      <td>$917,500.00</td>\n      <td>$625.00</td>\n      <td>83.351499</td>\n      <td>83.816757</td>\n      <td>93.392371</td>\n      <td>97.138965</td>\n      <td>90.599455</td>\n      <td>Medium (1000-2000)</td>\n    </tr>\n    <tr>\n      <th>5</th>\n      <td>Wilson High School</td>\n      <td>Charter</td>\n      <td>2283</td>\n      <td>$1,319,574.00</td>\n      <td>$578.00</td>\n      <td>83.274201</td>\n      <td>83.989488</td>\n      <td>135.523434</td>\n      <td>164.169952</td>\n      <td>108.672799</td>\n      <td>Large (2000-5000)</td>\n    </tr>\n    <tr>\n      <th>6</th>\n      <td>Cabrera High School</td>\n      <td>Charter</td>\n      <td>1858</td>\n      <td>$1,081,356.00</td>\n      <td>$582.00</td>\n      <td>83.061895</td>\n      <td>83.975780</td>\n      <td>21.259419</td>\n      <td>22.120560</td>\n      <td>20.505920</td>\n      <td>Medium (1000-2000)</td>\n    </tr>\n    <tr>\n      <th>7</th>\n      <td>Bailey High School</td>\n      <td>District</td>\n      <td>4976</td>\n      <td>$3,124,928.00</td>\n      <td>$628.00</td>\n      <td>77.048432</td>\n      <td>81.033963</td>\n      <td>38.504823</td>\n      <td>47.668810</td>\n      <td>31.370579</td>\n      <td>Large (2000-5000)</td>\n    </tr>\n    <tr>\n      <th>8</th>\n      <td>Holden High School</td>\n      <td>Charter</td>\n      <td>427</td>\n      <td>$248,087.00</td>\n      <td>$581.00</td>\n      <td>83.803279</td>\n      <td>83.814988</td>\n      <td>736.533958</td>\n      <td>905.620609</td>\n      <td>596.955504</td>\n      <td>Small (&lt;1000)</td>\n    </tr>\n    <tr>\n      <th>9</th>\n      <td>Pena High School</td>\n      <td>Charter</td>\n      <td>962</td>\n      <td>$585,858.00</td>\n      <td>$609.00</td>\n      <td>83.839917</td>\n      <td>84.044699</td>\n      <td>94.594595</td>\n      <td>95.945946</td>\n      <td>90.540541</td>\n      <td>Small (&lt;1000)</td>\n    </tr>\n    <tr>\n      <th>10</th>\n      <td>Wright High School</td>\n      <td>Charter</td>\n      <td>1800</td>\n      <td>$1,049,400.00</td>\n      <td>$583.00</td>\n      <td>83.682222</td>\n      <td>83.955000</td>\n      <td>147.444444</td>\n      <td>178.222222</td>\n      <td>117.722222</td>\n      <td>Medium (1000-2000)</td>\n    </tr>\n    <tr>\n      <th>11</th>\n      <td>Rodriguez High School</td>\n      <td>District</td>\n      <td>3999</td>\n      <td>$2,547,363.00</td>\n      <td>$637.00</td>\n      <td>76.842711</td>\n      <td>80.744686</td>\n      <td>41.335334</td>\n      <td>42.210553</td>\n      <td>39.584896</td>\n      <td>Large (2000-5000)</td>\n    </tr>\n    <tr>\n      <th>12</th>\n      <td>Johnson High School</td>\n      <td>District</td>\n      <td>4761</td>\n      <td>$3,094,650.00</td>\n      <td>$650.00</td>\n      <td>77.072464</td>\n      <td>80.966394</td>\n      <td>32.031086</td>\n      <td>33.417349</td>\n      <td>31.232934</td>\n      <td>Large (2000-5000)</td>\n    </tr>\n    <tr>\n      <th>13</th>\n      <td>Ford High School</td>\n      <td>District</td>\n      <td>2739</td>\n      <td>$1,763,916.00</td>\n      <td>$644.00</td>\n      <td>77.102592</td>\n      <td>80.746258</td>\n      <td>78.240234</td>\n      <td>80.467324</td>\n      <td>75.502008</td>\n      <td>Large (2000-5000)</td>\n    </tr>\n    <tr>\n      <th>14</th>\n      <td>Thomas High School</td>\n      <td>Charter</td>\n      <td>1635</td>\n      <td>$1,043,130.00</td>\n      <td>$638.00</td>\n      <td>83.418349</td>\n      <td>83.848930</td>\n      <td>102.752294</td>\n      <td>106.360856</td>\n      <td>99.449541</td>\n      <td>Medium (1000-2000)</td>\n    </tr>\n  </tbody>\n</table>\n</div>"
     },
     "execution_count": 30,
     "metadata": {},
     "output_type": "execute_result"
    }
   ],
   "source": [
    "# Categorize the spending based on the bins\n",
    "# Use `pd.cut` on the \"Total Students\" column of the `per_school_summary` DataFrame.\n",
    "\n",
    "school_sizes = school_summary.assign(size_bin=pd.cut(\n",
    "    school_summary[\"Total Students\"].values, size_bins, labels=size_labels))\n",
    "school_sizes = school_sizes.rename(columns={\"size_bin\": \"School Size\",\"math_avg\": \"Average Math Score\", \"reading_avg\": \"Average Reading Score\" })\n",
    "school_sizes"
   ]
  },
  {
   "cell_type": "code",
   "execution_count": 31,
   "metadata": {
    "ExecuteTime": {
     "end_time": "2023-11-30T00:59:05.433050Z",
     "start_time": "2023-11-30T00:59:05.334418Z"
    }
   },
   "outputs": [
    {
     "data": {
      "text/plain": "                    Average Math Score  Average Reading Score  % Passing Math  \\\nSchool Size                                                                     \nSmall (<1000)                83.821598              83.929843      415.564276   \nMedium (1000-2000)           83.374684              83.864438       95.070784   \nLarge (2000-5000)            77.746417              81.344493       67.382116   \n\n                    % Passing Reading  % Overall Passing  \nSchool Size                                               \nSmall (<1000)              500.783277         343.748022  \nMedium (1000-2000)         107.809974          83.474849  \nLarge (2000-5000)           76.962635          58.650292  ",
      "text/html": "<div>\n<style scoped>\n    .dataframe tbody tr th:only-of-type {\n        vertical-align: middle;\n    }\n\n    .dataframe tbody tr th {\n        vertical-align: top;\n    }\n\n    .dataframe thead th {\n        text-align: right;\n    }\n</style>\n<table border=\"1\" class=\"dataframe\">\n  <thead>\n    <tr style=\"text-align: right;\">\n      <th></th>\n      <th>Average Math Score</th>\n      <th>Average Reading Score</th>\n      <th>% Passing Math</th>\n      <th>% Passing Reading</th>\n      <th>% Overall Passing</th>\n    </tr>\n    <tr>\n      <th>School Size</th>\n      <th></th>\n      <th></th>\n      <th></th>\n      <th></th>\n      <th></th>\n    </tr>\n  </thead>\n  <tbody>\n    <tr>\n      <th>Small (&lt;1000)</th>\n      <td>83.821598</td>\n      <td>83.929843</td>\n      <td>415.564276</td>\n      <td>500.783277</td>\n      <td>343.748022</td>\n    </tr>\n    <tr>\n      <th>Medium (1000-2000)</th>\n      <td>83.374684</td>\n      <td>83.864438</td>\n      <td>95.070784</td>\n      <td>107.809974</td>\n      <td>83.474849</td>\n    </tr>\n    <tr>\n      <th>Large (2000-5000)</th>\n      <td>77.746417</td>\n      <td>81.344493</td>\n      <td>67.382116</td>\n      <td>76.962635</td>\n      <td>58.650292</td>\n    </tr>\n  </tbody>\n</table>\n</div>"
     },
     "execution_count": 31,
     "metadata": {},
     "output_type": "execute_result"
    }
   ],
   "source": [
    "# Calculate averages for the desired columns and create dataframe\n",
    "size_summary = pd.DataFrame({\n",
    "    \"Average Math Score\": school_sizes.groupby(\"School Size\", observed=False)[\"Average Math Score\"].mean(),\n",
    "    \"Average Reading Score\": school_sizes.groupby(\"School Size\", observed=False)[\"Average Reading Score\"].mean(),\n",
    "    \"% Passing Math\": school_sizes.groupby(\"School Size\", observed=False)[\"% Passing Math\"].mean(),\n",
    "    \"% Passing Reading\": school_sizes.groupby(\"School Size\", observed=False)[\"% Passing Reading\"].mean(),\n",
    "    \"% Overall Passing\": school_sizes.groupby(\"School Size\", observed=False)[\"% Overall Passing\"].mean()\n",
    "})\n",
    "\n",
    "size_summary"
   ]
  },
  {
   "cell_type": "markdown",
   "metadata": {},
   "source": [
    "## Scores by School Type"
   ]
  },
  {
   "cell_type": "code",
   "execution_count": 32,
   "metadata": {
    "ExecuteTime": {
     "end_time": "2023-11-30T00:59:05.478861Z",
     "start_time": "2023-11-30T00:59:05.337653Z"
    }
   },
   "outputs": [
    {
     "data": {
      "text/plain": "             Average Math Score  Average Reading Score  % Passing Math  \\\nSchool Type                                                              \nCharter               83.473852              83.896421      180.250739   \nDistrict              76.956733              80.966636       57.647642   \n\n             % Passing Reading  % Overall Passing  \nSchool Type                                        \nCharter             213.098297         151.692886  \nDistrict             64.504447          51.504220  ",
      "text/html": "<div>\n<style scoped>\n    .dataframe tbody tr th:only-of-type {\n        vertical-align: middle;\n    }\n\n    .dataframe tbody tr th {\n        vertical-align: top;\n    }\n\n    .dataframe thead th {\n        text-align: right;\n    }\n</style>\n<table border=\"1\" class=\"dataframe\">\n  <thead>\n    <tr style=\"text-align: right;\">\n      <th></th>\n      <th>Average Math Score</th>\n      <th>Average Reading Score</th>\n      <th>% Passing Math</th>\n      <th>% Passing Reading</th>\n      <th>% Overall Passing</th>\n    </tr>\n    <tr>\n      <th>School Type</th>\n      <th></th>\n      <th></th>\n      <th></th>\n      <th></th>\n      <th></th>\n    </tr>\n  </thead>\n  <tbody>\n    <tr>\n      <th>Charter</th>\n      <td>83.473852</td>\n      <td>83.896421</td>\n      <td>180.250739</td>\n      <td>213.098297</td>\n      <td>151.692886</td>\n    </tr>\n    <tr>\n      <th>District</th>\n      <td>76.956733</td>\n      <td>80.966636</td>\n      <td>57.647642</td>\n      <td>64.504447</td>\n      <td>51.504220</td>\n    </tr>\n  </tbody>\n</table>\n</div>"
     },
     "execution_count": 32,
     "metadata": {},
     "output_type": "execute_result"
    }
   ],
   "source": [
    "# Creates new dataframe and calculates average by school type\n",
    "type_summary = pd.DataFrame({\n",
    "    \"Average Math Score\": school_sizes.groupby(\"School Type\", observed=False)[\"Average Math Score\"].mean(),\n",
    "    \"Average Reading Score\": school_sizes.groupby(\"School Type\", observed=False)[\"Average Reading Score\"].mean(),\n",
    "    \"% Passing Math\": school_sizes.groupby(\"School Type\", observed=False)[\"% Passing Math\"].mean(),\n",
    "    \"% Passing Reading\": school_sizes.groupby(\"School Type\", observed=False)[\"% Passing Reading\"].mean(),\n",
    "    \"% Overall Passing\": school_sizes.groupby(\"School Type\", observed=False)[\"% Overall Passing\"].mean()})\n",
    "type_summary"
   ]
  },
  {
   "cell_type": "code",
   "execution_count": 33,
   "metadata": {
    "ExecuteTime": {
     "end_time": "2023-11-30T00:59:05.519741Z",
     "start_time": "2023-11-30T00:59:05.343048Z"
    }
   },
   "outputs": [
    {
     "data": {
      "text/plain": "                               Average Math Score  Average Reading Score  \\\nSpending Ranges (Per Student)                                              \n<$585                                   80.073651              82.432247   \n$585-630                                80.165885              82.447216   \n$630-645                                80.350973              82.395382   \n$645-680                                81.375304              82.946146   \n\n                               % Passing Math  % Passing Reading  \\\nSpending Ranges (Per Student)                                      \n<$585                               65.390047          67.522027   \n$585-630                            85.767325          93.765587   \n$630-645                            82.586925          98.426920   \n$645-680                           303.520738         372.486457   \n\n                               % Overall Passing  \nSpending Ranges (Per Student)                     \n<$585                                  63.250600  \n$585-630                               78.484274  \n$630-645                               67.533561  \n$645-680                              245.666294  ",
      "text/html": "<div>\n<style scoped>\n    .dataframe tbody tr th:only-of-type {\n        vertical-align: middle;\n    }\n\n    .dataframe tbody tr th {\n        vertical-align: top;\n    }\n\n    .dataframe thead th {\n        text-align: right;\n    }\n</style>\n<table border=\"1\" class=\"dataframe\">\n  <thead>\n    <tr style=\"text-align: right;\">\n      <th></th>\n      <th>Average Math Score</th>\n      <th>Average Reading Score</th>\n      <th>% Passing Math</th>\n      <th>% Passing Reading</th>\n      <th>% Overall Passing</th>\n    </tr>\n    <tr>\n      <th>Spending Ranges (Per Student)</th>\n      <th></th>\n      <th></th>\n      <th></th>\n      <th></th>\n      <th></th>\n    </tr>\n  </thead>\n  <tbody>\n    <tr>\n      <th>&lt;$585</th>\n      <td>80.073651</td>\n      <td>82.432247</td>\n      <td>65.390047</td>\n      <td>67.522027</td>\n      <td>63.250600</td>\n    </tr>\n    <tr>\n      <th>$585-630</th>\n      <td>80.165885</td>\n      <td>82.447216</td>\n      <td>85.767325</td>\n      <td>93.765587</td>\n      <td>78.484274</td>\n    </tr>\n    <tr>\n      <th>$630-645</th>\n      <td>80.350973</td>\n      <td>82.395382</td>\n      <td>82.586925</td>\n      <td>98.426920</td>\n      <td>67.533561</td>\n    </tr>\n    <tr>\n      <th>$645-680</th>\n      <td>81.375304</td>\n      <td>82.946146</td>\n      <td>303.520738</td>\n      <td>372.486457</td>\n      <td>245.666294</td>\n    </tr>\n  </tbody>\n</table>\n</div>"
     },
     "execution_count": 33,
     "metadata": {},
     "output_type": "execute_result"
    }
   ],
   "source": [
    "# Assemble the new data by type into a DataFrame called `type_summary`\n",
    "# type_summary = pd.DataFrame({\n",
    "#     'Average Math Score': average_math_score_by_type,\n",
    "#     'Average Reading Score': average_reading_score_by_type,\n",
    "#     '% Passing Math': average_percent_passing_math_by_type,\n",
    "#     '% Passing Reading': average_percent_passing_reading_by_type,\n",
    "#     '% Overall Passing': average_percent_overall_passing_by_type\n",
    "# })\n",
    "# \n",
    "# # Display results\n",
    "# type_summary\n",
    "\n",
    "spending_summary"
   ]
  }
 ],
 "metadata": {
  "anaconda-cloud": {},
  "kernel_info": {
   "name": "python3"
  },
  "kernelspec": {
   "display_name": "PythonData",
   "language": "python",
   "name": "python3"
  },
  "language_info": {
   "codemirror_mode": {
    "name": "ipython",
    "version": 3
   },
   "file_extension": ".py",
   "mimetype": "text/x-python",
   "name": "python",
   "nbconvert_exporter": "python",
   "pygments_lexer": "ipython3",
   "version": "3.10.9"
  },
  "latex_envs": {
   "LaTeX_envs_menu_present": true,
   "autoclose": false,
   "autocomplete": true,
   "bibliofile": "biblio.bib",
   "cite_by": "apalike",
   "current_citInitial": 1,
   "eqLabelWithNumbers": true,
   "eqNumInitial": 1,
   "hotkeys": {
    "equation": "Ctrl-E",
    "itemize": "Ctrl-I"
   },
   "labels_anchors": false,
   "latex_user_defs": false,
   "report_style_numbering": false,
   "user_envs_cfg": false
  },
  "nteract": {
   "version": "0.8.4"
  },
  "vscode": {
   "interpreter": {
    "hash": "5384d77d82de63fd599f73e77f9ec786e7719288bf80a29ec0288c670ac3cf32"
   }
  }
 },
 "nbformat": 4,
 "nbformat_minor": 4
}
