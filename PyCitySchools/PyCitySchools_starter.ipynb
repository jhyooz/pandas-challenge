{
 "cells": [
  {
   "cell_type": "markdown",
   "source": [
    "# PyCity Schools Analysis\n",
    "\n",
    "###### NOTE: I could not get some of the calculations to work so here is a summary based on what I could get working. I'll resubmit everything again if I can get everything working.\n",
    "\n",
    "## Summary\n",
    "The data summarizes metrics taken from 15 schools and about 39,000 students. Based on the data we are able to provide insights as to how students are doing in math and reading by grade, by school and for the entire data set for all the schools.\n",
    "\n",
    "# Conclusion\n",
    "The top 5 schools are all charter schools. The number of students in each charter school may have an impact on the rankings\n",
    "\n",
    "  \n",
    "---"
   ],
   "metadata": {
    "collapsed": false
   }
  },
  {
   "cell_type": "code",
   "execution_count": 41,
   "metadata": {
    "ExecuteTime": {
     "end_time": "2023-11-24T04:57:23.594651Z",
     "start_time": "2023-11-24T04:57:23.342613Z"
    }
   },
   "outputs": [
    {
     "data": {
      "text/plain": "   Student ID       student_name gender grade        school_name  \\\n0           0       Paul Bradley      M   9th  Huang High School   \n1           1       Victor Smith      M  12th  Huang High School   \n2           2    Kevin Rodriguez      M  12th  Huang High School   \n3           3  Dr. Richard Scott      M  12th  Huang High School   \n4           4         Bonnie Ray      F   9th  Huang High School   \n\n   reading_score  math_score  School ID      type  size   budget  \n0             66          79          0  District  2917  1910635  \n1             94          61          0  District  2917  1910635  \n2             90          60          0  District  2917  1910635  \n3             67          58          0  District  2917  1910635  \n4             97          84          0  District  2917  1910635  ",
      "text/html": "<div>\n<style scoped>\n    .dataframe tbody tr th:only-of-type {\n        vertical-align: middle;\n    }\n\n    .dataframe tbody tr th {\n        vertical-align: top;\n    }\n\n    .dataframe thead th {\n        text-align: right;\n    }\n</style>\n<table border=\"1\" class=\"dataframe\">\n  <thead>\n    <tr style=\"text-align: right;\">\n      <th></th>\n      <th>Student ID</th>\n      <th>student_name</th>\n      <th>gender</th>\n      <th>grade</th>\n      <th>school_name</th>\n      <th>reading_score</th>\n      <th>math_score</th>\n      <th>School ID</th>\n      <th>type</th>\n      <th>size</th>\n      <th>budget</th>\n    </tr>\n  </thead>\n  <tbody>\n    <tr>\n      <th>0</th>\n      <td>0</td>\n      <td>Paul Bradley</td>\n      <td>M</td>\n      <td>9th</td>\n      <td>Huang High School</td>\n      <td>66</td>\n      <td>79</td>\n      <td>0</td>\n      <td>District</td>\n      <td>2917</td>\n      <td>1910635</td>\n    </tr>\n    <tr>\n      <th>1</th>\n      <td>1</td>\n      <td>Victor Smith</td>\n      <td>M</td>\n      <td>12th</td>\n      <td>Huang High School</td>\n      <td>94</td>\n      <td>61</td>\n      <td>0</td>\n      <td>District</td>\n      <td>2917</td>\n      <td>1910635</td>\n    </tr>\n    <tr>\n      <th>2</th>\n      <td>2</td>\n      <td>Kevin Rodriguez</td>\n      <td>M</td>\n      <td>12th</td>\n      <td>Huang High School</td>\n      <td>90</td>\n      <td>60</td>\n      <td>0</td>\n      <td>District</td>\n      <td>2917</td>\n      <td>1910635</td>\n    </tr>\n    <tr>\n      <th>3</th>\n      <td>3</td>\n      <td>Dr. Richard Scott</td>\n      <td>M</td>\n      <td>12th</td>\n      <td>Huang High School</td>\n      <td>67</td>\n      <td>58</td>\n      <td>0</td>\n      <td>District</td>\n      <td>2917</td>\n      <td>1910635</td>\n    </tr>\n    <tr>\n      <th>4</th>\n      <td>4</td>\n      <td>Bonnie Ray</td>\n      <td>F</td>\n      <td>9th</td>\n      <td>Huang High School</td>\n      <td>97</td>\n      <td>84</td>\n      <td>0</td>\n      <td>District</td>\n      <td>2917</td>\n      <td>1910635</td>\n    </tr>\n  </tbody>\n</table>\n</div>"
     },
     "execution_count": 41,
     "metadata": {},
     "output_type": "execute_result"
    }
   ],
   "source": [
    "# Dependencies and Setup\n",
    "import pandas as pd\n",
    "from pathlib import Path\n",
    "\n",
    "# File to Load (Remember to Change These)\n",
    "school_data_to_load = Path(\"../Resources/schools_complete.csv\")\n",
    "student_data_to_load = Path(\"../Resources/students_complete.csv\")\n",
    "\n",
    "# Read School and Student Data File and store into Pandas DataFrames\n",
    "school_data = pd.read_csv(school_data_to_load)\n",
    "student_data = pd.read_csv(student_data_to_load)\n",
    "\n",
    "# Combine the data into a single dataset.  \n",
    "school_data_complete = pd.merge(student_data, school_data, how=\"left\", on=[\"school_name\", \"school_name\"])\n",
    "#school_data_complete.sample(10)\n",
    "school_data_complete.head()"
   ]
  },
  {
   "cell_type": "markdown",
   "metadata": {},
   "source": [
    "## District Summary"
   ]
  },
  {
   "cell_type": "code",
   "execution_count": 42,
   "outputs": [
    {
     "data": {
      "text/plain": "15"
     },
     "execution_count": 42,
     "metadata": {},
     "output_type": "execute_result"
    }
   ],
   "source": [
    "# Calculate the total number of unique schools\n",
    "school_count = len(school_data_complete[\"school_name\"].unique())\n",
    "school_count"
   ],
   "metadata": {
    "collapsed": false,
    "ExecuteTime": {
     "end_time": "2023-11-24T04:57:23.596391Z",
     "start_time": "2023-11-24T04:57:23.378301Z"
    }
   }
  },
  {
   "cell_type": "code",
   "execution_count": 43,
   "outputs": [
    {
     "data": {
      "text/plain": "39170"
     },
     "execution_count": 43,
     "metadata": {},
     "output_type": "execute_result"
    }
   ],
   "source": [
    "# Calculate the total number of students\n",
    "student_count = len(school_data_complete[\"Student ID\"].unique())\n",
    "student_count"
   ],
   "metadata": {
    "collapsed": false,
    "ExecuteTime": {
     "end_time": "2023-11-24T04:57:23.596500Z",
     "start_time": "2023-11-24T04:57:23.381727Z"
    }
   }
  },
  {
   "cell_type": "code",
   "execution_count": 44,
   "metadata": {
    "ExecuteTime": {
     "end_time": "2023-11-24T04:57:23.597094Z",
     "start_time": "2023-11-24T04:57:23.385160Z"
    }
   },
   "outputs": [
    {
     "data": {
      "text/plain": "24649428"
     },
     "execution_count": 44,
     "metadata": {},
     "output_type": "execute_result"
    }
   ],
   "source": [
    "# Calculate the total budget\n",
    "total_budget = school_data[\"budget\"].sum()\n",
    "total_budget"
   ]
  },
  {
   "cell_type": "code",
   "execution_count": 45,
   "metadata": {
    "ExecuteTime": {
     "end_time": "2023-11-24T04:57:23.597152Z",
     "start_time": "2023-11-24T04:57:23.387008Z"
    }
   },
   "outputs": [
    {
     "data": {
      "text/plain": "78.98537145774827"
     },
     "execution_count": 45,
     "metadata": {},
     "output_type": "execute_result"
    }
   ],
   "source": [
    "# Calculate the average (mean) math score\n",
    "average_math_score = school_data_complete[\"math_score\"].mean()\n",
    "average_math_score"
   ]
  },
  {
   "cell_type": "code",
   "execution_count": 46,
   "metadata": {
    "ExecuteTime": {
     "end_time": "2023-11-24T04:57:23.597471Z",
     "start_time": "2023-11-24T04:57:23.389562Z"
    }
   },
   "outputs": [
    {
     "data": {
      "text/plain": "81.87784018381414"
     },
     "execution_count": 46,
     "metadata": {},
     "output_type": "execute_result"
    }
   ],
   "source": [
    "# Calculate the average (mean) reading score\n",
    "average_reading_score = school_data_complete[\"reading_score\"].mean()\n",
    "average_reading_score"
   ]
  },
  {
   "cell_type": "code",
   "execution_count": 47,
   "metadata": {
    "ExecuteTime": {
     "end_time": "2023-11-24T04:57:23.597528Z",
     "start_time": "2023-11-24T04:57:23.392475Z"
    }
   },
   "outputs": [
    {
     "data": {
      "text/plain": "74.9808526933878"
     },
     "execution_count": 47,
     "metadata": {},
     "output_type": "execute_result"
    }
   ],
   "source": [
    "# Use the following to calculate the percentage of students who passed math (math scores greater than or equal to 70)\n",
    "passing_math_count = school_data_complete[(school_data_complete[\"math_score\"] >= 70)].count()[\"student_name\"]\n",
    "passing_math_percentage = passing_math_count / float(student_count) * 100\n",
    "passing_math_percentage"
   ]
  },
  {
   "cell_type": "code",
   "execution_count": 48,
   "metadata": {
    "ExecuteTime": {
     "end_time": "2023-11-24T04:57:23.597580Z",
     "start_time": "2023-11-24T04:57:23.399376Z"
    }
   },
   "outputs": [
    {
     "data": {
      "text/plain": "85.80546336482001"
     },
     "execution_count": 48,
     "metadata": {},
     "output_type": "execute_result"
    }
   ],
   "source": [
    "# Calculate the percentage of students who passed reading (hint: look at how the math percentage was calculated)  \n",
    "passing_reading_count = school_data_complete[(school_data_complete[\"reading_score\"] >= 70)].count()[\"student_name\"]\n",
    "passing_reading_percentage = passing_reading_count / float(student_count) * 100\n",
    "passing_reading_percentage"
   ]
  },
  {
   "cell_type": "code",
   "execution_count": 49,
   "metadata": {
    "ExecuteTime": {
     "end_time": "2023-11-24T04:57:23.597636Z",
     "start_time": "2023-11-24T04:57:23.406811Z"
    }
   },
   "outputs": [
    {
     "data": {
      "text/plain": "65.17232575950983"
     },
     "execution_count": 49,
     "metadata": {},
     "output_type": "execute_result"
    }
   ],
   "source": [
    "# Use the following to calculate the percentage of students that passed math and reading\n",
    "passing_math_reading_count = school_data_complete[\n",
    "    (school_data_complete[\"math_score\"] >= 70) & (school_data_complete[\"reading_score\"] >= 70)\n",
    "].count()[\"student_name\"]\n",
    "overall_passing_rate = passing_math_reading_count /  float(student_count) * 100\n",
    "overall_passing_rate"
   ]
  },
  {
   "cell_type": "code",
   "execution_count": 50,
   "outputs": [
    {
     "data": {
      "text/plain": "   Total Schools Total Students    Total Budget  Average Math Score  \\\n0             15         39,170  $24,649,428.00           78.985371   \n\n   Average Reading Score  % Passing Math  % Passing Reading  % Overall Passing  \n0               81.87784       74.980853          85.805463          65.172326  ",
      "text/html": "<div>\n<style scoped>\n    .dataframe tbody tr th:only-of-type {\n        vertical-align: middle;\n    }\n\n    .dataframe tbody tr th {\n        vertical-align: top;\n    }\n\n    .dataframe thead th {\n        text-align: right;\n    }\n</style>\n<table border=\"1\" class=\"dataframe\">\n  <thead>\n    <tr style=\"text-align: right;\">\n      <th></th>\n      <th>Total Schools</th>\n      <th>Total Students</th>\n      <th>Total Budget</th>\n      <th>Average Math Score</th>\n      <th>Average Reading Score</th>\n      <th>% Passing Math</th>\n      <th>% Passing Reading</th>\n      <th>% Overall Passing</th>\n    </tr>\n  </thead>\n  <tbody>\n    <tr>\n      <th>0</th>\n      <td>15</td>\n      <td>39,170</td>\n      <td>$24,649,428.00</td>\n      <td>78.985371</td>\n      <td>81.87784</td>\n      <td>74.980853</td>\n      <td>85.805463</td>\n      <td>65.172326</td>\n    </tr>\n  </tbody>\n</table>\n</div>"
     },
     "execution_count": 50,
     "metadata": {},
     "output_type": "execute_result"
    }
   ],
   "source": [
    "# District Summary table\n",
    "district_summary = pd.DataFrame({\n",
    "    'Total Schools': school_count,\n",
    "    'Total Students': student_count,\n",
    "    'Total Budget': total_budget,\n",
    "    'Average Math Score': average_math_score,\n",
    "    'Average Reading Score': average_reading_score,\n",
    "    '% Passing Math': passing_math_percentage,\n",
    "    '% Passing Reading': passing_reading_percentage,\n",
    "    '% Overall Passing': overall_passing_rate\n",
    "}, index=[0])\n",
    "\n",
    "# Add Formatting\n",
    "district_summary[\"Total Students\"] = district_summary[\"Total Students\"].map(\"{:,}\".format)\n",
    "district_summary[\"Total Budget\"] = district_summary[\"Total Budget\"].map(\"${:,.2f}\".format)\n",
    "# district_summary[\"Average Math Score\"] = district_summary[\"Average Math Score\"].map(\"{:.2f}\".format)\n",
    "# district_summary[\"Average Reading Score\"] = district_summary[\"Average Reading Score\"].map(\"{:.2f}\".format)\n",
    "# district_summary[\"% Passing Math\"] = district_summary[\"% Passing Math\"].map(\"{:.2f}%\".format)\n",
    "# district_summary[\"% Passing Reading\"] = district_summary[\"% Passing Reading\"].map(\"{:.2f}%\".format)\n",
    "# district_summary[\"% Overall Passing\"] = district_summary[\"% Overall Passing\"].map(\"{:.2f}%\".format)\n",
    "\n",
    "# Display the DataFrame\n",
    "district_summary"
   ],
   "metadata": {
    "collapsed": false,
    "ExecuteTime": {
     "end_time": "2023-11-24T04:57:23.597744Z",
     "start_time": "2023-11-24T04:57:23.416560Z"
    }
   }
  },
  {
   "cell_type": "markdown",
   "metadata": {},
   "source": [
    "## School Summary"
   ]
  },
  {
   "cell_type": "code",
   "execution_count": 51,
   "metadata": {
    "ExecuteTime": {
     "end_time": "2023-11-24T04:57:23.597817Z",
     "start_time": "2023-11-24T04:57:23.418567Z"
    }
   },
   "outputs": [
    {
     "data": {
      "text/plain": "school_name\nBailey High School       District\nCabrera High School       Charter\nFigueroa High School     District\nFord High School         District\nGriffin High School       Charter\nHernandez High School    District\nHolden High School        Charter\nHuang High School        District\nJohnson High School      District\nPena High School          Charter\nRodriguez High School    District\nShelton High School       Charter\nThomas High School        Charter\nWilson High School        Charter\nWright High School        Charter\nName: type, dtype: object"
     },
     "execution_count": 51,
     "metadata": {},
     "output_type": "execute_result"
    }
   ],
   "source": [
    "# Use the code provided to select all the school types\n",
    "school_types = school_data.set_index([\"school_name\"])[\"type\"]\n",
    "school_types.sort_index()"
   ]
  },
  {
   "cell_type": "code",
   "execution_count": 52,
   "metadata": {
    "ExecuteTime": {
     "end_time": "2023-11-24T04:57:23.598069Z",
     "start_time": "2023-11-24T04:57:23.421749Z"
    }
   },
   "outputs": [
    {
     "data": {
      "text/plain": "school_name\nBailey High School       4976\nCabrera High School      1858\nFigueroa High School     2949\nFord High School         2739\nGriffin High School      1468\nHernandez High School    4635\nHolden High School        427\nHuang High School        2917\nJohnson High School      4761\nPena High School          962\nRodriguez High School    3999\nShelton High School      1761\nThomas High School       1635\nWilson High School       2283\nWright High School       1800\nName: school_name, dtype: int64"
     },
     "execution_count": 52,
     "metadata": {},
     "output_type": "execute_result"
    }
   ],
   "source": [
    "# Calculate the total student count per school\n",
    "per_school_count = school_data_complete.groupby(\"school_name\")[\"school_name\"].count()\n",
    "per_school_count"
   ]
  },
  {
   "cell_type": "code",
   "execution_count": 53,
   "metadata": {
    "ExecuteTime": {
     "end_time": "2023-11-24T04:57:23.598134Z",
     "start_time": "2023-11-24T04:57:23.426331Z"
    }
   },
   "outputs": [
    {
     "data": {
      "text/plain": "school_name\nBailey High School       3124928.0\nCabrera High School      1081356.0\nFigueroa High School     1884411.0\nFord High School         1763916.0\nGriffin High School       917500.0\nHernandez High School    3022020.0\nHolden High School        248087.0\nHuang High School        1910635.0\nJohnson High School      3094650.0\nPena High School          585858.0\nRodriguez High School    2547363.0\nShelton High School      1056600.0\nThomas High School       1043130.0\nWilson High School       1319574.0\nWright High School       1049400.0\nName: budget, dtype: float64"
     },
     "execution_count": 53,
     "metadata": {},
     "output_type": "execute_result"
    }
   ],
   "source": [
    "# Calculate the total school budget spending per school\n",
    "\n",
    "school_budget = school_data_complete['budget']\n",
    "per_school_budget = school_budget.groupby(school_data_complete['school_name']).mean()\n",
    "per_school_budget"
   ]
  },
  {
   "cell_type": "code",
   "execution_count": 54,
   "outputs": [
    {
     "data": {
      "text/plain": "school_name\nBailey High School       628.0\nCabrera High School      582.0\nFigueroa High School     639.0\nFord High School         644.0\nGriffin High School      625.0\nHernandez High School    652.0\nHolden High School       581.0\nHuang High School        655.0\nJohnson High School      650.0\nPena High School         609.0\nRodriguez High School    637.0\nShelton High School      600.0\nThomas High School       638.0\nWilson High School       578.0\nWright High School       583.0\ndtype: float64"
     },
     "execution_count": 54,
     "metadata": {},
     "output_type": "execute_result"
    }
   ],
   "source": [
    "# Calculate the total per capita spending per school\n",
    "per_school_capita = per_school_budget / per_school_count\n",
    "per_school_capita"
   ],
   "metadata": {
    "collapsed": false,
    "ExecuteTime": {
     "end_time": "2023-11-24T04:57:23.598200Z",
     "start_time": "2023-11-24T04:57:23.431187Z"
    }
   }
  },
  {
   "cell_type": "code",
   "execution_count": 55,
   "outputs": [
    {
     "data": {
      "text/plain": "school_name\nBailey High School       77.048432\nCabrera High School      83.061895\nFigueroa High School     76.711767\nFord High School         77.102592\nGriffin High School      83.351499\nHernandez High School    77.289752\nHolden High School       83.803279\nHuang High School        76.629414\nJohnson High School      77.072464\nPena High School         83.839917\nRodriguez High School    76.842711\nShelton High School      83.359455\nThomas High School       83.418349\nWilson High School       83.274201\nWright High School       83.682222\nName: math_score, dtype: float64"
     },
     "execution_count": 55,
     "metadata": {},
     "output_type": "execute_result"
    }
   ],
   "source": [
    "# Calculate the average test scores per school - MATH\n",
    "avg_math_score = school_data_complete.groupby([\"school_name\"])[\"math_score\"].mean()\n",
    "avg_math_score"
   ],
   "metadata": {
    "collapsed": false,
    "ExecuteTime": {
     "end_time": "2023-11-24T04:57:23.598267Z",
     "start_time": "2023-11-24T04:57:23.434072Z"
    }
   }
  },
  {
   "cell_type": "code",
   "execution_count": 56,
   "outputs": [
    {
     "data": {
      "text/plain": "school_name\nBailey High School       81.033963\nCabrera High School      83.975780\nFigueroa High School     81.158020\nFord High School         80.746258\nGriffin High School      83.816757\nHernandez High School    80.934412\nHolden High School       83.814988\nHuang High School        81.182722\nJohnson High School      80.966394\nPena High School         84.044699\nRodriguez High School    80.744686\nShelton High School      83.725724\nThomas High School       83.848930\nWilson High School       83.989488\nWright High School       83.955000\nName: reading_score, dtype: float64"
     },
     "execution_count": 56,
     "metadata": {},
     "output_type": "execute_result"
    }
   ],
   "source": [
    "# Calculate the average test scores per school - READING\n",
    "avg_reading_score = school_data_complete.groupby([\"school_name\"])[\"reading_score\"].mean()\n",
    "avg_reading_score"
   ],
   "metadata": {
    "collapsed": false,
    "ExecuteTime": {
     "end_time": "2023-11-24T04:57:23.598363Z",
     "start_time": "2023-11-24T04:57:23.438168Z"
    }
   }
  },
  {
   "cell_type": "code",
   "execution_count": 57,
   "outputs": [
    {
     "data": {
      "text/plain": "school_name\nBailey High School       3318\nJohnson High School      3145\nHernandez High School    3094\nRodriguez High School    2654\nWilson High School       2143\nFigueroa High School     1946\nHuang High School        1916\nFord High School         1871\nCabrera High School      1749\nWright High School       1680\nShelton High School      1653\nThomas High School       1525\nGriffin High School      1371\nPena High School          910\nHolden High School        395\nName: count, dtype: int64"
     },
     "execution_count": 57,
     "metadata": {},
     "output_type": "execute_result"
    }
   ],
   "source": [
    "# Calculate the number of students per school with math scores of 70 or higher\n",
    "students_passing_math =  (school_data_complete['school_name'].loc[(school_data_complete['math_score'] >= 70)]).value_counts()\n",
    "students_passing_math"
   ],
   "metadata": {
    "collapsed": false,
    "ExecuteTime": {
     "end_time": "2023-11-24T04:57:23.598466Z",
     "start_time": "2023-11-24T04:57:23.441851Z"
    }
   }
  },
  {
   "cell_type": "code",
   "execution_count": 58,
   "metadata": {
    "ExecuteTime": {
     "end_time": "2023-11-24T04:57:23.598530Z",
     "start_time": "2023-11-24T04:57:23.445774Z"
    }
   },
   "outputs": [
    {
     "data": {
      "text/plain": "school_name\nBailey High School       4077\nCabrera High School      1803\nFigueroa High School     2381\nFord High School         2172\nGriffin High School      1426\nHernandez High School    3748\nHolden High School        411\nHuang High School        2372\nJohnson High School      3867\nPena High School          923\nRodriguez High School    3208\nShelton High School      1688\nThomas High School       1591\nWilson High School       2204\nWright High School       1739\ndtype: int64"
     },
     "execution_count": 58,
     "metadata": {},
     "output_type": "execute_result"
    }
   ],
   "source": [
    "# Calculate the number of students per school with reading scores of 70 or higher\n",
    "students_passing_reading =  school_data_complete[(school_data_complete[\"reading_score\"] >= 70)]\n",
    "school_students_passing_reading = students_passing_reading.groupby([\"school_name\"]).size()\n",
    "school_students_passing_reading"
   ]
  },
  {
   "cell_type": "code",
   "execution_count": 59,
   "outputs": [
    {
     "data": {
      "text/plain": "school_name\nBailey High School       66.680064\nCabrera High School      94.133477\nFigueroa High School     65.988471\nFord High School         68.309602\nGriffin High School      93.392371\nHernandez High School    66.752967\nHolden High School       92.505855\nHuang High School        65.683922\nJohnson High School      66.057551\nPena High School         94.594595\nRodriguez High School    66.366592\nShelton High School      93.867121\nThomas High School       93.272171\nWilson High School       93.867718\nWright High School       93.333333\ndtype: float64"
     },
     "execution_count": 59,
     "metadata": {},
     "output_type": "execute_result"
    }
   ],
   "source": [
    "# Percentage of students passing math per school\n",
    "per_school_passing_math = students_passing_math / per_school_count * 100\n",
    "per_school_passing_math"
   ],
   "metadata": {
    "collapsed": false,
    "ExecuteTime": {
     "end_time": "2023-11-24T04:57:23.598610Z",
     "start_time": "2023-11-24T04:57:23.451195Z"
    }
   }
  },
  {
   "cell_type": "code",
   "execution_count": 60,
   "outputs": [
    {
     "data": {
      "text/plain": "school_name\nBailey High School       4077\nJohnson High School      3867\nHernandez High School    3748\nRodriguez High School    3208\nFigueroa High School     2381\nHuang High School        2372\nWilson High School       2204\nFord High School         2172\nCabrera High School      1803\nWright High School       1739\nShelton High School      1688\nThomas High School       1591\nGriffin High School      1426\nPena High School          923\nHolden High School        411\nName: count, dtype: int64"
     },
     "execution_count": 60,
     "metadata": {},
     "output_type": "execute_result"
    }
   ],
   "source": [
    "# Number of Students/school who passed reading\n",
    "students_passing_reading = (school_data_complete['school_name'].loc[(school_data_complete['reading_score'] >= 70)]).value_counts()\n",
    "students_passing_reading"
   ],
   "metadata": {
    "collapsed": false,
    "ExecuteTime": {
     "end_time": "2023-11-24T04:57:23.598675Z",
     "start_time": "2023-11-24T04:57:23.453237Z"
    }
   }
  },
  {
   "cell_type": "code",
   "execution_count": 61,
   "outputs": [
    {
     "data": {
      "text/plain": "school_name\nBailey High School       81.933280\nCabrera High School      97.039828\nFigueroa High School     80.739234\nFord High School         79.299014\nGriffin High School      97.138965\nHernandez High School    80.862999\nHolden High School       96.252927\nHuang High School        81.316421\nJohnson High School      81.222432\nPena High School         95.945946\nRodriguez High School    80.220055\nShelton High School      95.854628\nThomas High School       97.308869\nWilson High School       96.539641\nWright High School       96.611111\ndtype: float64"
     },
     "execution_count": 61,
     "metadata": {},
     "output_type": "execute_result"
    }
   ],
   "source": [
    "# Percentage of students passing reading per school\n",
    "per_school_passing_reading = students_passing_reading / per_school_count * 100\n",
    "per_school_passing_reading"
   ],
   "metadata": {
    "collapsed": false,
    "ExecuteTime": {
     "end_time": "2023-11-24T04:57:23.598741Z",
     "start_time": "2023-11-24T04:57:23.458200Z"
    }
   }
  },
  {
   "cell_type": "code",
   "execution_count": 62,
   "outputs": [
    {
     "data": {
      "text/plain": "school_name\nBailey High School       2719\nCabrera High School      1697\nFigueroa High School     1569\nFord High School         1487\nGriffin High School      1330\nHernandez High School    2481\nHolden High School        381\nHuang High School        1561\nJohnson High School      2549\nPena High School          871\nRodriguez High School    2119\nShelton High School      1583\nThomas High School       1487\nWilson High School       2068\nWright High School       1626\ndtype: int64"
     },
     "execution_count": 62,
     "metadata": {},
     "output_type": "execute_result"
    }
   ],
   "source": [
    "# Calculate the number of students per school that passed both math and reading \n",
    "students_passing_math_and_reading = school_data_complete[(school_data_complete[\"reading_score\"] >= 70) & (school_data_complete[\"math_score\"] >= 70)]\n",
    "students_passing_math_and_reading = students_passing_math_and_reading.groupby([\"school_name\"]).size()\n",
    "students_passing_math_and_reading"
   ],
   "metadata": {
    "collapsed": false,
    "ExecuteTime": {
     "end_time": "2023-11-24T04:57:23.598804Z",
     "start_time": "2023-11-24T04:57:23.460615Z"
    }
   }
  },
  {
   "cell_type": "code",
   "execution_count": 63,
   "metadata": {
    "ExecuteTime": {
     "end_time": "2023-11-24T04:57:23.598868Z",
     "start_time": "2023-11-24T04:57:23.466170Z"
    }
   },
   "outputs": [
    {
     "data": {
      "text/plain": "school_name\nBailey High School       54.642283\nCabrera High School      91.334769\nFigueroa High School     53.204476\nFord High School         54.289887\nGriffin High School      90.599455\nHernandez High School    53.527508\nHolden High School       89.227166\nHuang High School        53.513884\nJohnson High School      53.539172\nPena High School         90.540541\nRodriguez High School    52.988247\nShelton High School      89.892107\nThomas High School       90.948012\nWilson High School       90.582567\nWright High School       90.333333\ndtype: float64"
     },
     "execution_count": 63,
     "metadata": {},
     "output_type": "execute_result"
    }
   ],
   "source": [
    "# Overall passing rate of math and reading per school\n",
    "overall_passing_rate = students_passing_math_and_reading / per_school_count * 100\n",
    "overall_passing_rate"
   ]
  },
  {
   "cell_type": "code",
   "execution_count": 64,
   "metadata": {
    "ExecuteTime": {
     "end_time": "2023-11-24T04:57:23.602278Z",
     "start_time": "2023-11-24T04:57:23.472090Z"
    }
   },
   "outputs": [
    {
     "data": {
      "text/plain": "                      School Type  Total Students Total School Budget  \\\nschool_name                                                             \nBailey High School       District            4976       $3,124,928.00   \nCabrera High School       Charter            1858       $1,081,356.00   \nFigueroa High School     District            2949       $1,884,411.00   \nFord High School         District            2739       $1,763,916.00   \nGriffin High School       Charter            1468         $917,500.00   \nHernandez High School    District            4635       $3,022,020.00   \nHolden High School        Charter             427         $248,087.00   \nHuang High School        District            2917       $1,910,635.00   \nJohnson High School      District            4761       $3,094,650.00   \nPena High School          Charter             962         $585,858.00   \nRodriguez High School    District            3999       $2,547,363.00   \nShelton High School       Charter            1761       $1,056,600.00   \nThomas High School        Charter            1635       $1,043,130.00   \nWilson High School        Charter            2283       $1,319,574.00   \nWright High School        Charter            1800       $1,049,400.00   \n\n                      Per Student Budget  Average Math Score  \\\nschool_name                                                    \nBailey High School               $628.00           77.048432   \nCabrera High School              $582.00           83.061895   \nFigueroa High School             $639.00           76.711767   \nFord High School                 $644.00           77.102592   \nGriffin High School              $625.00           83.351499   \nHernandez High School            $652.00           77.289752   \nHolden High School               $581.00           83.803279   \nHuang High School                $655.00           76.629414   \nJohnson High School              $650.00           77.072464   \nPena High School                 $609.00           83.839917   \nRodriguez High School            $637.00           76.842711   \nShelton High School              $600.00           83.359455   \nThomas High School               $638.00           83.418349   \nWilson High School               $578.00           83.274201   \nWright High School               $583.00           83.682222   \n\n                       Average Reading Score  % Passing Math  \\\nschool_name                                                    \nBailey High School                 81.033963       66.680064   \nCabrera High School                83.975780       94.133477   \nFigueroa High School               81.158020       65.988471   \nFord High School                   80.746258       68.309602   \nGriffin High School                83.816757       93.392371   \nHernandez High School              80.934412       66.752967   \nHolden High School                 83.814988       92.505855   \nHuang High School                  81.182722       65.683922   \nJohnson High School                80.966394       66.057551   \nPena High School                   84.044699       94.594595   \nRodriguez High School              80.744686       66.366592   \nShelton High School                83.725724       93.867121   \nThomas High School                 83.848930       93.272171   \nWilson High School                 83.989488       93.867718   \nWright High School                 83.955000       93.333333   \n\n                       % Passing Reading  % Overall Passing  \nschool_name                                                  \nBailey High School             81.933280          54.642283  \nCabrera High School            97.039828          91.334769  \nFigueroa High School           80.739234          53.204476  \nFord High School               79.299014          54.289887  \nGriffin High School            97.138965          90.599455  \nHernandez High School          80.862999          53.527508  \nHolden High School             96.252927          89.227166  \nHuang High School              81.316421          53.513884  \nJohnson High School            81.222432          53.539172  \nPena High School               95.945946          90.540541  \nRodriguez High School          80.220055          52.988247  \nShelton High School            95.854628          89.892107  \nThomas High School             97.308869          90.948012  \nWilson High School             96.539641          90.582567  \nWright High School             96.611111          90.333333  ",
      "text/html": "<div>\n<style scoped>\n    .dataframe tbody tr th:only-of-type {\n        vertical-align: middle;\n    }\n\n    .dataframe tbody tr th {\n        vertical-align: top;\n    }\n\n    .dataframe thead th {\n        text-align: right;\n    }\n</style>\n<table border=\"1\" class=\"dataframe\">\n  <thead>\n    <tr style=\"text-align: right;\">\n      <th></th>\n      <th>School Type</th>\n      <th>Total Students</th>\n      <th>Total School Budget</th>\n      <th>Per Student Budget</th>\n      <th>Average Math Score</th>\n      <th>Average Reading Score</th>\n      <th>% Passing Math</th>\n      <th>% Passing Reading</th>\n      <th>% Overall Passing</th>\n    </tr>\n    <tr>\n      <th>school_name</th>\n      <th></th>\n      <th></th>\n      <th></th>\n      <th></th>\n      <th></th>\n      <th></th>\n      <th></th>\n      <th></th>\n      <th></th>\n    </tr>\n  </thead>\n  <tbody>\n    <tr>\n      <th>Bailey High School</th>\n      <td>District</td>\n      <td>4976</td>\n      <td>$3,124,928.00</td>\n      <td>$628.00</td>\n      <td>77.048432</td>\n      <td>81.033963</td>\n      <td>66.680064</td>\n      <td>81.933280</td>\n      <td>54.642283</td>\n    </tr>\n    <tr>\n      <th>Cabrera High School</th>\n      <td>Charter</td>\n      <td>1858</td>\n      <td>$1,081,356.00</td>\n      <td>$582.00</td>\n      <td>83.061895</td>\n      <td>83.975780</td>\n      <td>94.133477</td>\n      <td>97.039828</td>\n      <td>91.334769</td>\n    </tr>\n    <tr>\n      <th>Figueroa High School</th>\n      <td>District</td>\n      <td>2949</td>\n      <td>$1,884,411.00</td>\n      <td>$639.00</td>\n      <td>76.711767</td>\n      <td>81.158020</td>\n      <td>65.988471</td>\n      <td>80.739234</td>\n      <td>53.204476</td>\n    </tr>\n    <tr>\n      <th>Ford High School</th>\n      <td>District</td>\n      <td>2739</td>\n      <td>$1,763,916.00</td>\n      <td>$644.00</td>\n      <td>77.102592</td>\n      <td>80.746258</td>\n      <td>68.309602</td>\n      <td>79.299014</td>\n      <td>54.289887</td>\n    </tr>\n    <tr>\n      <th>Griffin High School</th>\n      <td>Charter</td>\n      <td>1468</td>\n      <td>$917,500.00</td>\n      <td>$625.00</td>\n      <td>83.351499</td>\n      <td>83.816757</td>\n      <td>93.392371</td>\n      <td>97.138965</td>\n      <td>90.599455</td>\n    </tr>\n    <tr>\n      <th>Hernandez High School</th>\n      <td>District</td>\n      <td>4635</td>\n      <td>$3,022,020.00</td>\n      <td>$652.00</td>\n      <td>77.289752</td>\n      <td>80.934412</td>\n      <td>66.752967</td>\n      <td>80.862999</td>\n      <td>53.527508</td>\n    </tr>\n    <tr>\n      <th>Holden High School</th>\n      <td>Charter</td>\n      <td>427</td>\n      <td>$248,087.00</td>\n      <td>$581.00</td>\n      <td>83.803279</td>\n      <td>83.814988</td>\n      <td>92.505855</td>\n      <td>96.252927</td>\n      <td>89.227166</td>\n    </tr>\n    <tr>\n      <th>Huang High School</th>\n      <td>District</td>\n      <td>2917</td>\n      <td>$1,910,635.00</td>\n      <td>$655.00</td>\n      <td>76.629414</td>\n      <td>81.182722</td>\n      <td>65.683922</td>\n      <td>81.316421</td>\n      <td>53.513884</td>\n    </tr>\n    <tr>\n      <th>Johnson High School</th>\n      <td>District</td>\n      <td>4761</td>\n      <td>$3,094,650.00</td>\n      <td>$650.00</td>\n      <td>77.072464</td>\n      <td>80.966394</td>\n      <td>66.057551</td>\n      <td>81.222432</td>\n      <td>53.539172</td>\n    </tr>\n    <tr>\n      <th>Pena High School</th>\n      <td>Charter</td>\n      <td>962</td>\n      <td>$585,858.00</td>\n      <td>$609.00</td>\n      <td>83.839917</td>\n      <td>84.044699</td>\n      <td>94.594595</td>\n      <td>95.945946</td>\n      <td>90.540541</td>\n    </tr>\n    <tr>\n      <th>Rodriguez High School</th>\n      <td>District</td>\n      <td>3999</td>\n      <td>$2,547,363.00</td>\n      <td>$637.00</td>\n      <td>76.842711</td>\n      <td>80.744686</td>\n      <td>66.366592</td>\n      <td>80.220055</td>\n      <td>52.988247</td>\n    </tr>\n    <tr>\n      <th>Shelton High School</th>\n      <td>Charter</td>\n      <td>1761</td>\n      <td>$1,056,600.00</td>\n      <td>$600.00</td>\n      <td>83.359455</td>\n      <td>83.725724</td>\n      <td>93.867121</td>\n      <td>95.854628</td>\n      <td>89.892107</td>\n    </tr>\n    <tr>\n      <th>Thomas High School</th>\n      <td>Charter</td>\n      <td>1635</td>\n      <td>$1,043,130.00</td>\n      <td>$638.00</td>\n      <td>83.418349</td>\n      <td>83.848930</td>\n      <td>93.272171</td>\n      <td>97.308869</td>\n      <td>90.948012</td>\n    </tr>\n    <tr>\n      <th>Wilson High School</th>\n      <td>Charter</td>\n      <td>2283</td>\n      <td>$1,319,574.00</td>\n      <td>$578.00</td>\n      <td>83.274201</td>\n      <td>83.989488</td>\n      <td>93.867718</td>\n      <td>96.539641</td>\n      <td>90.582567</td>\n    </tr>\n    <tr>\n      <th>Wright High School</th>\n      <td>Charter</td>\n      <td>1800</td>\n      <td>$1,049,400.00</td>\n      <td>$583.00</td>\n      <td>83.682222</td>\n      <td>83.955000</td>\n      <td>93.333333</td>\n      <td>96.611111</td>\n      <td>90.333333</td>\n    </tr>\n  </tbody>\n</table>\n</div>"
     },
     "execution_count": 64,
     "metadata": {},
     "output_type": "execute_result"
    }
   ],
   "source": [
    "# Create a DataFrame called `per_school_summary` with columns for the calculations above.\n",
    "per_school_summary = pd.DataFrame({\"School Type\":school_types,\n",
    "                                   \"Total Students\":per_school_count,\n",
    "                                   \"Total School Budget\":per_school_budget,\n",
    "                                   \"Per Student Budget\":per_school_capita,\n",
    "                                   \"Average Math Score\":avg_math_score,\n",
    "                                   \"Average Reading Score\":avg_reading_score,\n",
    "                                   \"% Passing Math\":per_school_passing_math,\n",
    "                                   \"% Passing Reading\":per_school_passing_reading,\n",
    "                                   \"% Overall Passing\":overall_passing_rate\n",
    "                                   })\n",
    "\n",
    "# Formatting\n",
    "per_school_summary[\"Total School Budget\"] = per_school_summary[\"Total School Budget\"].map(\"${:,.2f}\".format)\n",
    "per_school_summary[\"Per Student Budget\"] = per_school_summary[\"Per Student Budget\"].map(\"${:,.2f}\".format)\n",
    "# per_school_summary[\"Average Math Score\"] = per_school_summary[\"Average Math Score\"].map(\"{:.2f}\".format)\n",
    "# per_school_summary[\"Average Reading Score\"] = per_school_summary[\"Average Reading Score\"].map(\"{:.2f}\".format)\n",
    "# per_school_summary[\"% Passing Math\"] = per_school_summary[\"% Passing Math\"].map(\"{:.2f}%\".format)\n",
    "# per_school_summary[\"% Passing Reading\"] = per_school_summary[\"% Passing Reading\"].map(\"{:.2f}%\".format)\n",
    "# per_school_summary[\"% Overall Passing\"] = per_school_summary[\"% Overall Passing\"].map(\"{:.2f}%\".format)\n",
    "\n",
    "\n",
    "# Display the DataFrame\n",
    "per_school_summary"
   ]
  },
  {
   "cell_type": "markdown",
   "metadata": {},
   "source": [
    "## Highest-Performing Schools (by % Overall Passing)"
   ]
  },
  {
   "cell_type": "code",
   "execution_count": 65,
   "metadata": {
    "scrolled": true,
    "ExecuteTime": {
     "end_time": "2023-11-24T04:57:23.602525Z",
     "start_time": "2023-11-24T04:57:23.476035Z"
    }
   },
   "outputs": [
    {
     "data": {
      "text/plain": "                    School Type  Total Students Total School Budget  \\\nschool_name                                                           \nCabrera High School     Charter            1858       $1,081,356.00   \nThomas High School      Charter            1635       $1,043,130.00   \nGriffin High School     Charter            1468         $917,500.00   \nWilson High School      Charter            2283       $1,319,574.00   \nPena High School        Charter             962         $585,858.00   \n\n                    Per Student Budget  Average Math Score  \\\nschool_name                                                  \nCabrera High School            $582.00           83.061895   \nThomas High School             $638.00           83.418349   \nGriffin High School            $625.00           83.351499   \nWilson High School             $578.00           83.274201   \nPena High School               $609.00           83.839917   \n\n                     Average Reading Score  % Passing Math  % Passing Reading  \\\nschool_name                                                                     \nCabrera High School              83.975780       94.133477          97.039828   \nThomas High School               83.848930       93.272171          97.308869   \nGriffin High School              83.816757       93.392371          97.138965   \nWilson High School               83.989488       93.867718          96.539641   \nPena High School                 84.044699       94.594595          95.945946   \n\n                     % Overall Passing  \nschool_name                             \nCabrera High School          91.334769  \nThomas High School           90.948012  \nGriffin High School          90.599455  \nWilson High School           90.582567  \nPena High School             90.540541  ",
      "text/html": "<div>\n<style scoped>\n    .dataframe tbody tr th:only-of-type {\n        vertical-align: middle;\n    }\n\n    .dataframe tbody tr th {\n        vertical-align: top;\n    }\n\n    .dataframe thead th {\n        text-align: right;\n    }\n</style>\n<table border=\"1\" class=\"dataframe\">\n  <thead>\n    <tr style=\"text-align: right;\">\n      <th></th>\n      <th>School Type</th>\n      <th>Total Students</th>\n      <th>Total School Budget</th>\n      <th>Per Student Budget</th>\n      <th>Average Math Score</th>\n      <th>Average Reading Score</th>\n      <th>% Passing Math</th>\n      <th>% Passing Reading</th>\n      <th>% Overall Passing</th>\n    </tr>\n    <tr>\n      <th>school_name</th>\n      <th></th>\n      <th></th>\n      <th></th>\n      <th></th>\n      <th></th>\n      <th></th>\n      <th></th>\n      <th></th>\n      <th></th>\n    </tr>\n  </thead>\n  <tbody>\n    <tr>\n      <th>Cabrera High School</th>\n      <td>Charter</td>\n      <td>1858</td>\n      <td>$1,081,356.00</td>\n      <td>$582.00</td>\n      <td>83.061895</td>\n      <td>83.975780</td>\n      <td>94.133477</td>\n      <td>97.039828</td>\n      <td>91.334769</td>\n    </tr>\n    <tr>\n      <th>Thomas High School</th>\n      <td>Charter</td>\n      <td>1635</td>\n      <td>$1,043,130.00</td>\n      <td>$638.00</td>\n      <td>83.418349</td>\n      <td>83.848930</td>\n      <td>93.272171</td>\n      <td>97.308869</td>\n      <td>90.948012</td>\n    </tr>\n    <tr>\n      <th>Griffin High School</th>\n      <td>Charter</td>\n      <td>1468</td>\n      <td>$917,500.00</td>\n      <td>$625.00</td>\n      <td>83.351499</td>\n      <td>83.816757</td>\n      <td>93.392371</td>\n      <td>97.138965</td>\n      <td>90.599455</td>\n    </tr>\n    <tr>\n      <th>Wilson High School</th>\n      <td>Charter</td>\n      <td>2283</td>\n      <td>$1,319,574.00</td>\n      <td>$578.00</td>\n      <td>83.274201</td>\n      <td>83.989488</td>\n      <td>93.867718</td>\n      <td>96.539641</td>\n      <td>90.582567</td>\n    </tr>\n    <tr>\n      <th>Pena High School</th>\n      <td>Charter</td>\n      <td>962</td>\n      <td>$585,858.00</td>\n      <td>$609.00</td>\n      <td>83.839917</td>\n      <td>84.044699</td>\n      <td>94.594595</td>\n      <td>95.945946</td>\n      <td>90.540541</td>\n    </tr>\n  </tbody>\n</table>\n</div>"
     },
     "execution_count": 65,
     "metadata": {},
     "output_type": "execute_result"
    }
   ],
   "source": [
    "# Sort the schools by `% Overall Passing` in descending order and display the top 5 rows.\n",
    "top_schools = per_school_summary.sort_values(\"% Overall Passing\", ascending=False)\n",
    "top_schools.head(5)"
   ]
  },
  {
   "cell_type": "markdown",
   "metadata": {},
   "source": [
    "## Bottom Performing Schools (By % Overall Passing)"
   ]
  },
  {
   "cell_type": "code",
   "execution_count": 66,
   "metadata": {
    "ExecuteTime": {
     "end_time": "2023-11-24T04:57:23.602669Z",
     "start_time": "2023-11-24T04:57:23.480006Z"
    }
   },
   "outputs": [
    {
     "data": {
      "text/plain": "                      School Type  Total Students Total School Budget  \\\nschool_name                                                             \nRodriguez High School    District            3999       $2,547,363.00   \nFigueroa High School     District            2949       $1,884,411.00   \nHuang High School        District            2917       $1,910,635.00   \nHernandez High School    District            4635       $3,022,020.00   \nJohnson High School      District            4761       $3,094,650.00   \n\n                      Per Student Budget  Average Math Score  \\\nschool_name                                                    \nRodriguez High School            $637.00           76.842711   \nFigueroa High School             $639.00           76.711767   \nHuang High School                $655.00           76.629414   \nHernandez High School            $652.00           77.289752   \nJohnson High School              $650.00           77.072464   \n\n                       Average Reading Score  % Passing Math  \\\nschool_name                                                    \nRodriguez High School              80.744686       66.366592   \nFigueroa High School               81.158020       65.988471   \nHuang High School                  81.182722       65.683922   \nHernandez High School              80.934412       66.752967   \nJohnson High School                80.966394       66.057551   \n\n                       % Passing Reading  % Overall Passing  \nschool_name                                                  \nRodriguez High School          80.220055          52.988247  \nFigueroa High School           80.739234          53.204476  \nHuang High School              81.316421          53.513884  \nHernandez High School          80.862999          53.527508  \nJohnson High School            81.222432          53.539172  ",
      "text/html": "<div>\n<style scoped>\n    .dataframe tbody tr th:only-of-type {\n        vertical-align: middle;\n    }\n\n    .dataframe tbody tr th {\n        vertical-align: top;\n    }\n\n    .dataframe thead th {\n        text-align: right;\n    }\n</style>\n<table border=\"1\" class=\"dataframe\">\n  <thead>\n    <tr style=\"text-align: right;\">\n      <th></th>\n      <th>School Type</th>\n      <th>Total Students</th>\n      <th>Total School Budget</th>\n      <th>Per Student Budget</th>\n      <th>Average Math Score</th>\n      <th>Average Reading Score</th>\n      <th>% Passing Math</th>\n      <th>% Passing Reading</th>\n      <th>% Overall Passing</th>\n    </tr>\n    <tr>\n      <th>school_name</th>\n      <th></th>\n      <th></th>\n      <th></th>\n      <th></th>\n      <th></th>\n      <th></th>\n      <th></th>\n      <th></th>\n      <th></th>\n    </tr>\n  </thead>\n  <tbody>\n    <tr>\n      <th>Rodriguez High School</th>\n      <td>District</td>\n      <td>3999</td>\n      <td>$2,547,363.00</td>\n      <td>$637.00</td>\n      <td>76.842711</td>\n      <td>80.744686</td>\n      <td>66.366592</td>\n      <td>80.220055</td>\n      <td>52.988247</td>\n    </tr>\n    <tr>\n      <th>Figueroa High School</th>\n      <td>District</td>\n      <td>2949</td>\n      <td>$1,884,411.00</td>\n      <td>$639.00</td>\n      <td>76.711767</td>\n      <td>81.158020</td>\n      <td>65.988471</td>\n      <td>80.739234</td>\n      <td>53.204476</td>\n    </tr>\n    <tr>\n      <th>Huang High School</th>\n      <td>District</td>\n      <td>2917</td>\n      <td>$1,910,635.00</td>\n      <td>$655.00</td>\n      <td>76.629414</td>\n      <td>81.182722</td>\n      <td>65.683922</td>\n      <td>81.316421</td>\n      <td>53.513884</td>\n    </tr>\n    <tr>\n      <th>Hernandez High School</th>\n      <td>District</td>\n      <td>4635</td>\n      <td>$3,022,020.00</td>\n      <td>$652.00</td>\n      <td>77.289752</td>\n      <td>80.934412</td>\n      <td>66.752967</td>\n      <td>80.862999</td>\n      <td>53.527508</td>\n    </tr>\n    <tr>\n      <th>Johnson High School</th>\n      <td>District</td>\n      <td>4761</td>\n      <td>$3,094,650.00</td>\n      <td>$650.00</td>\n      <td>77.072464</td>\n      <td>80.966394</td>\n      <td>66.057551</td>\n      <td>81.222432</td>\n      <td>53.539172</td>\n    </tr>\n  </tbody>\n</table>\n</div>"
     },
     "execution_count": 66,
     "metadata": {},
     "output_type": "execute_result"
    }
   ],
   "source": [
    "# Sort the schools by `% Overall Passing` in ascending order and display the top 5 rows.\n",
    "bottom_schools = per_school_summary.sort_values(\"% Overall Passing\", ascending=True)\n",
    "bottom_schools.head(5)"
   ]
  },
  {
   "cell_type": "markdown",
   "metadata": {},
   "source": [
    "## Math Scores by Grade"
   ]
  },
  {
   "cell_type": "code",
   "execution_count": 67,
   "metadata": {
    "ExecuteTime": {
     "end_time": "2023-11-24T04:57:23.602867Z",
     "start_time": "2023-11-24T04:57:23.483881Z"
    }
   },
   "outputs": [
    {
     "data": {
      "text/plain": "                             9th       10th       11th       12th\nBailey High School     77.083676  76.996772  77.515588  76.492218\nCabrera High School    83.094697  83.154506  82.765560  83.277487\nFigueroa High School   76.403037  76.539974  76.884344  77.151369\nFord High School       77.361345  77.672316  76.918058  76.179963\nGriffin High School    82.044010  84.229064  83.842105  83.356164\nHernandez High School  77.438495  77.337408  77.136029  77.186567\nHolden High School     83.787402  83.429825  85.000000  82.855422\nHuang High School      77.027251  75.908735  76.446602  77.225641\nJohnson High School    77.187857  76.691117  77.491653  76.863248\nPena High School       83.625455  83.372000  84.328125  84.121547\nRodriguez High School  76.859966  76.612500  76.395626  77.690748\nShelton High School    83.420755  82.917411  83.383495  83.778976\nThomas High School     83.590022  83.087886  83.498795  83.497041\nWilson High School     83.085578  83.724422  83.195326  83.035794\nWright High School     83.264706  84.010288  83.836782  83.644986",
      "text/html": "<div>\n<style scoped>\n    .dataframe tbody tr th:only-of-type {\n        vertical-align: middle;\n    }\n\n    .dataframe tbody tr th {\n        vertical-align: top;\n    }\n\n    .dataframe thead th {\n        text-align: right;\n    }\n</style>\n<table border=\"1\" class=\"dataframe\">\n  <thead>\n    <tr style=\"text-align: right;\">\n      <th></th>\n      <th>9th</th>\n      <th>10th</th>\n      <th>11th</th>\n      <th>12th</th>\n    </tr>\n  </thead>\n  <tbody>\n    <tr>\n      <th>Bailey High School</th>\n      <td>77.083676</td>\n      <td>76.996772</td>\n      <td>77.515588</td>\n      <td>76.492218</td>\n    </tr>\n    <tr>\n      <th>Cabrera High School</th>\n      <td>83.094697</td>\n      <td>83.154506</td>\n      <td>82.765560</td>\n      <td>83.277487</td>\n    </tr>\n    <tr>\n      <th>Figueroa High School</th>\n      <td>76.403037</td>\n      <td>76.539974</td>\n      <td>76.884344</td>\n      <td>77.151369</td>\n    </tr>\n    <tr>\n      <th>Ford High School</th>\n      <td>77.361345</td>\n      <td>77.672316</td>\n      <td>76.918058</td>\n      <td>76.179963</td>\n    </tr>\n    <tr>\n      <th>Griffin High School</th>\n      <td>82.044010</td>\n      <td>84.229064</td>\n      <td>83.842105</td>\n      <td>83.356164</td>\n    </tr>\n    <tr>\n      <th>Hernandez High School</th>\n      <td>77.438495</td>\n      <td>77.337408</td>\n      <td>77.136029</td>\n      <td>77.186567</td>\n    </tr>\n    <tr>\n      <th>Holden High School</th>\n      <td>83.787402</td>\n      <td>83.429825</td>\n      <td>85.000000</td>\n      <td>82.855422</td>\n    </tr>\n    <tr>\n      <th>Huang High School</th>\n      <td>77.027251</td>\n      <td>75.908735</td>\n      <td>76.446602</td>\n      <td>77.225641</td>\n    </tr>\n    <tr>\n      <th>Johnson High School</th>\n      <td>77.187857</td>\n      <td>76.691117</td>\n      <td>77.491653</td>\n      <td>76.863248</td>\n    </tr>\n    <tr>\n      <th>Pena High School</th>\n      <td>83.625455</td>\n      <td>83.372000</td>\n      <td>84.328125</td>\n      <td>84.121547</td>\n    </tr>\n    <tr>\n      <th>Rodriguez High School</th>\n      <td>76.859966</td>\n      <td>76.612500</td>\n      <td>76.395626</td>\n      <td>77.690748</td>\n    </tr>\n    <tr>\n      <th>Shelton High School</th>\n      <td>83.420755</td>\n      <td>82.917411</td>\n      <td>83.383495</td>\n      <td>83.778976</td>\n    </tr>\n    <tr>\n      <th>Thomas High School</th>\n      <td>83.590022</td>\n      <td>83.087886</td>\n      <td>83.498795</td>\n      <td>83.497041</td>\n    </tr>\n    <tr>\n      <th>Wilson High School</th>\n      <td>83.085578</td>\n      <td>83.724422</td>\n      <td>83.195326</td>\n      <td>83.035794</td>\n    </tr>\n    <tr>\n      <th>Wright High School</th>\n      <td>83.264706</td>\n      <td>84.010288</td>\n      <td>83.836782</td>\n      <td>83.644986</td>\n    </tr>\n  </tbody>\n</table>\n</div>"
     },
     "execution_count": 67,
     "metadata": {},
     "output_type": "execute_result"
    }
   ],
   "source": [
    "# Use the code provided to separate the data by grade\n",
    "ninth_graders = school_data_complete[(school_data_complete[\"grade\"] == \"9th\")]\n",
    "tenth_graders = school_data_complete[(school_data_complete[\"grade\"] == \"10th\")]\n",
    "eleventh_graders = school_data_complete[(school_data_complete[\"grade\"] == \"11th\")]\n",
    "twelfth_graders = school_data_complete[(school_data_complete[\"grade\"] == \"12th\")]\n",
    "\n",
    "# Group by `school_name` and take the mean of the `math_score` column for each.\n",
    "ninth_grade_math_scores = ninth_graders.groupby([\"school_name\"])[\"math_score\"].mean()\n",
    "tenth_grader_math_scores = tenth_graders.groupby([\"school_name\"])[\"math_score\"].mean()\n",
    "eleventh_grader_math_scores = eleventh_graders.groupby([\"school_name\"])[\"math_score\"].mean()\n",
    "twelfth_grader_math_scores = twelfth_graders.groupby([\"school_name\"])[\"math_score\"].mean()\n",
    "\n",
    "# Combine each of the scores above into single DataFrame called `math_scores_by_grade`\n",
    "math_scores_by_grade = pd.DataFrame({\"9th\":ninth_grade_math_scores,\n",
    "                                     \"10th\":tenth_grader_math_scores,\n",
    "                                     \"11th\":eleventh_grader_math_scores,\n",
    "                                     \"12th\":twelfth_grader_math_scores})\n",
    "math_scores_by_grade.index.name = None\n",
    "\n",
    "# Formatting\n",
    "# math_scores_by_grade[\"9th\"] = math_scores_by_grade[\"9th\"].map(\"{:,.2f}\".format)\n",
    "# math_scores_by_grade[\"10th\"] = math_scores_by_grade[\"10th\"].map(\"{:,.2f}\".format)\n",
    "# math_scores_by_grade[\"11th\"] = math_scores_by_grade[\"11th\"].map(\"{:,.2f}\".format)\n",
    "# math_scores_by_grade[\"12th\"] = math_scores_by_grade[\"12th\"].map(\"{:,.2f}\".format)\n",
    "\n",
    "# Display the DataFrame\n",
    "math_scores_by_grade"
   ]
  },
  {
   "cell_type": "markdown",
   "metadata": {},
   "source": [
    "## Reading Score by Grade "
   ]
  },
  {
   "cell_type": "code",
   "execution_count": 68,
   "metadata": {
    "ExecuteTime": {
     "end_time": "2023-11-24T04:57:23.603116Z",
     "start_time": "2023-11-24T04:57:23.500995Z"
    }
   },
   "outputs": [
    {
     "data": {
      "text/plain": "                             9th       10th       11th       12th\nBailey High School     81.303155  80.907183  80.945643  80.912451\nCabrera High School    83.676136  84.253219  83.788382  84.287958\nFigueroa High School   81.198598  81.408912  80.640339  81.384863\nFord High School       80.632653  81.262712  80.403642  80.662338\nGriffin High School    83.369193  83.706897  84.288089  84.013699\nHernandez High School  80.866860  80.660147  81.396140  80.857143\nHolden High School     83.677165  83.324561  83.815534  84.698795\nHuang High School      81.290284  81.512386  81.417476  80.305983\nJohnson High School    81.260714  80.773431  80.616027  81.227564\nPena High School       83.807273  83.612000  84.335938  84.591160\nRodriguez High School  80.993127  80.629808  80.864811  80.376426\nShelton High School    84.122642  83.441964  84.373786  82.781671\nThomas High School     83.728850  84.254157  83.585542  83.831361\nWilson High School     83.939778  84.021452  83.764608  84.317673\nWright High School     83.833333  83.812757  84.156322  84.073171",
      "text/html": "<div>\n<style scoped>\n    .dataframe tbody tr th:only-of-type {\n        vertical-align: middle;\n    }\n\n    .dataframe tbody tr th {\n        vertical-align: top;\n    }\n\n    .dataframe thead th {\n        text-align: right;\n    }\n</style>\n<table border=\"1\" class=\"dataframe\">\n  <thead>\n    <tr style=\"text-align: right;\">\n      <th></th>\n      <th>9th</th>\n      <th>10th</th>\n      <th>11th</th>\n      <th>12th</th>\n    </tr>\n  </thead>\n  <tbody>\n    <tr>\n      <th>Bailey High School</th>\n      <td>81.303155</td>\n      <td>80.907183</td>\n      <td>80.945643</td>\n      <td>80.912451</td>\n    </tr>\n    <tr>\n      <th>Cabrera High School</th>\n      <td>83.676136</td>\n      <td>84.253219</td>\n      <td>83.788382</td>\n      <td>84.287958</td>\n    </tr>\n    <tr>\n      <th>Figueroa High School</th>\n      <td>81.198598</td>\n      <td>81.408912</td>\n      <td>80.640339</td>\n      <td>81.384863</td>\n    </tr>\n    <tr>\n      <th>Ford High School</th>\n      <td>80.632653</td>\n      <td>81.262712</td>\n      <td>80.403642</td>\n      <td>80.662338</td>\n    </tr>\n    <tr>\n      <th>Griffin High School</th>\n      <td>83.369193</td>\n      <td>83.706897</td>\n      <td>84.288089</td>\n      <td>84.013699</td>\n    </tr>\n    <tr>\n      <th>Hernandez High School</th>\n      <td>80.866860</td>\n      <td>80.660147</td>\n      <td>81.396140</td>\n      <td>80.857143</td>\n    </tr>\n    <tr>\n      <th>Holden High School</th>\n      <td>83.677165</td>\n      <td>83.324561</td>\n      <td>83.815534</td>\n      <td>84.698795</td>\n    </tr>\n    <tr>\n      <th>Huang High School</th>\n      <td>81.290284</td>\n      <td>81.512386</td>\n      <td>81.417476</td>\n      <td>80.305983</td>\n    </tr>\n    <tr>\n      <th>Johnson High School</th>\n      <td>81.260714</td>\n      <td>80.773431</td>\n      <td>80.616027</td>\n      <td>81.227564</td>\n    </tr>\n    <tr>\n      <th>Pena High School</th>\n      <td>83.807273</td>\n      <td>83.612000</td>\n      <td>84.335938</td>\n      <td>84.591160</td>\n    </tr>\n    <tr>\n      <th>Rodriguez High School</th>\n      <td>80.993127</td>\n      <td>80.629808</td>\n      <td>80.864811</td>\n      <td>80.376426</td>\n    </tr>\n    <tr>\n      <th>Shelton High School</th>\n      <td>84.122642</td>\n      <td>83.441964</td>\n      <td>84.373786</td>\n      <td>82.781671</td>\n    </tr>\n    <tr>\n      <th>Thomas High School</th>\n      <td>83.728850</td>\n      <td>84.254157</td>\n      <td>83.585542</td>\n      <td>83.831361</td>\n    </tr>\n    <tr>\n      <th>Wilson High School</th>\n      <td>83.939778</td>\n      <td>84.021452</td>\n      <td>83.764608</td>\n      <td>84.317673</td>\n    </tr>\n    <tr>\n      <th>Wright High School</th>\n      <td>83.833333</td>\n      <td>83.812757</td>\n      <td>84.156322</td>\n      <td>84.073171</td>\n    </tr>\n  </tbody>\n</table>\n</div>"
     },
     "execution_count": 68,
     "metadata": {},
     "output_type": "execute_result"
    }
   ],
   "source": [
    "# Separate the data by grade\n",
    "ninth_graders = school_data_complete[(school_data_complete[\"grade\"] == \"9th\")]\n",
    "tenth_graders = school_data_complete[(school_data_complete[\"grade\"] == \"10th\")]\n",
    "eleventh_graders = school_data_complete[(school_data_complete[\"grade\"] == \"11th\")]\n",
    "twelfth_graders = school_data_complete[(school_data_complete[\"grade\"] == \"12th\")]\n",
    "\n",
    "# Group by `school_name` and take the mean of the `reading_score` column for each.\n",
    "ninth_grade_reading_scores = ninth_graders.groupby('school_name')['reading_score'].mean()\n",
    "tenth_grader_reading_scores = tenth_graders.groupby('school_name')['reading_score'].mean()\n",
    "eleventh_grader_reading_scores = eleventh_graders.groupby('school_name')['reading_score'].mean()\n",
    "twelfth_grader_reading_scores = twelfth_graders.groupby('school_name')['reading_score'].mean()\n",
    "\n",
    "# Combine each of the scores above into single DataFrame\n",
    "reading_scores_by_grade = pd.DataFrame({\n",
    "    '9th': ninth_grade_reading_scores,\n",
    "    '10th': tenth_grader_reading_scores,\n",
    "    '11th': eleventh_grader_reading_scores,\n",
    "    '12th': twelfth_grader_reading_scores\n",
    "})\n",
    "reading_scores_by_grade.index.name = None\n",
    "\n",
    "# Formatting\n",
    "# reading_scores_by_grade[\"9th\"] = reading_scores_by_grade[\"9th\"].map(\"{:,.2f}\".format)\n",
    "# reading_scores_by_grade[\"10th\"] = reading_scores_by_grade[\"10th\"].map(\"{:,.2f}\".format)\n",
    "# reading_scores_by_grade[\"11th\"] = reading_scores_by_grade[\"11th\"].map(\"{:,.2f}\".format)\n",
    "# reading_scores_by_grade[\"12th\"] = reading_scores_by_grade[\"12th\"].map(\"{:,.2f}\".format)\n",
    "\n",
    "reading_scores_by_grade"
   ]
  },
  {
   "cell_type": "markdown",
   "metadata": {},
   "source": [
    "## Scores by School Spending"
   ]
  },
  {
   "cell_type": "code",
   "execution_count": 69,
   "metadata": {
    "ExecuteTime": {
     "end_time": "2023-11-24T04:57:23.603159Z",
     "start_time": "2023-11-24T04:57:23.513184Z"
    }
   },
   "outputs": [],
   "source": [
    "# Establish the bins \n",
    "spending_bins = [0, 585, 630, 645, 680]\n",
    "spending_labels = [\"<$585\", \"$585-630\", \"$630-645\", \"$645-680\"]"
   ]
  },
  {
   "cell_type": "code",
   "execution_count": 70,
   "outputs": [],
   "source": [
    "# Create a copy of the school summary since it has the \"Per Student Budget\" \n",
    "school_spending_df = per_school_summary.copy()"
   ],
   "metadata": {
    "collapsed": false,
    "ExecuteTime": {
     "end_time": "2023-11-24T04:57:23.603202Z",
     "start_time": "2023-11-24T04:57:23.514784Z"
    }
   }
  },
  {
   "cell_type": "code",
   "execution_count": 71,
   "outputs": [],
   "source": [
    "# Convert 'Per Student Budget' to numeric type\n",
    "school_spending_df['Per Student Budget'] = pd.to_numeric(school_spending_df['Per Student Budget'], errors='coerce')"
   ],
   "metadata": {
    "collapsed": false,
    "ExecuteTime": {
     "end_time": "2023-11-24T04:57:23.603249Z",
     "start_time": "2023-11-24T04:57:23.517026Z"
    }
   }
  },
  {
   "cell_type": "code",
   "execution_count": 72,
   "outputs": [
    {
     "data": {
      "text/plain": "                      School Type  Total Students Total School Budget  \\\nschool_name                                                             \nBailey High School       District            4976       $3,124,928.00   \nCabrera High School       Charter            1858       $1,081,356.00   \nFigueroa High School     District            2949       $1,884,411.00   \nFord High School         District            2739       $1,763,916.00   \nGriffin High School       Charter            1468         $917,500.00   \nHernandez High School    District            4635       $3,022,020.00   \nHolden High School        Charter             427         $248,087.00   \nHuang High School        District            2917       $1,910,635.00   \nJohnson High School      District            4761       $3,094,650.00   \nPena High School          Charter             962         $585,858.00   \nRodriguez High School    District            3999       $2,547,363.00   \nShelton High School       Charter            1761       $1,056,600.00   \nThomas High School        Charter            1635       $1,043,130.00   \nWilson High School        Charter            2283       $1,319,574.00   \nWright High School        Charter            1800       $1,049,400.00   \n\n                       Per Student Budget  Average Math Score  \\\nschool_name                                                     \nBailey High School                    NaN           77.048432   \nCabrera High School                   NaN           83.061895   \nFigueroa High School                  NaN           76.711767   \nFord High School                      NaN           77.102592   \nGriffin High School                   NaN           83.351499   \nHernandez High School                 NaN           77.289752   \nHolden High School                    NaN           83.803279   \nHuang High School                     NaN           76.629414   \nJohnson High School                   NaN           77.072464   \nPena High School                      NaN           83.839917   \nRodriguez High School                 NaN           76.842711   \nShelton High School                   NaN           83.359455   \nThomas High School                    NaN           83.418349   \nWilson High School                    NaN           83.274201   \nWright High School                    NaN           83.682222   \n\n                       Average Reading Score  % Passing Math  \\\nschool_name                                                    \nBailey High School                 81.033963       66.680064   \nCabrera High School                83.975780       94.133477   \nFigueroa High School               81.158020       65.988471   \nFord High School                   80.746258       68.309602   \nGriffin High School                83.816757       93.392371   \nHernandez High School              80.934412       66.752967   \nHolden High School                 83.814988       92.505855   \nHuang High School                  81.182722       65.683922   \nJohnson High School                80.966394       66.057551   \nPena High School                   84.044699       94.594595   \nRodriguez High School              80.744686       66.366592   \nShelton High School                83.725724       93.867121   \nThomas High School                 83.848930       93.272171   \nWilson High School                 83.989488       93.867718   \nWright High School                 83.955000       93.333333   \n\n                       % Passing Reading  % Overall Passing  \\\nschool_name                                                   \nBailey High School             81.933280          54.642283   \nCabrera High School            97.039828          91.334769   \nFigueroa High School           80.739234          53.204476   \nFord High School               79.299014          54.289887   \nGriffin High School            97.138965          90.599455   \nHernandez High School          80.862999          53.527508   \nHolden High School             96.252927          89.227166   \nHuang High School              81.316421          53.513884   \nJohnson High School            81.222432          53.539172   \nPena High School               95.945946          90.540541   \nRodriguez High School          80.220055          52.988247   \nShelton High School            95.854628          89.892107   \nThomas High School             97.308869          90.948012   \nWilson High School             96.539641          90.582567   \nWright High School             96.611111          90.333333   \n\n                      Spending Ranges (Per Student)  \nschool_name                                          \nBailey High School                              NaN  \nCabrera High School                             NaN  \nFigueroa High School                            NaN  \nFord High School                                NaN  \nGriffin High School                             NaN  \nHernandez High School                           NaN  \nHolden High School                              NaN  \nHuang High School                               NaN  \nJohnson High School                             NaN  \nPena High School                                NaN  \nRodriguez High School                           NaN  \nShelton High School                             NaN  \nThomas High School                              NaN  \nWilson High School                              NaN  \nWright High School                              NaN  ",
      "text/html": "<div>\n<style scoped>\n    .dataframe tbody tr th:only-of-type {\n        vertical-align: middle;\n    }\n\n    .dataframe tbody tr th {\n        vertical-align: top;\n    }\n\n    .dataframe thead th {\n        text-align: right;\n    }\n</style>\n<table border=\"1\" class=\"dataframe\">\n  <thead>\n    <tr style=\"text-align: right;\">\n      <th></th>\n      <th>School Type</th>\n      <th>Total Students</th>\n      <th>Total School Budget</th>\n      <th>Per Student Budget</th>\n      <th>Average Math Score</th>\n      <th>Average Reading Score</th>\n      <th>% Passing Math</th>\n      <th>% Passing Reading</th>\n      <th>% Overall Passing</th>\n      <th>Spending Ranges (Per Student)</th>\n    </tr>\n    <tr>\n      <th>school_name</th>\n      <th></th>\n      <th></th>\n      <th></th>\n      <th></th>\n      <th></th>\n      <th></th>\n      <th></th>\n      <th></th>\n      <th></th>\n      <th></th>\n    </tr>\n  </thead>\n  <tbody>\n    <tr>\n      <th>Bailey High School</th>\n      <td>District</td>\n      <td>4976</td>\n      <td>$3,124,928.00</td>\n      <td>NaN</td>\n      <td>77.048432</td>\n      <td>81.033963</td>\n      <td>66.680064</td>\n      <td>81.933280</td>\n      <td>54.642283</td>\n      <td>NaN</td>\n    </tr>\n    <tr>\n      <th>Cabrera High School</th>\n      <td>Charter</td>\n      <td>1858</td>\n      <td>$1,081,356.00</td>\n      <td>NaN</td>\n      <td>83.061895</td>\n      <td>83.975780</td>\n      <td>94.133477</td>\n      <td>97.039828</td>\n      <td>91.334769</td>\n      <td>NaN</td>\n    </tr>\n    <tr>\n      <th>Figueroa High School</th>\n      <td>District</td>\n      <td>2949</td>\n      <td>$1,884,411.00</td>\n      <td>NaN</td>\n      <td>76.711767</td>\n      <td>81.158020</td>\n      <td>65.988471</td>\n      <td>80.739234</td>\n      <td>53.204476</td>\n      <td>NaN</td>\n    </tr>\n    <tr>\n      <th>Ford High School</th>\n      <td>District</td>\n      <td>2739</td>\n      <td>$1,763,916.00</td>\n      <td>NaN</td>\n      <td>77.102592</td>\n      <td>80.746258</td>\n      <td>68.309602</td>\n      <td>79.299014</td>\n      <td>54.289887</td>\n      <td>NaN</td>\n    </tr>\n    <tr>\n      <th>Griffin High School</th>\n      <td>Charter</td>\n      <td>1468</td>\n      <td>$917,500.00</td>\n      <td>NaN</td>\n      <td>83.351499</td>\n      <td>83.816757</td>\n      <td>93.392371</td>\n      <td>97.138965</td>\n      <td>90.599455</td>\n      <td>NaN</td>\n    </tr>\n    <tr>\n      <th>Hernandez High School</th>\n      <td>District</td>\n      <td>4635</td>\n      <td>$3,022,020.00</td>\n      <td>NaN</td>\n      <td>77.289752</td>\n      <td>80.934412</td>\n      <td>66.752967</td>\n      <td>80.862999</td>\n      <td>53.527508</td>\n      <td>NaN</td>\n    </tr>\n    <tr>\n      <th>Holden High School</th>\n      <td>Charter</td>\n      <td>427</td>\n      <td>$248,087.00</td>\n      <td>NaN</td>\n      <td>83.803279</td>\n      <td>83.814988</td>\n      <td>92.505855</td>\n      <td>96.252927</td>\n      <td>89.227166</td>\n      <td>NaN</td>\n    </tr>\n    <tr>\n      <th>Huang High School</th>\n      <td>District</td>\n      <td>2917</td>\n      <td>$1,910,635.00</td>\n      <td>NaN</td>\n      <td>76.629414</td>\n      <td>81.182722</td>\n      <td>65.683922</td>\n      <td>81.316421</td>\n      <td>53.513884</td>\n      <td>NaN</td>\n    </tr>\n    <tr>\n      <th>Johnson High School</th>\n      <td>District</td>\n      <td>4761</td>\n      <td>$3,094,650.00</td>\n      <td>NaN</td>\n      <td>77.072464</td>\n      <td>80.966394</td>\n      <td>66.057551</td>\n      <td>81.222432</td>\n      <td>53.539172</td>\n      <td>NaN</td>\n    </tr>\n    <tr>\n      <th>Pena High School</th>\n      <td>Charter</td>\n      <td>962</td>\n      <td>$585,858.00</td>\n      <td>NaN</td>\n      <td>83.839917</td>\n      <td>84.044699</td>\n      <td>94.594595</td>\n      <td>95.945946</td>\n      <td>90.540541</td>\n      <td>NaN</td>\n    </tr>\n    <tr>\n      <th>Rodriguez High School</th>\n      <td>District</td>\n      <td>3999</td>\n      <td>$2,547,363.00</td>\n      <td>NaN</td>\n      <td>76.842711</td>\n      <td>80.744686</td>\n      <td>66.366592</td>\n      <td>80.220055</td>\n      <td>52.988247</td>\n      <td>NaN</td>\n    </tr>\n    <tr>\n      <th>Shelton High School</th>\n      <td>Charter</td>\n      <td>1761</td>\n      <td>$1,056,600.00</td>\n      <td>NaN</td>\n      <td>83.359455</td>\n      <td>83.725724</td>\n      <td>93.867121</td>\n      <td>95.854628</td>\n      <td>89.892107</td>\n      <td>NaN</td>\n    </tr>\n    <tr>\n      <th>Thomas High School</th>\n      <td>Charter</td>\n      <td>1635</td>\n      <td>$1,043,130.00</td>\n      <td>NaN</td>\n      <td>83.418349</td>\n      <td>83.848930</td>\n      <td>93.272171</td>\n      <td>97.308869</td>\n      <td>90.948012</td>\n      <td>NaN</td>\n    </tr>\n    <tr>\n      <th>Wilson High School</th>\n      <td>Charter</td>\n      <td>2283</td>\n      <td>$1,319,574.00</td>\n      <td>NaN</td>\n      <td>83.274201</td>\n      <td>83.989488</td>\n      <td>93.867718</td>\n      <td>96.539641</td>\n      <td>90.582567</td>\n      <td>NaN</td>\n    </tr>\n    <tr>\n      <th>Wright High School</th>\n      <td>Charter</td>\n      <td>1800</td>\n      <td>$1,049,400.00</td>\n      <td>NaN</td>\n      <td>83.682222</td>\n      <td>83.955000</td>\n      <td>93.333333</td>\n      <td>96.611111</td>\n      <td>90.333333</td>\n      <td>NaN</td>\n    </tr>\n  </tbody>\n</table>\n</div>"
     },
     "execution_count": 72,
     "metadata": {},
     "output_type": "execute_result"
    }
   ],
   "source": [
    "# Slice to categorize spending based on the bins.\n",
    "school_spending_df[\"Spending Ranges (Per Student)\"] = pd.cut(school_spending_df['Per Student Budget'], spending_bins, labels=spending_labels)\n",
    "\n",
    "# Formatting\n",
    "#school_spending_df[\"Total Students\"] = school_spending_df[\"Total Students\"].map(\"{:,}\".format)\n",
    "# school_spending_df[\"Total School Budget\"] = school_spending_df[\"Total School Budget\"].map(\"${:,.2f}\".format)\n",
    "# school_spending_df[\"Per Student Budget\"] = school_spending_df[\"Per Student Budget\"].map(\"${:,.2f}\".format)\n",
    "# school_spending_df[\"Average Math Score\"] = school_spending_df[\"Average Math Score\"].map(\"{:,.2f}\".format)\n",
    "# school_spending_df[\"Average Reading Score\"] = school_spending_df[\"Average Reading Score\"].map(\"{:,.2f}\".format)\n",
    "# school_spending_df[\"% Passing Math\"] = school_spending_df[\"% Passing Math\"].map(\"{:,.2f}%\".format)\n",
    "# school_spending_df[\"% Passing Reading\"] = school_spending_df[\"% Passing Reading\"].map(\"{:,.2f}%\".format)\n",
    "# school_spending_df[\"% Overall Passing\"] = school_spending_df[\"% Overall Passing\"].map(\"{:,.2f}%\".format)\n",
    "\n",
    "school_spending_df"
   ],
   "metadata": {
    "collapsed": false,
    "ExecuteTime": {
     "end_time": "2023-11-24T04:57:23.603465Z",
     "start_time": "2023-11-24T04:57:23.522263Z"
    }
   }
  },
  {
   "cell_type": "code",
   "execution_count": 73,
   "metadata": {
    "ExecuteTime": {
     "end_time": "2023-11-24T04:57:23.603525Z",
     "start_time": "2023-11-24T04:57:23.525430Z"
    }
   },
   "outputs": [
    {
     "name": "stderr",
     "output_type": "stream",
     "text": [
      "/var/folders/r4/q83r2ncn2h53plrg96ghqx7w0000gn/T/ipykernel_88764/1099220546.py:2: FutureWarning: The default of observed=False is deprecated and will be changed to True in a future version of pandas. Pass observed=False to retain current behavior or observed=True to adopt the future default and silence this warning.\n",
      "  spending_math_scores = school_spending_df.groupby([\"Spending Ranges (Per Student)\"])[\"Average Math Score\"].mean()\n",
      "/var/folders/r4/q83r2ncn2h53plrg96ghqx7w0000gn/T/ipykernel_88764/1099220546.py:3: FutureWarning: The default of observed=False is deprecated and will be changed to True in a future version of pandas. Pass observed=False to retain current behavior or observed=True to adopt the future default and silence this warning.\n",
      "  spending_reading_scores = school_spending_df.groupby([\"Spending Ranges (Per Student)\"])[\"Average Reading Score\"].mean()\n",
      "/var/folders/r4/q83r2ncn2h53plrg96ghqx7w0000gn/T/ipykernel_88764/1099220546.py:4: FutureWarning: The default of observed=False is deprecated and will be changed to True in a future version of pandas. Pass observed=False to retain current behavior or observed=True to adopt the future default and silence this warning.\n",
      "  spending_passing_math = school_spending_df.groupby([\"Spending Ranges (Per Student)\"])[\"% Passing Math\"].mean()\n",
      "/var/folders/r4/q83r2ncn2h53plrg96ghqx7w0000gn/T/ipykernel_88764/1099220546.py:5: FutureWarning: The default of observed=False is deprecated and will be changed to True in a future version of pandas. Pass observed=False to retain current behavior or observed=True to adopt the future default and silence this warning.\n",
      "  spending_passing_reading = school_spending_df.groupby([\"Spending Ranges (Per Student)\"])[\"% Passing Reading\"].mean()\n",
      "/var/folders/r4/q83r2ncn2h53plrg96ghqx7w0000gn/T/ipykernel_88764/1099220546.py:6: FutureWarning: The default of observed=False is deprecated and will be changed to True in a future version of pandas. Pass observed=False to retain current behavior or observed=True to adopt the future default and silence this warning.\n",
      "  overall_passing_spending = school_spending_df.groupby([\"Spending Ranges (Per Student)\"])[\"% Overall Passing\"].mean()\n"
     ]
    }
   ],
   "source": [
    "#  Calculate averages for the desired columns. \n",
    "spending_math_scores = school_spending_df.groupby([\"Spending Ranges (Per Student)\"])[\"Average Math Score\"].mean()\n",
    "spending_reading_scores = school_spending_df.groupby([\"Spending Ranges (Per Student)\"])[\"Average Reading Score\"].mean()\n",
    "spending_passing_math = school_spending_df.groupby([\"Spending Ranges (Per Student)\"])[\"% Passing Math\"].mean()\n",
    "spending_passing_reading = school_spending_df.groupby([\"Spending Ranges (Per Student)\"])[\"% Passing Reading\"].mean()\n",
    "overall_passing_spending = school_spending_df.groupby([\"Spending Ranges (Per Student)\"])[\"% Overall Passing\"].mean()"
   ]
  },
  {
   "cell_type": "code",
   "execution_count": 74,
   "metadata": {
    "ExecuteTime": {
     "end_time": "2023-11-24T04:57:23.603674Z",
     "start_time": "2023-11-24T04:57:23.529610Z"
    }
   },
   "outputs": [
    {
     "data": {
      "text/plain": "                               Average Math Score  Average Reading Score  \\\nSpending Ranges (Per Student)                                              \n<$585                                         NaN                    NaN   \n$585-630                                      NaN                    NaN   \n$630-645                                      NaN                    NaN   \n$645-680                                      NaN                    NaN   \n\n                               % Passing Math  % Passing Reading  \\\nSpending Ranges (Per Student)                                      \n<$585                                     NaN                NaN   \n$585-630                                  NaN                NaN   \n$630-645                                  NaN                NaN   \n$645-680                                  NaN                NaN   \n\n                               % Overall Passing  \nSpending Ranges (Per Student)                     \n<$585                                        NaN  \n$585-630                                     NaN  \n$630-645                                     NaN  \n$645-680                                     NaN  ",
      "text/html": "<div>\n<style scoped>\n    .dataframe tbody tr th:only-of-type {\n        vertical-align: middle;\n    }\n\n    .dataframe tbody tr th {\n        vertical-align: top;\n    }\n\n    .dataframe thead th {\n        text-align: right;\n    }\n</style>\n<table border=\"1\" class=\"dataframe\">\n  <thead>\n    <tr style=\"text-align: right;\">\n      <th></th>\n      <th>Average Math Score</th>\n      <th>Average Reading Score</th>\n      <th>% Passing Math</th>\n      <th>% Passing Reading</th>\n      <th>% Overall Passing</th>\n    </tr>\n    <tr>\n      <th>Spending Ranges (Per Student)</th>\n      <th></th>\n      <th></th>\n      <th></th>\n      <th></th>\n      <th></th>\n    </tr>\n  </thead>\n  <tbody>\n    <tr>\n      <th>&lt;$585</th>\n      <td>NaN</td>\n      <td>NaN</td>\n      <td>NaN</td>\n      <td>NaN</td>\n      <td>NaN</td>\n    </tr>\n    <tr>\n      <th>$585-630</th>\n      <td>NaN</td>\n      <td>NaN</td>\n      <td>NaN</td>\n      <td>NaN</td>\n      <td>NaN</td>\n    </tr>\n    <tr>\n      <th>$630-645</th>\n      <td>NaN</td>\n      <td>NaN</td>\n      <td>NaN</td>\n      <td>NaN</td>\n      <td>NaN</td>\n    </tr>\n    <tr>\n      <th>$645-680</th>\n      <td>NaN</td>\n      <td>NaN</td>\n      <td>NaN</td>\n      <td>NaN</td>\n      <td>NaN</td>\n    </tr>\n  </tbody>\n</table>\n</div>"
     },
     "execution_count": 74,
     "metadata": {},
     "output_type": "execute_result"
    }
   ],
   "source": [
    "# Assemble into DataFrame\n",
    "spending_summary = pd.DataFrame({\n",
    "    'Average Math Score': spending_math_scores,\n",
    "    'Average Reading Score': spending_reading_scores,\n",
    "    '% Passing Math': spending_passing_math,\n",
    "    '% Passing Reading': spending_passing_reading,\n",
    "    '% Overall Passing': overall_passing_spending\n",
    "})\n",
    "\n",
    "# Formatting\n",
    "# spending_summary[\"Average Math Score\"] = spending_summary[\"Average Math Score\"].map(\"{:,.2f}\".format)\n",
    "# spending_summary[\"Average Reading Score\"] = spending_summary[\"Average Reading Score\"].map(\"{:,.2f}\".format)\n",
    "# spending_summary[\"% Passing Math\"] = spending_summary[\"% Passing Math\"].map(\"{:,.2f}%\".format)\n",
    "# spending_summary[\"% Passing Reading\"] = spending_summary[\"% Passing Reading\"].map(\"{:,.2f}%\".format)\n",
    "# spending_summary[\"% Overall Passing\"] = spending_summary[\"% Overall Passing\"].map(\"{:,.2f}%\".format)\n",
    "\n",
    "spending_summary"
   ]
  },
  {
   "cell_type": "markdown",
   "metadata": {},
   "source": [
    "## Scores by School Size"
   ]
  },
  {
   "cell_type": "code",
   "execution_count": 75,
   "metadata": {
    "ExecuteTime": {
     "end_time": "2023-11-24T04:57:23.603712Z",
     "start_time": "2023-11-24T04:57:23.531687Z"
    }
   },
   "outputs": [],
   "source": [
    "# Establish the bins.\n",
    "size_bins = [0, 1000, 2000, 5000]\n",
    "size_labels = [\"Small (<1000)\", \"Medium (1000-2000)\", \"Large (2000-5000)\"]"
   ]
  },
  {
   "cell_type": "code",
   "execution_count": 76,
   "metadata": {
    "ExecuteTime": {
     "end_time": "2023-11-24T04:57:23.603953Z",
     "start_time": "2023-11-24T04:57:23.536518Z"
    }
   },
   "outputs": [
    {
     "data": {
      "text/plain": "                      School Type  Total Students Total School Budget  \\\nschool_name                                                             \nBailey High School       District            4976       $3,124,928.00   \nCabrera High School       Charter            1858       $1,081,356.00   \nFigueroa High School     District            2949       $1,884,411.00   \nFord High School         District            2739       $1,763,916.00   \nGriffin High School       Charter            1468         $917,500.00   \nHernandez High School    District            4635       $3,022,020.00   \nHolden High School        Charter             427         $248,087.00   \nHuang High School        District            2917       $1,910,635.00   \nJohnson High School      District            4761       $3,094,650.00   \nPena High School          Charter             962         $585,858.00   \nRodriguez High School    District            3999       $2,547,363.00   \nShelton High School       Charter            1761       $1,056,600.00   \nThomas High School        Charter            1635       $1,043,130.00   \nWilson High School        Charter            2283       $1,319,574.00   \nWright High School        Charter            1800       $1,049,400.00   \n\n                      Per Student Budget  Average Math Score  \\\nschool_name                                                    \nBailey High School               $628.00           77.048432   \nCabrera High School              $582.00           83.061895   \nFigueroa High School             $639.00           76.711767   \nFord High School                 $644.00           77.102592   \nGriffin High School              $625.00           83.351499   \nHernandez High School            $652.00           77.289752   \nHolden High School               $581.00           83.803279   \nHuang High School                $655.00           76.629414   \nJohnson High School              $650.00           77.072464   \nPena High School                 $609.00           83.839917   \nRodriguez High School            $637.00           76.842711   \nShelton High School              $600.00           83.359455   \nThomas High School               $638.00           83.418349   \nWilson High School               $578.00           83.274201   \nWright High School               $583.00           83.682222   \n\n                       Average Reading Score  % Passing Math  \\\nschool_name                                                    \nBailey High School                 81.033963       66.680064   \nCabrera High School                83.975780       94.133477   \nFigueroa High School               81.158020       65.988471   \nFord High School                   80.746258       68.309602   \nGriffin High School                83.816757       93.392371   \nHernandez High School              80.934412       66.752967   \nHolden High School                 83.814988       92.505855   \nHuang High School                  81.182722       65.683922   \nJohnson High School                80.966394       66.057551   \nPena High School                   84.044699       94.594595   \nRodriguez High School              80.744686       66.366592   \nShelton High School                83.725724       93.867121   \nThomas High School                 83.848930       93.272171   \nWilson High School                 83.989488       93.867718   \nWright High School                 83.955000       93.333333   \n\n                       % Passing Reading  % Overall Passing  \\\nschool_name                                                   \nBailey High School             81.933280          54.642283   \nCabrera High School            97.039828          91.334769   \nFigueroa High School           80.739234          53.204476   \nFord High School               79.299014          54.289887   \nGriffin High School            97.138965          90.599455   \nHernandez High School          80.862999          53.527508   \nHolden High School             96.252927          89.227166   \nHuang High School              81.316421          53.513884   \nJohnson High School            81.222432          53.539172   \nPena High School               95.945946          90.540541   \nRodriguez High School          80.220055          52.988247   \nShelton High School            95.854628          89.892107   \nThomas High School             97.308869          90.948012   \nWilson High School             96.539641          90.582567   \nWright High School             96.611111          90.333333   \n\n                              School Size  \nschool_name                                \nBailey High School      Large (2000-5000)  \nCabrera High School    Medium (1000-2000)  \nFigueroa High School    Large (2000-5000)  \nFord High School        Large (2000-5000)  \nGriffin High School    Medium (1000-2000)  \nHernandez High School   Large (2000-5000)  \nHolden High School          Small (<1000)  \nHuang High School       Large (2000-5000)  \nJohnson High School     Large (2000-5000)  \nPena High School            Small (<1000)  \nRodriguez High School   Large (2000-5000)  \nShelton High School    Medium (1000-2000)  \nThomas High School     Medium (1000-2000)  \nWilson High School      Large (2000-5000)  \nWright High School     Medium (1000-2000)  ",
      "text/html": "<div>\n<style scoped>\n    .dataframe tbody tr th:only-of-type {\n        vertical-align: middle;\n    }\n\n    .dataframe tbody tr th {\n        vertical-align: top;\n    }\n\n    .dataframe thead th {\n        text-align: right;\n    }\n</style>\n<table border=\"1\" class=\"dataframe\">\n  <thead>\n    <tr style=\"text-align: right;\">\n      <th></th>\n      <th>School Type</th>\n      <th>Total Students</th>\n      <th>Total School Budget</th>\n      <th>Per Student Budget</th>\n      <th>Average Math Score</th>\n      <th>Average Reading Score</th>\n      <th>% Passing Math</th>\n      <th>% Passing Reading</th>\n      <th>% Overall Passing</th>\n      <th>School Size</th>\n    </tr>\n    <tr>\n      <th>school_name</th>\n      <th></th>\n      <th></th>\n      <th></th>\n      <th></th>\n      <th></th>\n      <th></th>\n      <th></th>\n      <th></th>\n      <th></th>\n      <th></th>\n    </tr>\n  </thead>\n  <tbody>\n    <tr>\n      <th>Bailey High School</th>\n      <td>District</td>\n      <td>4976</td>\n      <td>$3,124,928.00</td>\n      <td>$628.00</td>\n      <td>77.048432</td>\n      <td>81.033963</td>\n      <td>66.680064</td>\n      <td>81.933280</td>\n      <td>54.642283</td>\n      <td>Large (2000-5000)</td>\n    </tr>\n    <tr>\n      <th>Cabrera High School</th>\n      <td>Charter</td>\n      <td>1858</td>\n      <td>$1,081,356.00</td>\n      <td>$582.00</td>\n      <td>83.061895</td>\n      <td>83.975780</td>\n      <td>94.133477</td>\n      <td>97.039828</td>\n      <td>91.334769</td>\n      <td>Medium (1000-2000)</td>\n    </tr>\n    <tr>\n      <th>Figueroa High School</th>\n      <td>District</td>\n      <td>2949</td>\n      <td>$1,884,411.00</td>\n      <td>$639.00</td>\n      <td>76.711767</td>\n      <td>81.158020</td>\n      <td>65.988471</td>\n      <td>80.739234</td>\n      <td>53.204476</td>\n      <td>Large (2000-5000)</td>\n    </tr>\n    <tr>\n      <th>Ford High School</th>\n      <td>District</td>\n      <td>2739</td>\n      <td>$1,763,916.00</td>\n      <td>$644.00</td>\n      <td>77.102592</td>\n      <td>80.746258</td>\n      <td>68.309602</td>\n      <td>79.299014</td>\n      <td>54.289887</td>\n      <td>Large (2000-5000)</td>\n    </tr>\n    <tr>\n      <th>Griffin High School</th>\n      <td>Charter</td>\n      <td>1468</td>\n      <td>$917,500.00</td>\n      <td>$625.00</td>\n      <td>83.351499</td>\n      <td>83.816757</td>\n      <td>93.392371</td>\n      <td>97.138965</td>\n      <td>90.599455</td>\n      <td>Medium (1000-2000)</td>\n    </tr>\n    <tr>\n      <th>Hernandez High School</th>\n      <td>District</td>\n      <td>4635</td>\n      <td>$3,022,020.00</td>\n      <td>$652.00</td>\n      <td>77.289752</td>\n      <td>80.934412</td>\n      <td>66.752967</td>\n      <td>80.862999</td>\n      <td>53.527508</td>\n      <td>Large (2000-5000)</td>\n    </tr>\n    <tr>\n      <th>Holden High School</th>\n      <td>Charter</td>\n      <td>427</td>\n      <td>$248,087.00</td>\n      <td>$581.00</td>\n      <td>83.803279</td>\n      <td>83.814988</td>\n      <td>92.505855</td>\n      <td>96.252927</td>\n      <td>89.227166</td>\n      <td>Small (&lt;1000)</td>\n    </tr>\n    <tr>\n      <th>Huang High School</th>\n      <td>District</td>\n      <td>2917</td>\n      <td>$1,910,635.00</td>\n      <td>$655.00</td>\n      <td>76.629414</td>\n      <td>81.182722</td>\n      <td>65.683922</td>\n      <td>81.316421</td>\n      <td>53.513884</td>\n      <td>Large (2000-5000)</td>\n    </tr>\n    <tr>\n      <th>Johnson High School</th>\n      <td>District</td>\n      <td>4761</td>\n      <td>$3,094,650.00</td>\n      <td>$650.00</td>\n      <td>77.072464</td>\n      <td>80.966394</td>\n      <td>66.057551</td>\n      <td>81.222432</td>\n      <td>53.539172</td>\n      <td>Large (2000-5000)</td>\n    </tr>\n    <tr>\n      <th>Pena High School</th>\n      <td>Charter</td>\n      <td>962</td>\n      <td>$585,858.00</td>\n      <td>$609.00</td>\n      <td>83.839917</td>\n      <td>84.044699</td>\n      <td>94.594595</td>\n      <td>95.945946</td>\n      <td>90.540541</td>\n      <td>Small (&lt;1000)</td>\n    </tr>\n    <tr>\n      <th>Rodriguez High School</th>\n      <td>District</td>\n      <td>3999</td>\n      <td>$2,547,363.00</td>\n      <td>$637.00</td>\n      <td>76.842711</td>\n      <td>80.744686</td>\n      <td>66.366592</td>\n      <td>80.220055</td>\n      <td>52.988247</td>\n      <td>Large (2000-5000)</td>\n    </tr>\n    <tr>\n      <th>Shelton High School</th>\n      <td>Charter</td>\n      <td>1761</td>\n      <td>$1,056,600.00</td>\n      <td>$600.00</td>\n      <td>83.359455</td>\n      <td>83.725724</td>\n      <td>93.867121</td>\n      <td>95.854628</td>\n      <td>89.892107</td>\n      <td>Medium (1000-2000)</td>\n    </tr>\n    <tr>\n      <th>Thomas High School</th>\n      <td>Charter</td>\n      <td>1635</td>\n      <td>$1,043,130.00</td>\n      <td>$638.00</td>\n      <td>83.418349</td>\n      <td>83.848930</td>\n      <td>93.272171</td>\n      <td>97.308869</td>\n      <td>90.948012</td>\n      <td>Medium (1000-2000)</td>\n    </tr>\n    <tr>\n      <th>Wilson High School</th>\n      <td>Charter</td>\n      <td>2283</td>\n      <td>$1,319,574.00</td>\n      <td>$578.00</td>\n      <td>83.274201</td>\n      <td>83.989488</td>\n      <td>93.867718</td>\n      <td>96.539641</td>\n      <td>90.582567</td>\n      <td>Large (2000-5000)</td>\n    </tr>\n    <tr>\n      <th>Wright High School</th>\n      <td>Charter</td>\n      <td>1800</td>\n      <td>$1,049,400.00</td>\n      <td>$583.00</td>\n      <td>83.682222</td>\n      <td>83.955000</td>\n      <td>93.333333</td>\n      <td>96.611111</td>\n      <td>90.333333</td>\n      <td>Medium (1000-2000)</td>\n    </tr>\n  </tbody>\n</table>\n</div>"
     },
     "execution_count": 76,
     "metadata": {},
     "output_type": "execute_result"
    }
   ],
   "source": [
    "# Categorize the spending based on the bins\n",
    "# Use `pd.cut` on the \"Total Students\" column of the `per_school_summary` DataFrame.\n",
    "\n",
    "per_school_summary[\"School Size\"] = pd.cut(per_school_summary['Total Students'], size_bins, labels= size_labels)\n",
    "\n",
    "# Formatting\n",
    "# per_school_summary[\"Total Students\"] = per_school_summary[\"Total Students\"].map(\"{:,}\".format)\n",
    "# per_school_summary[\"Total School Budget\"] = per_school_summary[\"Total School Budget\"].map(\"${:,.2f}\".format)\n",
    "# per_school_summary[\"Per Student Budget\"] = per_school_summary[\"Per Student Budget\"].map(\"${:,.2f}\".format)\n",
    "# per_school_summary[\"Average Math Score\"] = per_school_summary[\"Average Math Score\"].map(\"{:,.2f}\".format)\n",
    "# per_school_summary[\"Average Reading Score\"] = per_school_summary[\"Average Reading Score\"].map(\"{:,.2f}\".format)\n",
    "# per_school_summary[\"% Passing Math\"] = per_school_summary[\"% Passing Math\"].map(\"{:,.2f}%\".format)\n",
    "# per_school_summary[\"% Passing Reading\"] = per_school_summary[\"% Passing Reading\"].map(\"{:,.2f}%\".format)\n",
    "# per_school_summary[\"% Overall Passing\"] = per_school_summary[\"% Overall Passing\"].map(\"{:,.2f}%\".format)\n",
    "\n",
    "per_school_summary"
   ]
  },
  {
   "cell_type": "code",
   "execution_count": 77,
   "metadata": {
    "ExecuteTime": {
     "end_time": "2023-11-24T04:57:23.604010Z",
     "start_time": "2023-11-24T04:57:23.539110Z"
    }
   },
   "outputs": [
    {
     "name": "stderr",
     "output_type": "stream",
     "text": [
      "/var/folders/r4/q83r2ncn2h53plrg96ghqx7w0000gn/T/ipykernel_88764/448985837.py:2: FutureWarning: The default of observed=False is deprecated and will be changed to True in a future version of pandas. Pass observed=False to retain current behavior or observed=True to adopt the future default and silence this warning.\n",
      "  size_math_scores = per_school_summary.groupby([\"School Size\"])[\"Average Math Score\"].mean()\n",
      "/var/folders/r4/q83r2ncn2h53plrg96ghqx7w0000gn/T/ipykernel_88764/448985837.py:3: FutureWarning: The default of observed=False is deprecated and will be changed to True in a future version of pandas. Pass observed=False to retain current behavior or observed=True to adopt the future default and silence this warning.\n",
      "  size_reading_scores = per_school_summary.groupby([\"School Size\"])[\"Average Reading Score\"].mean()\n",
      "/var/folders/r4/q83r2ncn2h53plrg96ghqx7w0000gn/T/ipykernel_88764/448985837.py:4: FutureWarning: The default of observed=False is deprecated and will be changed to True in a future version of pandas. Pass observed=False to retain current behavior or observed=True to adopt the future default and silence this warning.\n",
      "  size_passing_math = per_school_summary.groupby([\"School Size\"])[\"% Passing Math\"].mean()\n",
      "/var/folders/r4/q83r2ncn2h53plrg96ghqx7w0000gn/T/ipykernel_88764/448985837.py:5: FutureWarning: The default of observed=False is deprecated and will be changed to True in a future version of pandas. Pass observed=False to retain current behavior or observed=True to adopt the future default and silence this warning.\n",
      "  size_passing_reading = per_school_summary.groupby([\"School Size\"])[\"% Passing Reading\"].mean()\n",
      "/var/folders/r4/q83r2ncn2h53plrg96ghqx7w0000gn/T/ipykernel_88764/448985837.py:6: FutureWarning: The default of observed=False is deprecated and will be changed to True in a future version of pandas. Pass observed=False to retain current behavior or observed=True to adopt the future default and silence this warning.\n",
      "  size_overall_passing = per_school_summary.groupby([\"School Size\"])[\"% Overall Passing\"].mean()\n"
     ]
    }
   ],
   "source": [
    "# Calculate averages for the desired columns. \n",
    "size_math_scores = per_school_summary.groupby([\"School Size\"])[\"Average Math Score\"].mean()\n",
    "size_reading_scores = per_school_summary.groupby([\"School Size\"])[\"Average Reading Score\"].mean()\n",
    "size_passing_math = per_school_summary.groupby([\"School Size\"])[\"% Passing Math\"].mean()\n",
    "size_passing_reading = per_school_summary.groupby([\"School Size\"])[\"% Passing Reading\"].mean()\n",
    "size_overall_passing = per_school_summary.groupby([\"School Size\"])[\"% Overall Passing\"].mean()"
   ]
  },
  {
   "cell_type": "code",
   "execution_count": 78,
   "metadata": {
    "scrolled": true,
    "ExecuteTime": {
     "end_time": "2023-11-24T04:57:23.604117Z",
     "start_time": "2023-11-24T04:57:23.544206Z"
    }
   },
   "outputs": [
    {
     "data": {
      "text/plain": "                    Average Math Score  Average Reading Score  % Passing Math  \\\nSchool Size                                                                     \nSmall (<1000)                83.821598              83.929843       93.550225   \nMedium (1000-2000)           83.374684              83.864438       93.599695   \nLarge (2000-5000)            77.746417              81.344493       69.963361   \n\n                    % Passing Reading  % Overall Passing  \nSchool Size                                               \nSmall (<1000)               96.099437          89.883853  \nMedium (1000-2000)          96.790680          90.621535  \nLarge (2000-5000)           82.766634          58.286003  ",
      "text/html": "<div>\n<style scoped>\n    .dataframe tbody tr th:only-of-type {\n        vertical-align: middle;\n    }\n\n    .dataframe tbody tr th {\n        vertical-align: top;\n    }\n\n    .dataframe thead th {\n        text-align: right;\n    }\n</style>\n<table border=\"1\" class=\"dataframe\">\n  <thead>\n    <tr style=\"text-align: right;\">\n      <th></th>\n      <th>Average Math Score</th>\n      <th>Average Reading Score</th>\n      <th>% Passing Math</th>\n      <th>% Passing Reading</th>\n      <th>% Overall Passing</th>\n    </tr>\n    <tr>\n      <th>School Size</th>\n      <th></th>\n      <th></th>\n      <th></th>\n      <th></th>\n      <th></th>\n    </tr>\n  </thead>\n  <tbody>\n    <tr>\n      <th>Small (&lt;1000)</th>\n      <td>83.821598</td>\n      <td>83.929843</td>\n      <td>93.550225</td>\n      <td>96.099437</td>\n      <td>89.883853</td>\n    </tr>\n    <tr>\n      <th>Medium (1000-2000)</th>\n      <td>83.374684</td>\n      <td>83.864438</td>\n      <td>93.599695</td>\n      <td>96.790680</td>\n      <td>90.621535</td>\n    </tr>\n    <tr>\n      <th>Large (2000-5000)</th>\n      <td>77.746417</td>\n      <td>81.344493</td>\n      <td>69.963361</td>\n      <td>82.766634</td>\n      <td>58.286003</td>\n    </tr>\n  </tbody>\n</table>\n</div>"
     },
     "execution_count": 78,
     "metadata": {},
     "output_type": "execute_result"
    }
   ],
   "source": [
    "# Create a DataFrame called `size_summary` that breaks down school performance based on school size (small, medium, or large).\n",
    "size_summary = pd.DataFrame({\n",
    "    'Average Math Score': size_math_scores,\n",
    "    'Average Reading Score': size_reading_scores,\n",
    "    '% Passing Math': size_passing_math,\n",
    "    '% Passing Reading': size_passing_reading,\n",
    "    '% Overall Passing': size_overall_passing,\n",
    "})\n",
    "\n",
    "# Formatting\n",
    "# size_summary[\"Average Math Score\"] = size_summary[\"Average Math Score\"].map(\"{:,.2f}\".format)\n",
    "# size_summary[\"Average Reading Score\"] = size_summary[\"Average Reading Score\"].map(\"{:,.2f}\".format)\n",
    "# size_summary[\"% Passing Math\"] = size_summary[\"% Passing Math\"].map(\"{:,.2f}%\".format)\n",
    "# size_summary[\"% Passing Reading\"] = size_summary[\"% Passing Reading\"].map(\"{:,.2f}%\".format)\n",
    "# size_summary[\"% Overall Passing\"] = size_summary[\"% Overall Passing\"].map(\"{:,.2f}%\".format)\n",
    "\n",
    "size_summary"
   ]
  },
  {
   "cell_type": "markdown",
   "metadata": {},
   "source": [
    "## Scores by School Type"
   ]
  },
  {
   "cell_type": "code",
   "execution_count": 79,
   "metadata": {
    "ExecuteTime": {
     "end_time": "2023-11-24T04:57:23.604145Z",
     "start_time": "2023-11-24T04:57:23.546999Z"
    }
   },
   "outputs": [],
   "source": [
    "# Group the per_school_summary DataFrame by \"School Type\" and average the results.\n",
    "average_math_score_by_type = per_school_summary.groupby([\"School Type\"])[\"Average Math Score\"].mean()\n",
    "average_reading_score_by_type = per_school_summary.groupby([\"School Type\"])[\"Average Reading Score\"].mean()\n",
    "average_percent_passing_math_by_type = per_school_summary.groupby([\"School Type\"])[\"% Passing Math\"].mean()\n",
    "average_percent_passing_reading_by_type = per_school_summary.groupby([\"School Type\"])[\"% Passing Reading\"].mean()\n",
    "average_percent_overall_passing_by_type = per_school_summary.groupby([\"School Type\"])[\"% Overall Passing\"].mean()"
   ]
  },
  {
   "cell_type": "code",
   "execution_count": 80,
   "metadata": {
    "ExecuteTime": {
     "end_time": "2023-11-24T04:57:23.604392Z",
     "start_time": "2023-11-24T04:57:23.550413Z"
    }
   },
   "outputs": [
    {
     "data": {
      "text/plain": "             Average Math Score  Average Reading Score  % Passing Math  \\\nSchool Type                                                              \nCharter               83.473852              83.896421       93.620830   \nDistrict              76.956733              80.966636       66.548453   \n\n             % Passing Reading  % Overall Passing  \nSchool Type                                        \nCharter              96.586489          90.432244  \nDistrict             80.799062          53.672208  ",
      "text/html": "<div>\n<style scoped>\n    .dataframe tbody tr th:only-of-type {\n        vertical-align: middle;\n    }\n\n    .dataframe tbody tr th {\n        vertical-align: top;\n    }\n\n    .dataframe thead th {\n        text-align: right;\n    }\n</style>\n<table border=\"1\" class=\"dataframe\">\n  <thead>\n    <tr style=\"text-align: right;\">\n      <th></th>\n      <th>Average Math Score</th>\n      <th>Average Reading Score</th>\n      <th>% Passing Math</th>\n      <th>% Passing Reading</th>\n      <th>% Overall Passing</th>\n    </tr>\n    <tr>\n      <th>School Type</th>\n      <th></th>\n      <th></th>\n      <th></th>\n      <th></th>\n      <th></th>\n    </tr>\n  </thead>\n  <tbody>\n    <tr>\n      <th>Charter</th>\n      <td>83.473852</td>\n      <td>83.896421</td>\n      <td>93.620830</td>\n      <td>96.586489</td>\n      <td>90.432244</td>\n    </tr>\n    <tr>\n      <th>District</th>\n      <td>76.956733</td>\n      <td>80.966636</td>\n      <td>66.548453</td>\n      <td>80.799062</td>\n      <td>53.672208</td>\n    </tr>\n  </tbody>\n</table>\n</div>"
     },
     "execution_count": 80,
     "metadata": {},
     "output_type": "execute_result"
    }
   ],
   "source": [
    "# Assemble the new data by type into a DataFrame called `type_summary`\n",
    "type_summary = pd.DataFrame({\n",
    "    'Average Math Score': average_math_score_by_type,\n",
    "    'Average Reading Score': average_reading_score_by_type,\n",
    "    '% Passing Math': average_percent_passing_math_by_type,\n",
    "    '% Passing Reading': average_percent_passing_reading_by_type,\n",
    "    '% Overall Passing': average_percent_overall_passing_by_type\n",
    "})\n",
    "\n",
    "# Formatting\n",
    "# type_summary[\"Average Math Score\"] = type_summary[\"Average Math Score\"].map(\"{:,.2f}\".format)\n",
    "# type_summary[\"Average Reading Score\"] = type_summary[\"Average Reading Score\"].map(\"{:,.2f}\".format)\n",
    "# type_summary[\"% Passing Math\"] = type_summary[\"% Passing Math\"].map(\"{:,.2f}%\".format)\n",
    "# type_summary[\"% Passing Reading\"] = type_summary[\"% Passing Reading\"].map(\"{:,.2f}%\".format)\n",
    "# type_summary[\"% Overall Passing\"] = type_summary[\"% Overall Passing\"].map(\"{:,.2f}%\".format)\n",
    "\n",
    "type_summary"
   ]
  }
 ],
 "metadata": {
  "anaconda-cloud": {},
  "kernel_info": {
   "name": "python3"
  },
  "kernelspec": {
   "display_name": "PythonData",
   "language": "python",
   "name": "python3"
  },
  "language_info": {
   "codemirror_mode": {
    "name": "ipython",
    "version": 3
   },
   "file_extension": ".py",
   "mimetype": "text/x-python",
   "name": "python",
   "nbconvert_exporter": "python",
   "pygments_lexer": "ipython3",
   "version": "3.10.9"
  },
  "latex_envs": {
   "LaTeX_envs_menu_present": true,
   "autoclose": false,
   "autocomplete": true,
   "bibliofile": "biblio.bib",
   "cite_by": "apalike",
   "current_citInitial": 1,
   "eqLabelWithNumbers": true,
   "eqNumInitial": 1,
   "hotkeys": {
    "equation": "Ctrl-E",
    "itemize": "Ctrl-I"
   },
   "labels_anchors": false,
   "latex_user_defs": false,
   "report_style_numbering": false,
   "user_envs_cfg": false
  },
  "nteract": {
   "version": "0.8.4"
  },
  "vscode": {
   "interpreter": {
    "hash": "5384d77d82de63fd599f73e77f9ec786e7719288bf80a29ec0288c670ac3cf32"
   }
  }
 },
 "nbformat": 4,
 "nbformat_minor": 4
}
